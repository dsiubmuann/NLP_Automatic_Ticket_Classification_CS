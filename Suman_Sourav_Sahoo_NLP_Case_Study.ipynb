{
  "cells": [
    {
      "cell_type": "markdown",
      "metadata": {
        "id": "view-in-github",
        "colab_type": "text"
      },
      "source": [
        "<a href=\"https://colab.research.google.com/github/dsiubmuann/NLP_Automatic_Ticket_Classification_CS/blob/main/Suman_Sourav_Sahoo_NLP_Case_Study.ipynb\" target=\"_parent\"><img src=\"https://colab.research.google.com/assets/colab-badge.svg\" alt=\"Open In Colab\"/></a>"
      ]
    },
    {
      "cell_type": "markdown",
      "id": "e0be8935",
      "metadata": {
        "id": "e0be8935",
        "papermill": {
          "duration": 0.139063,
          "end_time": "2022-02-23T03:16:36.507111",
          "exception": false,
          "start_time": "2022-02-23T03:16:36.368048",
          "status": "completed"
        },
        "tags": []
      },
      "source": [
        "## Automatic Ticket Classification Case Study :\n",
        "\n",
        "Submitted by: ***Suman Sourav Sahoo***\n",
        "\n",
        "\n",
        "### Problem Statement \n",
        "\n",
        "You need to build a model that is able to classify customer complaints based on the products/services. By doing so, you can segregate these tickets into their relevant categories and, therefore, help in the quick resolution of the issue.\n",
        "\n",
        "You will be doing topic modelling on the <b>.json</b> data provided by the company. Since this data is not labelled, you need to apply NMF to analyse patterns and classify tickets into the following five clusters based on their products/services:\n",
        "\n",
        "* Credit card / Prepaid card\n",
        "\n",
        "* Bank account services\n",
        "\n",
        "* Theft/Dispute reporting\n",
        "\n",
        "* Mortgages/loans\n",
        "\n",
        "* Others \n",
        "\n",
        "\n",
        "With the help of topic modelling, you will be able to map each ticket onto its respective department/category. You can then use this data to train any supervised model such as logistic regression, decision tree or random forest. Using this trained model, you can classify any new customer complaint support ticket into its relevant department."
      ]
    },
    {
      "cell_type": "markdown",
      "id": "fbe2f0d6",
      "metadata": {
        "id": "fbe2f0d6",
        "papermill": {
          "duration": 0.132278,
          "end_time": "2022-02-23T03:16:36.767990",
          "exception": false,
          "start_time": "2022-02-23T03:16:36.635712",
          "status": "completed"
        },
        "tags": []
      },
      "source": [
        "## Pipelines that need to be performed:\n",
        "\n",
        "You need to perform the following eight major tasks to complete the assignment:\n",
        "\n",
        "1.  Data loading\n",
        "\n",
        "2. Text preprocessing\n",
        "\n",
        "3. Exploratory data analysis (EDA)\n",
        "\n",
        "4. Feature extraction\n",
        "\n",
        "5. Topic modelling \n",
        "\n",
        "6. Model building using supervised learning\n",
        "\n",
        "7. Model training and evaluation\n",
        "\n",
        "8. Model inference"
      ]
    },
    {
      "cell_type": "markdown",
      "id": "102bab22",
      "metadata": {
        "id": "102bab22",
        "papermill": {
          "duration": 0.119251,
          "end_time": "2022-02-23T03:16:37.009906",
          "exception": false,
          "start_time": "2022-02-23T03:16:36.890655",
          "status": "completed"
        },
        "tags": []
      },
      "source": [
        "## Importing the necessary libraries"
      ]
    },
    {
      "cell_type": "code",
      "execution_count": null,
      "id": "603bbc92",
      "metadata": {
        "ExecuteTime": {
          "end_time": "2022-02-09T04:58:06.808196Z",
          "start_time": "2022-02-09T04:57:53.125444Z"
        },
        "execution": {
          "iopub.execute_input": "2022-02-23T03:16:37.265991Z",
          "iopub.status.busy": "2022-02-23T03:16:37.264673Z",
          "iopub.status.idle": "2022-02-23T03:16:52.555951Z",
          "shell.execute_reply": "2022-02-23T03:16:52.555024Z"
        },
        "id": "603bbc92",
        "papermill": {
          "duration": 15.421599,
          "end_time": "2022-02-23T03:16:52.556163",
          "exception": false,
          "start_time": "2022-02-23T03:16:37.134564",
          "status": "completed"
        },
        "tags": []
      },
      "outputs": [],
      "source": [
        "import json \n",
        "import numpy as np\n",
        "import pandas as pd\n",
        "import re, nltk, spacy, string\n",
        "import en_core_web_sm\n",
        "nlp = en_core_web_sm.load()\n",
        "import seaborn as sns\n",
        "import matplotlib.pyplot as plt\n",
        "%matplotlib inline\n",
        "\n",
        "from plotly.offline import plot\n",
        "import plotly.graph_objects as go\n",
        "import plotly.express as px\n",
        "\n",
        "from sklearn.feature_extraction.text import CountVectorizer, TfidfVectorizer, TfidfTransformer\n",
        "from sklearn.model_selection import train_test_split, cross_val_score\n",
        "from sklearn.model_selection import RandomizedSearchCV, GridSearchCV\n",
        "from sklearn.metrics import confusion_matrix, classification_report\n",
        "from sklearn.metrics import precision_score, recall_score, f1_score\n",
        "from sklearn.metrics import plot_roc_curve\n",
        "from pprint import pprint"
      ]
    },
    {
      "cell_type": "code",
      "execution_count": null,
      "id": "d3d2b3a4",
      "metadata": {
        "ExecuteTime": {
          "end_time": "2022-02-09T04:58:06.823852Z",
          "start_time": "2022-02-09T04:58:06.809818Z"
        },
        "execution": {
          "iopub.execute_input": "2022-02-23T03:16:52.811955Z",
          "iopub.status.busy": "2022-02-23T03:16:52.811215Z",
          "iopub.status.idle": "2022-02-23T03:16:52.815738Z",
          "shell.execute_reply": "2022-02-23T03:16:52.816309Z"
        },
        "papermill": {
          "duration": 0.137071,
          "end_time": "2022-02-23T03:16:52.816498",
          "exception": false,
          "start_time": "2022-02-23T03:16:52.679427",
          "status": "completed"
        },
        "tags": [],
        "id": "d3d2b3a4"
      },
      "outputs": [],
      "source": [
        "# Setting max rows and columns\n",
        "pd.set_option('max_columns', 50)\n",
        "pd.set_option('max_rows', 50)"
      ]
    },
    {
      "cell_type": "code",
      "execution_count": null,
      "id": "5f7b3bc6",
      "metadata": {
        "ExecuteTime": {
          "end_time": "2022-02-09T04:58:06.903496Z",
          "start_time": "2022-02-09T04:58:06.825818Z"
        },
        "execution": {
          "iopub.execute_input": "2022-02-23T03:16:53.076853Z",
          "iopub.status.busy": "2022-02-23T03:16:53.076159Z",
          "iopub.status.idle": "2022-02-23T03:16:53.133995Z",
          "shell.execute_reply": "2022-02-23T03:16:53.134613Z"
        },
        "papermill": {
          "duration": 0.190668,
          "end_time": "2022-02-23T03:16:53.134798",
          "exception": false,
          "start_time": "2022-02-23T03:16:52.944130",
          "status": "completed"
        },
        "tags": [],
        "id": "5f7b3bc6"
      },
      "outputs": [],
      "source": [
        "# Import Textblob for extracting noun phrases\n",
        "# !pip install textblob\n",
        "from textblob import TextBlob"
      ]
    },
    {
      "cell_type": "code",
      "execution_count": null,
      "id": "06c4ab7b",
      "metadata": {
        "ExecuteTime": {
          "end_time": "2022-02-09T04:58:06.949280Z",
          "start_time": "2022-02-09T04:58:06.905334Z"
        },
        "execution": {
          "iopub.execute_input": "2022-02-23T03:16:53.401851Z",
          "iopub.status.busy": "2022-02-23T03:16:53.401151Z",
          "iopub.status.idle": "2022-02-23T03:16:53.451299Z",
          "shell.execute_reply": "2022-02-23T03:16:53.451879Z"
        },
        "papermill": {
          "duration": 0.188044,
          "end_time": "2022-02-23T03:16:53.452077",
          "exception": false,
          "start_time": "2022-02-23T03:16:53.264033",
          "status": "completed"
        },
        "tags": [],
        "id": "06c4ab7b"
      },
      "outputs": [],
      "source": [
        "# Installing wordcloud\n",
        "# !pip install wordcloud\n",
        "\n",
        "from wordcloud import WordCloud, STOPWORDS, ImageColorGenerator"
      ]
    },
    {
      "cell_type": "code",
      "execution_count": null,
      "id": "38d68411",
      "metadata": {
        "ExecuteTime": {
          "end_time": "2022-02-09T04:58:06.964590Z",
          "start_time": "2022-02-09T04:58:06.952031Z"
        },
        "execution": {
          "iopub.execute_input": "2022-02-23T03:16:53.712380Z",
          "iopub.status.busy": "2022-02-23T03:16:53.711692Z",
          "iopub.status.idle": "2022-02-23T03:16:53.714967Z",
          "shell.execute_reply": "2022-02-23T03:16:53.715510Z"
        },
        "papermill": {
          "duration": 0.132658,
          "end_time": "2022-02-23T03:16:53.715691",
          "exception": false,
          "start_time": "2022-02-23T03:16:53.583033",
          "status": "completed"
        },
        "tags": [],
        "id": "38d68411"
      },
      "outputs": [],
      "source": [
        "# Import pickle to save and load the model\n",
        "import pickle"
      ]
    },
    {
      "cell_type": "code",
      "execution_count": null,
      "id": "362d8964",
      "metadata": {
        "ExecuteTime": {
          "end_time": "2022-02-09T04:58:07.371366Z",
          "start_time": "2022-02-09T04:58:06.966999Z"
        },
        "execution": {
          "iopub.execute_input": "2022-02-23T03:16:53.963302Z",
          "iopub.status.busy": "2022-02-23T03:16:53.962603Z",
          "iopub.status.idle": "2022-02-23T03:16:54.324844Z",
          "shell.execute_reply": "2022-02-23T03:16:54.324261Z"
        },
        "papermill": {
          "duration": 0.487206,
          "end_time": "2022-02-23T03:16:54.324993",
          "exception": false,
          "start_time": "2022-02-23T03:16:53.837787",
          "status": "completed"
        },
        "tags": [],
        "id": "362d8964",
        "outputId": "0b408b09-5a17-4b74-fabb-a250f01d237d",
        "colab": {
          "base_uri": "https://localhost:8080/"
        }
      },
      "outputs": [
        {
          "output_type": "stream",
          "name": "stderr",
          "text": [
            "[nltk_data] Downloading package punkt to /root/nltk_data...\n",
            "[nltk_data]   Unzipping tokenizers/punkt.zip.\n",
            "[nltk_data] Downloading package averaged_perceptron_tagger to\n",
            "[nltk_data]     /root/nltk_data...\n",
            "[nltk_data]   Unzipping taggers/averaged_perceptron_tagger.zip.\n"
          ]
        },
        {
          "output_type": "execute_result",
          "data": {
            "text/plain": [
              "True"
            ]
          },
          "metadata": {},
          "execution_count": 6
        }
      ],
      "source": [
        "import nltk\n",
        "nltk.download('punkt')\n",
        "nltk.download('averaged_perceptron_tagger')"
      ]
    },
    {
      "cell_type": "markdown",
      "id": "301c672a",
      "metadata": {
        "id": "301c672a",
        "papermill": {
          "duration": 0.132282,
          "end_time": "2022-02-23T03:16:54.587429",
          "exception": false,
          "start_time": "2022-02-23T03:16:54.455147",
          "status": "completed"
        },
        "tags": []
      },
      "source": [
        "## Loading the data\n",
        "\n",
        "The data is in JSON format and we need to convert it to a dataframe."
      ]
    },
    {
      "cell_type": "code",
      "source": [
        "pwd"
      ],
      "metadata": {
        "colab": {
          "base_uri": "https://localhost:8080/",
          "height": 36
        },
        "id": "IqPhxoURdcDR",
        "outputId": "f570cf76-c0c0-433d-c628-5eb8812e4f5f"
      },
      "id": "IqPhxoURdcDR",
      "execution_count": null,
      "outputs": [
        {
          "output_type": "execute_result",
          "data": {
            "text/plain": [
              "'/content'"
            ],
            "application/vnd.google.colaboratory.intrinsic+json": {
              "type": "string"
            }
          },
          "metadata": {},
          "execution_count": 11
        }
      ]
    },
    {
      "cell_type": "code",
      "source": [
        "from google.colab import drive\n",
        "drive.mount('/content/drive')"
      ],
      "metadata": {
        "id": "uKo-OHzKdvza",
        "colab": {
          "base_uri": "https://localhost:8080/"
        },
        "outputId": "aacb2941-9fb7-4b94-d2f5-9dfcdb9e2b4a"
      },
      "id": "uKo-OHzKdvza",
      "execution_count": 12,
      "outputs": [
        {
          "output_type": "stream",
          "name": "stdout",
          "text": [
            "Mounted at /content/drive\n"
          ]
        }
      ]
    },
    {
      "cell_type": "code",
      "execution_count": 19,
      "id": "26dfb5a1",
      "metadata": {
        "ExecuteTime": {
          "end_time": "2022-02-09T04:58:15.366446Z",
          "start_time": "2022-02-09T04:58:07.374481Z"
        },
        "execution": {
          "iopub.execute_input": "2022-02-23T03:16:54.855706Z",
          "iopub.status.busy": "2022-02-23T03:16:54.854535Z",
          "iopub.status.idle": "2022-02-23T03:16:59.658707Z",
          "shell.execute_reply": "2022-02-23T03:16:59.657962Z"
        },
        "id": "26dfb5a1",
        "papermill": {
          "duration": 4.938728,
          "end_time": "2022-02-23T03:16:59.658881",
          "exception": false,
          "start_time": "2022-02-23T03:16:54.720153",
          "status": "completed"
        },
        "tags": []
      },
      "outputs": [],
      "source": [
        "# Opening JSON file \n",
        "f = open('/content/drive/MyDrive/UpGrad docs/Upgrad/NLP/complaints.json') \n",
        "  \n",
        "# returns JSON object as a dictionary \n",
        "data = json.load(f)\n",
        "df=pd.json_normalize(data)"
      ]
    },
    {
      "cell_type": "markdown",
      "id": "2bd60add",
      "metadata": {
        "id": "2bd60add",
        "papermill": {
          "duration": 0.135078,
          "end_time": "2022-02-23T03:16:59.918957",
          "exception": false,
          "start_time": "2022-02-23T03:16:59.783879",
          "status": "completed"
        },
        "tags": []
      },
      "source": [
        "## Data preparation"
      ]
    },
    {
      "cell_type": "code",
      "execution_count": 20,
      "id": "e3ee1a9e",
      "metadata": {
        "ExecuteTime": {
          "end_time": "2022-02-09T04:58:15.571474Z",
          "start_time": "2022-02-09T04:58:15.369086Z"
        },
        "execution": {
          "iopub.execute_input": "2022-02-23T03:17:00.190908Z",
          "iopub.status.busy": "2022-02-23T03:17:00.190161Z",
          "iopub.status.idle": "2022-02-23T03:17:00.451499Z",
          "shell.execute_reply": "2022-02-23T03:17:00.450798Z"
        },
        "id": "e3ee1a9e",
        "papermill": {
          "duration": 0.397403,
          "end_time": "2022-02-23T03:17:00.451661",
          "exception": false,
          "start_time": "2022-02-23T03:17:00.054258",
          "status": "completed"
        },
        "tags": [],
        "outputId": "fc730f92-2a05-4966-8aa7-f943104e4ad5",
        "colab": {
          "base_uri": "https://localhost:8080/"
        }
      },
      "outputs": [
        {
          "output_type": "stream",
          "name": "stdout",
          "text": [
            "<class 'pandas.core.frame.DataFrame'>\n",
            "RangeIndex: 78313 entries, 0 to 78312\n",
            "Data columns (total 22 columns):\n",
            " #   Column                             Non-Null Count  Dtype  \n",
            "---  ------                             --------------  -----  \n",
            " 0   _index                             78313 non-null  object \n",
            " 1   _type                              78313 non-null  object \n",
            " 2   _id                                78313 non-null  object \n",
            " 3   _score                             78313 non-null  float64\n",
            " 4   _source.tags                       10900 non-null  object \n",
            " 5   _source.zip_code                   71556 non-null  object \n",
            " 6   _source.complaint_id               78313 non-null  object \n",
            " 7   _source.issue                      78313 non-null  object \n",
            " 8   _source.date_received              78313 non-null  object \n",
            " 9   _source.state                      76322 non-null  object \n",
            " 10  _source.consumer_disputed          78313 non-null  object \n",
            " 11  _source.product                    78313 non-null  object \n",
            " 12  _source.company_response           78313 non-null  object \n",
            " 13  _source.company                    78313 non-null  object \n",
            " 14  _source.submitted_via              78313 non-null  object \n",
            " 15  _source.date_sent_to_company       78313 non-null  object \n",
            " 16  _source.company_public_response    4 non-null      object \n",
            " 17  _source.sub_product                67742 non-null  object \n",
            " 18  _source.timely                     78313 non-null  object \n",
            " 19  _source.complaint_what_happened    78313 non-null  object \n",
            " 20  _source.sub_issue                  32016 non-null  object \n",
            " 21  _source.consumer_consent_provided  77305 non-null  object \n",
            "dtypes: float64(1), object(21)\n",
            "memory usage: 13.1+ MB\n"
          ]
        }
      ],
      "source": [
        "# Inspect the dataframe to understand the given data.\n",
        "df.info()"
      ]
    },
    {
      "cell_type": "code",
      "execution_count": 21,
      "id": "00b30c93",
      "metadata": {
        "ExecuteTime": {
          "end_time": "2022-02-09T04:58:15.617604Z",
          "start_time": "2022-02-09T04:58:15.573475Z"
        },
        "execution": {
          "iopub.execute_input": "2022-02-23T03:17:00.722104Z",
          "iopub.status.busy": "2022-02-23T03:17:00.721202Z",
          "iopub.status.idle": "2022-02-23T03:17:00.752108Z",
          "shell.execute_reply": "2022-02-23T03:17:00.752646Z"
        },
        "papermill": {
          "duration": 0.171222,
          "end_time": "2022-02-23T03:17:00.752967",
          "exception": false,
          "start_time": "2022-02-23T03:17:00.581745",
          "status": "completed"
        },
        "tags": [],
        "id": "00b30c93",
        "outputId": "94f4547b-b8c9-4978-f493-97951f4289be",
        "colab": {
          "base_uri": "https://localhost:8080/",
          "height": 426
        }
      },
      "outputs": [
        {
          "output_type": "execute_result",
          "data": {
            "text/plain": [
              "                _index      _type      _id  _score   _source.tags  \\\n",
              "0  complaint-public-v2  complaint  3211475     0.0           None   \n",
              "1  complaint-public-v2  complaint  3229299     0.0  Servicemember   \n",
              "2  complaint-public-v2  complaint  3199379     0.0           None   \n",
              "3  complaint-public-v2  complaint  2673060     0.0           None   \n",
              "4  complaint-public-v2  complaint  3203545     0.0           None   \n",
              "\n",
              "  _source.zip_code _source.complaint_id                       _source.issue  \\\n",
              "0            90301              3211475   Attempts to collect debt not owed   \n",
              "1            319XX              3229299     Written notification about debt   \n",
              "2            77069              3199379  Other features, terms, or problems   \n",
              "3            48066              2673060      Trouble during payment process   \n",
              "4            10473              3203545                    Fees or interest   \n",
              "\n",
              "       _source.date_received _source.state _source.consumer_disputed  \\\n",
              "0  2019-04-13T12:00:00-05:00            CA                       N/A   \n",
              "1  2019-05-01T12:00:00-05:00            GA                       N/A   \n",
              "2  2019-04-02T12:00:00-05:00            TX                       N/A   \n",
              "3  2017-09-13T12:00:00-05:00            MI                       N/A   \n",
              "4  2019-04-05T12:00:00-05:00            NY                       N/A   \n",
              "\n",
              "               _source.product _source.company_response       _source.company  \\\n",
              "0              Debt collection  Closed with explanation  JPMORGAN CHASE & CO.   \n",
              "1              Debt collection  Closed with explanation  JPMORGAN CHASE & CO.   \n",
              "2  Credit card or prepaid card  Closed with explanation  JPMORGAN CHASE & CO.   \n",
              "3                     Mortgage  Closed with explanation  JPMORGAN CHASE & CO.   \n",
              "4  Credit card or prepaid card  Closed with explanation  JPMORGAN CHASE & CO.   \n",
              "\n",
              "  _source.submitted_via _source.date_sent_to_company  \\\n",
              "0                   Web    2019-04-13T12:00:00-05:00   \n",
              "1                   Web    2019-05-01T12:00:00-05:00   \n",
              "2                   Web    2019-04-02T12:00:00-05:00   \n",
              "3                   Web    2017-09-14T12:00:00-05:00   \n",
              "4              Referral    2019-04-05T12:00:00-05:00   \n",
              "\n",
              "  _source.company_public_response                         _source.sub_product  \\\n",
              "0                            None                            Credit card debt   \n",
              "1                            None                            Credit card debt   \n",
              "2                            None  General-purpose credit card or charge card   \n",
              "3                            None                  Conventional home mortgage   \n",
              "4                            None  General-purpose credit card or charge card   \n",
              "\n",
              "  _source.timely                    _source.complaint_what_happened  \\\n",
              "0            Yes                                                      \n",
              "1            Yes  Good morning my name is XXXX XXXX and I apprec...   \n",
              "2            Yes  I upgraded my XXXX XXXX card in XX/XX/2018 and...   \n",
              "3            Yes                                                      \n",
              "4            Yes                                                      \n",
              "\n",
              "                                  _source.sub_issue  \\\n",
              "0                                 Debt is not yours   \n",
              "1  Didn't receive enough information to verify debt   \n",
              "2             Problem with rewards from credit card   \n",
              "3                                              None   \n",
              "4                         Charged too much interest   \n",
              "\n",
              "  _source.consumer_consent_provided  \n",
              "0              Consent not provided  \n",
              "1                  Consent provided  \n",
              "2                  Consent provided  \n",
              "3              Consent not provided  \n",
              "4                               N/A  "
            ],
            "text/html": [
              "\n",
              "  <div id=\"df-8762c5ed-0377-4e21-b12d-d7ee997b17c1\">\n",
              "    <div class=\"colab-df-container\">\n",
              "      <div>\n",
              "<style scoped>\n",
              "    .dataframe tbody tr th:only-of-type {\n",
              "        vertical-align: middle;\n",
              "    }\n",
              "\n",
              "    .dataframe tbody tr th {\n",
              "        vertical-align: top;\n",
              "    }\n",
              "\n",
              "    .dataframe thead th {\n",
              "        text-align: right;\n",
              "    }\n",
              "</style>\n",
              "<table border=\"1\" class=\"dataframe\">\n",
              "  <thead>\n",
              "    <tr style=\"text-align: right;\">\n",
              "      <th></th>\n",
              "      <th>_index</th>\n",
              "      <th>_type</th>\n",
              "      <th>_id</th>\n",
              "      <th>_score</th>\n",
              "      <th>_source.tags</th>\n",
              "      <th>_source.zip_code</th>\n",
              "      <th>_source.complaint_id</th>\n",
              "      <th>_source.issue</th>\n",
              "      <th>_source.date_received</th>\n",
              "      <th>_source.state</th>\n",
              "      <th>_source.consumer_disputed</th>\n",
              "      <th>_source.product</th>\n",
              "      <th>_source.company_response</th>\n",
              "      <th>_source.company</th>\n",
              "      <th>_source.submitted_via</th>\n",
              "      <th>_source.date_sent_to_company</th>\n",
              "      <th>_source.company_public_response</th>\n",
              "      <th>_source.sub_product</th>\n",
              "      <th>_source.timely</th>\n",
              "      <th>_source.complaint_what_happened</th>\n",
              "      <th>_source.sub_issue</th>\n",
              "      <th>_source.consumer_consent_provided</th>\n",
              "    </tr>\n",
              "  </thead>\n",
              "  <tbody>\n",
              "    <tr>\n",
              "      <th>0</th>\n",
              "      <td>complaint-public-v2</td>\n",
              "      <td>complaint</td>\n",
              "      <td>3211475</td>\n",
              "      <td>0.0</td>\n",
              "      <td>None</td>\n",
              "      <td>90301</td>\n",
              "      <td>3211475</td>\n",
              "      <td>Attempts to collect debt not owed</td>\n",
              "      <td>2019-04-13T12:00:00-05:00</td>\n",
              "      <td>CA</td>\n",
              "      <td>N/A</td>\n",
              "      <td>Debt collection</td>\n",
              "      <td>Closed with explanation</td>\n",
              "      <td>JPMORGAN CHASE &amp; CO.</td>\n",
              "      <td>Web</td>\n",
              "      <td>2019-04-13T12:00:00-05:00</td>\n",
              "      <td>None</td>\n",
              "      <td>Credit card debt</td>\n",
              "      <td>Yes</td>\n",
              "      <td></td>\n",
              "      <td>Debt is not yours</td>\n",
              "      <td>Consent not provided</td>\n",
              "    </tr>\n",
              "    <tr>\n",
              "      <th>1</th>\n",
              "      <td>complaint-public-v2</td>\n",
              "      <td>complaint</td>\n",
              "      <td>3229299</td>\n",
              "      <td>0.0</td>\n",
              "      <td>Servicemember</td>\n",
              "      <td>319XX</td>\n",
              "      <td>3229299</td>\n",
              "      <td>Written notification about debt</td>\n",
              "      <td>2019-05-01T12:00:00-05:00</td>\n",
              "      <td>GA</td>\n",
              "      <td>N/A</td>\n",
              "      <td>Debt collection</td>\n",
              "      <td>Closed with explanation</td>\n",
              "      <td>JPMORGAN CHASE &amp; CO.</td>\n",
              "      <td>Web</td>\n",
              "      <td>2019-05-01T12:00:00-05:00</td>\n",
              "      <td>None</td>\n",
              "      <td>Credit card debt</td>\n",
              "      <td>Yes</td>\n",
              "      <td>Good morning my name is XXXX XXXX and I apprec...</td>\n",
              "      <td>Didn't receive enough information to verify debt</td>\n",
              "      <td>Consent provided</td>\n",
              "    </tr>\n",
              "    <tr>\n",
              "      <th>2</th>\n",
              "      <td>complaint-public-v2</td>\n",
              "      <td>complaint</td>\n",
              "      <td>3199379</td>\n",
              "      <td>0.0</td>\n",
              "      <td>None</td>\n",
              "      <td>77069</td>\n",
              "      <td>3199379</td>\n",
              "      <td>Other features, terms, or problems</td>\n",
              "      <td>2019-04-02T12:00:00-05:00</td>\n",
              "      <td>TX</td>\n",
              "      <td>N/A</td>\n",
              "      <td>Credit card or prepaid card</td>\n",
              "      <td>Closed with explanation</td>\n",
              "      <td>JPMORGAN CHASE &amp; CO.</td>\n",
              "      <td>Web</td>\n",
              "      <td>2019-04-02T12:00:00-05:00</td>\n",
              "      <td>None</td>\n",
              "      <td>General-purpose credit card or charge card</td>\n",
              "      <td>Yes</td>\n",
              "      <td>I upgraded my XXXX XXXX card in XX/XX/2018 and...</td>\n",
              "      <td>Problem with rewards from credit card</td>\n",
              "      <td>Consent provided</td>\n",
              "    </tr>\n",
              "    <tr>\n",
              "      <th>3</th>\n",
              "      <td>complaint-public-v2</td>\n",
              "      <td>complaint</td>\n",
              "      <td>2673060</td>\n",
              "      <td>0.0</td>\n",
              "      <td>None</td>\n",
              "      <td>48066</td>\n",
              "      <td>2673060</td>\n",
              "      <td>Trouble during payment process</td>\n",
              "      <td>2017-09-13T12:00:00-05:00</td>\n",
              "      <td>MI</td>\n",
              "      <td>N/A</td>\n",
              "      <td>Mortgage</td>\n",
              "      <td>Closed with explanation</td>\n",
              "      <td>JPMORGAN CHASE &amp; CO.</td>\n",
              "      <td>Web</td>\n",
              "      <td>2017-09-14T12:00:00-05:00</td>\n",
              "      <td>None</td>\n",
              "      <td>Conventional home mortgage</td>\n",
              "      <td>Yes</td>\n",
              "      <td></td>\n",
              "      <td>None</td>\n",
              "      <td>Consent not provided</td>\n",
              "    </tr>\n",
              "    <tr>\n",
              "      <th>4</th>\n",
              "      <td>complaint-public-v2</td>\n",
              "      <td>complaint</td>\n",
              "      <td>3203545</td>\n",
              "      <td>0.0</td>\n",
              "      <td>None</td>\n",
              "      <td>10473</td>\n",
              "      <td>3203545</td>\n",
              "      <td>Fees or interest</td>\n",
              "      <td>2019-04-05T12:00:00-05:00</td>\n",
              "      <td>NY</td>\n",
              "      <td>N/A</td>\n",
              "      <td>Credit card or prepaid card</td>\n",
              "      <td>Closed with explanation</td>\n",
              "      <td>JPMORGAN CHASE &amp; CO.</td>\n",
              "      <td>Referral</td>\n",
              "      <td>2019-04-05T12:00:00-05:00</td>\n",
              "      <td>None</td>\n",
              "      <td>General-purpose credit card or charge card</td>\n",
              "      <td>Yes</td>\n",
              "      <td></td>\n",
              "      <td>Charged too much interest</td>\n",
              "      <td>N/A</td>\n",
              "    </tr>\n",
              "  </tbody>\n",
              "</table>\n",
              "</div>\n",
              "      <button class=\"colab-df-convert\" onclick=\"convertToInteractive('df-8762c5ed-0377-4e21-b12d-d7ee997b17c1')\"\n",
              "              title=\"Convert this dataframe to an interactive table.\"\n",
              "              style=\"display:none;\">\n",
              "        \n",
              "  <svg xmlns=\"http://www.w3.org/2000/svg\" height=\"24px\"viewBox=\"0 0 24 24\"\n",
              "       width=\"24px\">\n",
              "    <path d=\"M0 0h24v24H0V0z\" fill=\"none\"/>\n",
              "    <path d=\"M18.56 5.44l.94 2.06.94-2.06 2.06-.94-2.06-.94-.94-2.06-.94 2.06-2.06.94zm-11 1L8.5 8.5l.94-2.06 2.06-.94-2.06-.94L8.5 2.5l-.94 2.06-2.06.94zm10 10l.94 2.06.94-2.06 2.06-.94-2.06-.94-.94-2.06-.94 2.06-2.06.94z\"/><path d=\"M17.41 7.96l-1.37-1.37c-.4-.4-.92-.59-1.43-.59-.52 0-1.04.2-1.43.59L10.3 9.45l-7.72 7.72c-.78.78-.78 2.05 0 2.83L4 21.41c.39.39.9.59 1.41.59.51 0 1.02-.2 1.41-.59l7.78-7.78 2.81-2.81c.8-.78.8-2.07 0-2.86zM5.41 20L4 18.59l7.72-7.72 1.47 1.35L5.41 20z\"/>\n",
              "  </svg>\n",
              "      </button>\n",
              "      \n",
              "  <style>\n",
              "    .colab-df-container {\n",
              "      display:flex;\n",
              "      flex-wrap:wrap;\n",
              "      gap: 12px;\n",
              "    }\n",
              "\n",
              "    .colab-df-convert {\n",
              "      background-color: #E8F0FE;\n",
              "      border: none;\n",
              "      border-radius: 50%;\n",
              "      cursor: pointer;\n",
              "      display: none;\n",
              "      fill: #1967D2;\n",
              "      height: 32px;\n",
              "      padding: 0 0 0 0;\n",
              "      width: 32px;\n",
              "    }\n",
              "\n",
              "    .colab-df-convert:hover {\n",
              "      background-color: #E2EBFA;\n",
              "      box-shadow: 0px 1px 2px rgba(60, 64, 67, 0.3), 0px 1px 3px 1px rgba(60, 64, 67, 0.15);\n",
              "      fill: #174EA6;\n",
              "    }\n",
              "\n",
              "    [theme=dark] .colab-df-convert {\n",
              "      background-color: #3B4455;\n",
              "      fill: #D2E3FC;\n",
              "    }\n",
              "\n",
              "    [theme=dark] .colab-df-convert:hover {\n",
              "      background-color: #434B5C;\n",
              "      box-shadow: 0px 1px 3px 1px rgba(0, 0, 0, 0.15);\n",
              "      filter: drop-shadow(0px 1px 2px rgba(0, 0, 0, 0.3));\n",
              "      fill: #FFFFFF;\n",
              "    }\n",
              "  </style>\n",
              "\n",
              "      <script>\n",
              "        const buttonEl =\n",
              "          document.querySelector('#df-8762c5ed-0377-4e21-b12d-d7ee997b17c1 button.colab-df-convert');\n",
              "        buttonEl.style.display =\n",
              "          google.colab.kernel.accessAllowed ? 'block' : 'none';\n",
              "\n",
              "        async function convertToInteractive(key) {\n",
              "          const element = document.querySelector('#df-8762c5ed-0377-4e21-b12d-d7ee997b17c1');\n",
              "          const dataTable =\n",
              "            await google.colab.kernel.invokeFunction('convertToInteractive',\n",
              "                                                     [key], {});\n",
              "          if (!dataTable) return;\n",
              "\n",
              "          const docLinkHtml = 'Like what you see? Visit the ' +\n",
              "            '<a target=\"_blank\" href=https://colab.research.google.com/notebooks/data_table.ipynb>data table notebook</a>'\n",
              "            + ' to learn more about interactive tables.';\n",
              "          element.innerHTML = '';\n",
              "          dataTable['output_type'] = 'display_data';\n",
              "          await google.colab.output.renderOutput(dataTable, element);\n",
              "          const docLink = document.createElement('div');\n",
              "          docLink.innerHTML = docLinkHtml;\n",
              "          element.appendChild(docLink);\n",
              "        }\n",
              "      </script>\n",
              "    </div>\n",
              "  </div>\n",
              "  "
            ]
          },
          "metadata": {},
          "execution_count": 21
        }
      ],
      "source": [
        "# Print top 5 rows of the data\n",
        "df.head()"
      ]
    },
    {
      "cell_type": "code",
      "execution_count": 22,
      "id": "03c1a35c",
      "metadata": {
        "ExecuteTime": {
          "end_time": "2022-02-09T04:58:15.633475Z",
          "start_time": "2022-02-09T04:58:15.619472Z"
        },
        "execution": {
          "iopub.execute_input": "2022-02-23T03:17:01.037921Z",
          "iopub.status.busy": "2022-02-23T03:17:01.037014Z",
          "iopub.status.idle": "2022-02-23T03:17:01.043300Z",
          "shell.execute_reply": "2022-02-23T03:17:01.045144Z"
        },
        "id": "03c1a35c",
        "papermill": {
          "duration": 0.148201,
          "end_time": "2022-02-23T03:17:01.045505",
          "exception": false,
          "start_time": "2022-02-23T03:17:00.897304",
          "status": "completed"
        },
        "tags": [],
        "outputId": "fb1232cd-de1f-4c13-a59d-7ae27462a9a0",
        "colab": {
          "base_uri": "https://localhost:8080/"
        }
      },
      "outputs": [
        {
          "output_type": "stream",
          "name": "stdout",
          "text": [
            "Index(['_index', '_type', '_id', '_score', '_source.tags', '_source.zip_code',\n",
            "       '_source.complaint_id', '_source.issue', '_source.date_received',\n",
            "       '_source.state', '_source.consumer_disputed', '_source.product',\n",
            "       '_source.company_response', '_source.company', '_source.submitted_via',\n",
            "       '_source.date_sent_to_company', '_source.company_public_response',\n",
            "       '_source.sub_product', '_source.timely',\n",
            "       '_source.complaint_what_happened', '_source.sub_issue',\n",
            "       '_source.consumer_consent_provided'],\n",
            "      dtype='object')\n"
          ]
        }
      ],
      "source": [
        "#print the column names\n",
        "pprint(df.columns)"
      ]
    },
    {
      "cell_type": "code",
      "execution_count": 23,
      "id": "1fdc26e3",
      "metadata": {
        "ExecuteTime": {
          "end_time": "2022-02-09T04:58:15.648808Z",
          "start_time": "2022-02-09T04:58:15.634472Z"
        },
        "execution": {
          "iopub.execute_input": "2022-02-23T03:17:01.317082Z",
          "iopub.status.busy": "2022-02-23T03:17:01.315782Z",
          "iopub.status.idle": "2022-02-23T03:17:01.321400Z",
          "shell.execute_reply": "2022-02-23T03:17:01.321929Z"
        },
        "id": "1fdc26e3",
        "papermill": {
          "duration": 0.141891,
          "end_time": "2022-02-23T03:17:01.322138",
          "exception": false,
          "start_time": "2022-02-23T03:17:01.180247",
          "status": "completed"
        },
        "tags": []
      },
      "outputs": [],
      "source": [
        "#Assign new column names\n",
        "df.columns = ['index', 'type', 'id', 'score', 'tags', 'zip_code','complaint_id', 'issue', 'date_received',\n",
        "       'state', 'consumer_disputed', 'product','company_response', 'company', 'submitted_via',\n",
        "       'date_sent_to_company', 'company_public_response','sub_product', 'timely',\n",
        "       'complaint_what_happened', 'sub_issue','consumer_consent_provided']"
      ]
    },
    {
      "cell_type": "code",
      "execution_count": 24,
      "id": "4c42f0ed",
      "metadata": {
        "ExecuteTime": {
          "end_time": "2022-02-09T04:58:15.804175Z",
          "start_time": "2022-02-09T04:58:15.650809Z"
        },
        "execution": {
          "iopub.execute_input": "2022-02-23T03:17:01.641975Z",
          "iopub.status.busy": "2022-02-23T03:17:01.641164Z",
          "iopub.status.idle": "2022-02-23T03:17:01.926051Z",
          "shell.execute_reply": "2022-02-23T03:17:01.926604Z"
        },
        "id": "4c42f0ed",
        "papermill": {
          "duration": 0.448982,
          "end_time": "2022-02-23T03:17:01.926789",
          "exception": false,
          "start_time": "2022-02-23T03:17:01.477807",
          "status": "completed"
        },
        "tags": []
      },
      "outputs": [],
      "source": [
        "#Assign nan in place of blanks in the complaints column\n",
        "df[df.loc[:, 'complaint_what_happened'] == ''] = np.nan"
      ]
    },
    {
      "cell_type": "code",
      "execution_count": 25,
      "id": "50aad223",
      "metadata": {
        "ExecuteTime": {
          "end_time": "2022-02-09T04:58:15.836210Z",
          "start_time": "2022-02-09T04:58:15.807212Z"
        },
        "execution": {
          "iopub.execute_input": "2022-02-23T03:17:02.249318Z",
          "iopub.status.busy": "2022-02-23T03:17:02.248282Z",
          "iopub.status.idle": "2022-02-23T03:17:02.278632Z",
          "shell.execute_reply": "2022-02-23T03:17:02.279271Z"
        },
        "papermill": {
          "duration": 0.195163,
          "end_time": "2022-02-23T03:17:02.279455",
          "exception": false,
          "start_time": "2022-02-23T03:17:02.084292",
          "status": "completed"
        },
        "tags": [],
        "id": "50aad223",
        "outputId": "0f2a58c5-82e1-4b89-87b7-524173567bcf",
        "colab": {
          "base_uri": "https://localhost:8080/",
          "height": 113
        }
      },
      "outputs": [
        {
          "output_type": "execute_result",
          "data": {
            "text/plain": [
              "Empty DataFrame\n",
              "Columns: [index, type, id, score, tags, zip_code, complaint_id, issue, date_received, state, consumer_disputed, product, company_response, company, submitted_via, date_sent_to_company, company_public_response, sub_product, timely, complaint_what_happened, sub_issue, consumer_consent_provided]\n",
              "Index: []"
            ],
            "text/html": [
              "\n",
              "  <div id=\"df-7e1c5d7f-8261-4294-b0fe-00411a1cc121\">\n",
              "    <div class=\"colab-df-container\">\n",
              "      <div>\n",
              "<style scoped>\n",
              "    .dataframe tbody tr th:only-of-type {\n",
              "        vertical-align: middle;\n",
              "    }\n",
              "\n",
              "    .dataframe tbody tr th {\n",
              "        vertical-align: top;\n",
              "    }\n",
              "\n",
              "    .dataframe thead th {\n",
              "        text-align: right;\n",
              "    }\n",
              "</style>\n",
              "<table border=\"1\" class=\"dataframe\">\n",
              "  <thead>\n",
              "    <tr style=\"text-align: right;\">\n",
              "      <th></th>\n",
              "      <th>index</th>\n",
              "      <th>type</th>\n",
              "      <th>id</th>\n",
              "      <th>score</th>\n",
              "      <th>tags</th>\n",
              "      <th>zip_code</th>\n",
              "      <th>complaint_id</th>\n",
              "      <th>issue</th>\n",
              "      <th>date_received</th>\n",
              "      <th>state</th>\n",
              "      <th>consumer_disputed</th>\n",
              "      <th>product</th>\n",
              "      <th>company_response</th>\n",
              "      <th>company</th>\n",
              "      <th>submitted_via</th>\n",
              "      <th>date_sent_to_company</th>\n",
              "      <th>company_public_response</th>\n",
              "      <th>sub_product</th>\n",
              "      <th>timely</th>\n",
              "      <th>complaint_what_happened</th>\n",
              "      <th>sub_issue</th>\n",
              "      <th>consumer_consent_provided</th>\n",
              "    </tr>\n",
              "  </thead>\n",
              "  <tbody>\n",
              "  </tbody>\n",
              "</table>\n",
              "</div>\n",
              "      <button class=\"colab-df-convert\" onclick=\"convertToInteractive('df-7e1c5d7f-8261-4294-b0fe-00411a1cc121')\"\n",
              "              title=\"Convert this dataframe to an interactive table.\"\n",
              "              style=\"display:none;\">\n",
              "        \n",
              "  <svg xmlns=\"http://www.w3.org/2000/svg\" height=\"24px\"viewBox=\"0 0 24 24\"\n",
              "       width=\"24px\">\n",
              "    <path d=\"M0 0h24v24H0V0z\" fill=\"none\"/>\n",
              "    <path d=\"M18.56 5.44l.94 2.06.94-2.06 2.06-.94-2.06-.94-.94-2.06-.94 2.06-2.06.94zm-11 1L8.5 8.5l.94-2.06 2.06-.94-2.06-.94L8.5 2.5l-.94 2.06-2.06.94zm10 10l.94 2.06.94-2.06 2.06-.94-2.06-.94-.94-2.06-.94 2.06-2.06.94z\"/><path d=\"M17.41 7.96l-1.37-1.37c-.4-.4-.92-.59-1.43-.59-.52 0-1.04.2-1.43.59L10.3 9.45l-7.72 7.72c-.78.78-.78 2.05 0 2.83L4 21.41c.39.39.9.59 1.41.59.51 0 1.02-.2 1.41-.59l7.78-7.78 2.81-2.81c.8-.78.8-2.07 0-2.86zM5.41 20L4 18.59l7.72-7.72 1.47 1.35L5.41 20z\"/>\n",
              "  </svg>\n",
              "      </button>\n",
              "      \n",
              "  <style>\n",
              "    .colab-df-container {\n",
              "      display:flex;\n",
              "      flex-wrap:wrap;\n",
              "      gap: 12px;\n",
              "    }\n",
              "\n",
              "    .colab-df-convert {\n",
              "      background-color: #E8F0FE;\n",
              "      border: none;\n",
              "      border-radius: 50%;\n",
              "      cursor: pointer;\n",
              "      display: none;\n",
              "      fill: #1967D2;\n",
              "      height: 32px;\n",
              "      padding: 0 0 0 0;\n",
              "      width: 32px;\n",
              "    }\n",
              "\n",
              "    .colab-df-convert:hover {\n",
              "      background-color: #E2EBFA;\n",
              "      box-shadow: 0px 1px 2px rgba(60, 64, 67, 0.3), 0px 1px 3px 1px rgba(60, 64, 67, 0.15);\n",
              "      fill: #174EA6;\n",
              "    }\n",
              "\n",
              "    [theme=dark] .colab-df-convert {\n",
              "      background-color: #3B4455;\n",
              "      fill: #D2E3FC;\n",
              "    }\n",
              "\n",
              "    [theme=dark] .colab-df-convert:hover {\n",
              "      background-color: #434B5C;\n",
              "      box-shadow: 0px 1px 3px 1px rgba(0, 0, 0, 0.15);\n",
              "      filter: drop-shadow(0px 1px 2px rgba(0, 0, 0, 0.3));\n",
              "      fill: #FFFFFF;\n",
              "    }\n",
              "  </style>\n",
              "\n",
              "      <script>\n",
              "        const buttonEl =\n",
              "          document.querySelector('#df-7e1c5d7f-8261-4294-b0fe-00411a1cc121 button.colab-df-convert');\n",
              "        buttonEl.style.display =\n",
              "          google.colab.kernel.accessAllowed ? 'block' : 'none';\n",
              "\n",
              "        async function convertToInteractive(key) {\n",
              "          const element = document.querySelector('#df-7e1c5d7f-8261-4294-b0fe-00411a1cc121');\n",
              "          const dataTable =\n",
              "            await google.colab.kernel.invokeFunction('convertToInteractive',\n",
              "                                                     [key], {});\n",
              "          if (!dataTable) return;\n",
              "\n",
              "          const docLinkHtml = 'Like what you see? Visit the ' +\n",
              "            '<a target=\"_blank\" href=https://colab.research.google.com/notebooks/data_table.ipynb>data table notebook</a>'\n",
              "            + ' to learn more about interactive tables.';\n",
              "          element.innerHTML = '';\n",
              "          dataTable['output_type'] = 'display_data';\n",
              "          await google.colab.output.renderOutput(dataTable, element);\n",
              "          const docLink = document.createElement('div');\n",
              "          docLink.innerHTML = docLinkHtml;\n",
              "          element.appendChild(docLink);\n",
              "        }\n",
              "      </script>\n",
              "    </div>\n",
              "  </div>\n",
              "  "
            ]
          },
          "metadata": {},
          "execution_count": 25
        }
      ],
      "source": [
        "# Check if blank values still exist\n",
        "df[df.loc[:, 'complaint_what_happened'] == '']"
      ]
    },
    {
      "cell_type": "code",
      "execution_count": 26,
      "id": "34ca32e5",
      "metadata": {
        "ExecuteTime": {
          "end_time": "2022-02-09T04:58:15.852355Z",
          "start_time": "2022-02-09T04:58:15.838213Z"
        },
        "execution": {
          "iopub.execute_input": "2022-02-23T03:17:02.571881Z",
          "iopub.status.busy": "2022-02-23T03:17:02.570698Z",
          "iopub.status.idle": "2022-02-23T03:17:02.574920Z",
          "shell.execute_reply": "2022-02-23T03:17:02.575454Z"
        },
        "papermill": {
          "duration": 0.154559,
          "end_time": "2022-02-23T03:17:02.575639",
          "exception": false,
          "start_time": "2022-02-23T03:17:02.421080",
          "status": "completed"
        },
        "tags": [],
        "id": "34ca32e5",
        "outputId": "31fc491c-c4bc-40c7-a8b4-cbe7c5b68bf0",
        "colab": {
          "base_uri": "https://localhost:8080/"
        }
      },
      "outputs": [
        {
          "output_type": "execute_result",
          "data": {
            "text/plain": [
              "(78313, 22)"
            ]
          },
          "metadata": {},
          "execution_count": 26
        }
      ],
      "source": [
        "df.shape"
      ]
    },
    {
      "cell_type": "code",
      "execution_count": 27,
      "id": "f9d031c0",
      "metadata": {
        "ExecuteTime": {
          "end_time": "2022-02-09T04:58:15.884350Z",
          "start_time": "2022-02-09T04:58:15.854730Z"
        },
        "execution": {
          "iopub.execute_input": "2022-02-23T03:17:02.863488Z",
          "iopub.status.busy": "2022-02-23T03:17:02.862260Z",
          "iopub.status.idle": "2022-02-23T03:17:02.894664Z",
          "shell.execute_reply": "2022-02-23T03:17:02.893672Z"
        },
        "id": "f9d031c0",
        "papermill": {
          "duration": 0.175711,
          "end_time": "2022-02-23T03:17:02.894891",
          "exception": false,
          "start_time": "2022-02-23T03:17:02.719180",
          "status": "completed"
        },
        "tags": []
      },
      "outputs": [],
      "source": [
        "#Remove all rows where complaints column is nan\n",
        "df = df[~df['complaint_what_happened'].isnull()]"
      ]
    },
    {
      "cell_type": "code",
      "execution_count": 28,
      "id": "e6798ebd",
      "metadata": {
        "ExecuteTime": {
          "end_time": "2022-02-09T04:58:15.900210Z",
          "start_time": "2022-02-09T04:58:15.886244Z"
        },
        "execution": {
          "iopub.execute_input": "2022-02-23T03:17:03.195044Z",
          "iopub.status.busy": "2022-02-23T03:17:03.193871Z",
          "iopub.status.idle": "2022-02-23T03:17:03.200105Z",
          "shell.execute_reply": "2022-02-23T03:17:03.200678Z"
        },
        "papermill": {
          "duration": 0.157691,
          "end_time": "2022-02-23T03:17:03.200888",
          "exception": false,
          "start_time": "2022-02-23T03:17:03.043197",
          "status": "completed"
        },
        "tags": [],
        "id": "e6798ebd",
        "outputId": "07e0b914-390e-4283-b1f5-81c92536d289",
        "colab": {
          "base_uri": "https://localhost:8080/"
        }
      },
      "outputs": [
        {
          "output_type": "execute_result",
          "data": {
            "text/plain": [
              "(21072, 22)"
            ]
          },
          "metadata": {},
          "execution_count": 28
        }
      ],
      "source": [
        "df.shape"
      ]
    },
    {
      "cell_type": "markdown",
      "id": "877e8896",
      "metadata": {
        "id": "877e8896",
        "papermill": {
          "duration": 0.131913,
          "end_time": "2022-02-23T03:17:03.485078",
          "exception": false,
          "start_time": "2022-02-23T03:17:03.353165",
          "status": "completed"
        },
        "tags": []
      },
      "source": [
        "## Prepare the text for topic modeling\n",
        "\n",
        "Once you have removed all the blank complaints, you need to:\n",
        "\n",
        "* Make the text lowercase\n",
        "* Remove text in square brackets\n",
        "* Remove punctuation\n",
        "* Remove words containing numbers\n",
        "\n",
        "\n",
        "Once you have done these cleaning operations you need to perform the following:\n",
        "* Lemmatize the texts\n",
        "* Use POS tags to get relevant words from the texts.\n"
      ]
    },
    {
      "cell_type": "code",
      "execution_count": 29,
      "id": "159fee5e",
      "metadata": {
        "ExecuteTime": {
          "end_time": "2022-02-09T04:58:15.915309Z",
          "start_time": "2022-02-09T04:58:15.902246Z"
        },
        "execution": {
          "iopub.execute_input": "2022-02-23T03:17:03.779128Z",
          "iopub.status.busy": "2022-02-23T03:17:03.778320Z",
          "iopub.status.idle": "2022-02-23T03:17:03.781172Z",
          "shell.execute_reply": "2022-02-23T03:17:03.781779Z"
        },
        "papermill": {
          "duration": 0.153128,
          "end_time": "2022-02-23T03:17:03.782031",
          "exception": false,
          "start_time": "2022-02-23T03:17:03.628903",
          "status": "completed"
        },
        "tags": [],
        "id": "159fee5e"
      },
      "outputs": [],
      "source": [
        "# Convert complaint_what_happened column to string for performing text operations\n",
        "df['complaint_what_happened'] = df['complaint_what_happened'].astype(str)"
      ]
    },
    {
      "cell_type": "code",
      "execution_count": 30,
      "id": "a5330f9f",
      "metadata": {
        "ExecuteTime": {
          "end_time": "2022-02-09T04:58:15.931352Z",
          "start_time": "2022-02-09T04:58:15.917214Z"
        },
        "execution": {
          "iopub.execute_input": "2022-02-23T03:17:04.071752Z",
          "iopub.status.busy": "2022-02-23T03:17:04.070744Z",
          "iopub.status.idle": "2022-02-23T03:17:04.077218Z",
          "shell.execute_reply": "2022-02-23T03:17:04.077723Z"
        },
        "id": "a5330f9f",
        "papermill": {
          "duration": 0.153725,
          "end_time": "2022-02-23T03:17:04.077935",
          "exception": false,
          "start_time": "2022-02-23T03:17:03.924210",
          "status": "completed"
        },
        "tags": []
      },
      "outputs": [],
      "source": [
        "# Write your function here to clean the text and remove all the unnecessary elements.\n",
        "def clean_text(sent):\n",
        "    sent = sent.lower() # Text to lowercase\n",
        "    pattern = '[^\\w\\s]' # Removing punctuation\n",
        "    sent = re.sub(pattern, '', sent) \n",
        "    pattern = '\\w*\\d\\w*' # Removing words with numbers in between\n",
        "    sent = re.sub(pattern, '', sent) \n",
        "    return sent"
      ]
    },
    {
      "cell_type": "code",
      "execution_count": 31,
      "id": "e6a54202",
      "metadata": {
        "ExecuteTime": {
          "end_time": "2022-02-09T04:58:19.775258Z",
          "start_time": "2022-02-09T04:58:15.933208Z"
        },
        "execution": {
          "iopub.execute_input": "2022-02-23T03:17:04.363144Z",
          "iopub.status.busy": "2022-02-23T03:17:04.362337Z",
          "iopub.status.idle": "2022-02-23T03:17:11.660294Z",
          "shell.execute_reply": "2022-02-23T03:17:11.660883Z"
        },
        "papermill": {
          "duration": 7.441271,
          "end_time": "2022-02-23T03:17:11.661065",
          "exception": false,
          "start_time": "2022-02-23T03:17:04.219794",
          "status": "completed"
        },
        "tags": [],
        "id": "e6a54202"
      },
      "outputs": [],
      "source": [
        "df_clean = pd.DataFrame(df['complaint_what_happened'].apply(clean_text))\n",
        "# df_clean.columns = ['complaint_what_happened']"
      ]
    },
    {
      "cell_type": "code",
      "execution_count": 32,
      "id": "26426b25",
      "metadata": {
        "ExecuteTime": {
          "end_time": "2022-02-09T04:58:19.790099Z",
          "start_time": "2022-02-09T04:58:19.777097Z"
        },
        "execution": {
          "iopub.execute_input": "2022-02-23T03:17:11.935122Z",
          "iopub.status.busy": "2022-02-23T03:17:11.934388Z",
          "iopub.status.idle": "2022-02-23T03:17:11.944692Z",
          "shell.execute_reply": "2022-02-23T03:17:11.945276Z"
        },
        "papermill": {
          "duration": 0.151132,
          "end_time": "2022-02-23T03:17:11.945453",
          "exception": false,
          "start_time": "2022-02-23T03:17:11.794321",
          "status": "completed"
        },
        "tags": [],
        "id": "26426b25",
        "outputId": "ffabc088-3463-4447-d181-8f60c842f349",
        "colab": {
          "base_uri": "https://localhost:8080/",
          "height": 424
        }
      },
      "outputs": [
        {
          "output_type": "execute_result",
          "data": {
            "text/plain": [
              "                                 complaint_what_happened\n",
              "1      good morning my name is xxxx xxxx and i apprec...\n",
              "2      i upgraded my xxxx xxxx card in  and was told ...\n",
              "10     chase card was reported on  however fraudulent...\n",
              "11     on  while trying to book a xxxx  xxxx  ticket ...\n",
              "14     my grand son give me check for  i deposit it i...\n",
              "...                                                  ...\n",
              "78303  after being a chase card customer for well ove...\n",
              "78309  on wednesday xxxxxxxx i called chas my xxxx xx...\n",
              "78310  i am not familiar with xxxx pay and did not un...\n",
              "78311  i have had flawless credit for  yrs ive had ch...\n",
              "78312  roughly  years ago i closed out my accounts wi...\n",
              "\n",
              "[21072 rows x 1 columns]"
            ],
            "text/html": [
              "\n",
              "  <div id=\"df-fd4d5ce7-83fd-4825-a22a-1355da1d98cf\">\n",
              "    <div class=\"colab-df-container\">\n",
              "      <div>\n",
              "<style scoped>\n",
              "    .dataframe tbody tr th:only-of-type {\n",
              "        vertical-align: middle;\n",
              "    }\n",
              "\n",
              "    .dataframe tbody tr th {\n",
              "        vertical-align: top;\n",
              "    }\n",
              "\n",
              "    .dataframe thead th {\n",
              "        text-align: right;\n",
              "    }\n",
              "</style>\n",
              "<table border=\"1\" class=\"dataframe\">\n",
              "  <thead>\n",
              "    <tr style=\"text-align: right;\">\n",
              "      <th></th>\n",
              "      <th>complaint_what_happened</th>\n",
              "    </tr>\n",
              "  </thead>\n",
              "  <tbody>\n",
              "    <tr>\n",
              "      <th>1</th>\n",
              "      <td>good morning my name is xxxx xxxx and i apprec...</td>\n",
              "    </tr>\n",
              "    <tr>\n",
              "      <th>2</th>\n",
              "      <td>i upgraded my xxxx xxxx card in  and was told ...</td>\n",
              "    </tr>\n",
              "    <tr>\n",
              "      <th>10</th>\n",
              "      <td>chase card was reported on  however fraudulent...</td>\n",
              "    </tr>\n",
              "    <tr>\n",
              "      <th>11</th>\n",
              "      <td>on  while trying to book a xxxx  xxxx  ticket ...</td>\n",
              "    </tr>\n",
              "    <tr>\n",
              "      <th>14</th>\n",
              "      <td>my grand son give me check for  i deposit it i...</td>\n",
              "    </tr>\n",
              "    <tr>\n",
              "      <th>...</th>\n",
              "      <td>...</td>\n",
              "    </tr>\n",
              "    <tr>\n",
              "      <th>78303</th>\n",
              "      <td>after being a chase card customer for well ove...</td>\n",
              "    </tr>\n",
              "    <tr>\n",
              "      <th>78309</th>\n",
              "      <td>on wednesday xxxxxxxx i called chas my xxxx xx...</td>\n",
              "    </tr>\n",
              "    <tr>\n",
              "      <th>78310</th>\n",
              "      <td>i am not familiar with xxxx pay and did not un...</td>\n",
              "    </tr>\n",
              "    <tr>\n",
              "      <th>78311</th>\n",
              "      <td>i have had flawless credit for  yrs ive had ch...</td>\n",
              "    </tr>\n",
              "    <tr>\n",
              "      <th>78312</th>\n",
              "      <td>roughly  years ago i closed out my accounts wi...</td>\n",
              "    </tr>\n",
              "  </tbody>\n",
              "</table>\n",
              "<p>21072 rows × 1 columns</p>\n",
              "</div>\n",
              "      <button class=\"colab-df-convert\" onclick=\"convertToInteractive('df-fd4d5ce7-83fd-4825-a22a-1355da1d98cf')\"\n",
              "              title=\"Convert this dataframe to an interactive table.\"\n",
              "              style=\"display:none;\">\n",
              "        \n",
              "  <svg xmlns=\"http://www.w3.org/2000/svg\" height=\"24px\"viewBox=\"0 0 24 24\"\n",
              "       width=\"24px\">\n",
              "    <path d=\"M0 0h24v24H0V0z\" fill=\"none\"/>\n",
              "    <path d=\"M18.56 5.44l.94 2.06.94-2.06 2.06-.94-2.06-.94-.94-2.06-.94 2.06-2.06.94zm-11 1L8.5 8.5l.94-2.06 2.06-.94-2.06-.94L8.5 2.5l-.94 2.06-2.06.94zm10 10l.94 2.06.94-2.06 2.06-.94-2.06-.94-.94-2.06-.94 2.06-2.06.94z\"/><path d=\"M17.41 7.96l-1.37-1.37c-.4-.4-.92-.59-1.43-.59-.52 0-1.04.2-1.43.59L10.3 9.45l-7.72 7.72c-.78.78-.78 2.05 0 2.83L4 21.41c.39.39.9.59 1.41.59.51 0 1.02-.2 1.41-.59l7.78-7.78 2.81-2.81c.8-.78.8-2.07 0-2.86zM5.41 20L4 18.59l7.72-7.72 1.47 1.35L5.41 20z\"/>\n",
              "  </svg>\n",
              "      </button>\n",
              "      \n",
              "  <style>\n",
              "    .colab-df-container {\n",
              "      display:flex;\n",
              "      flex-wrap:wrap;\n",
              "      gap: 12px;\n",
              "    }\n",
              "\n",
              "    .colab-df-convert {\n",
              "      background-color: #E8F0FE;\n",
              "      border: none;\n",
              "      border-radius: 50%;\n",
              "      cursor: pointer;\n",
              "      display: none;\n",
              "      fill: #1967D2;\n",
              "      height: 32px;\n",
              "      padding: 0 0 0 0;\n",
              "      width: 32px;\n",
              "    }\n",
              "\n",
              "    .colab-df-convert:hover {\n",
              "      background-color: #E2EBFA;\n",
              "      box-shadow: 0px 1px 2px rgba(60, 64, 67, 0.3), 0px 1px 3px 1px rgba(60, 64, 67, 0.15);\n",
              "      fill: #174EA6;\n",
              "    }\n",
              "\n",
              "    [theme=dark] .colab-df-convert {\n",
              "      background-color: #3B4455;\n",
              "      fill: #D2E3FC;\n",
              "    }\n",
              "\n",
              "    [theme=dark] .colab-df-convert:hover {\n",
              "      background-color: #434B5C;\n",
              "      box-shadow: 0px 1px 3px 1px rgba(0, 0, 0, 0.15);\n",
              "      filter: drop-shadow(0px 1px 2px rgba(0, 0, 0, 0.3));\n",
              "      fill: #FFFFFF;\n",
              "    }\n",
              "  </style>\n",
              "\n",
              "      <script>\n",
              "        const buttonEl =\n",
              "          document.querySelector('#df-fd4d5ce7-83fd-4825-a22a-1355da1d98cf button.colab-df-convert');\n",
              "        buttonEl.style.display =\n",
              "          google.colab.kernel.accessAllowed ? 'block' : 'none';\n",
              "\n",
              "        async function convertToInteractive(key) {\n",
              "          const element = document.querySelector('#df-fd4d5ce7-83fd-4825-a22a-1355da1d98cf');\n",
              "          const dataTable =\n",
              "            await google.colab.kernel.invokeFunction('convertToInteractive',\n",
              "                                                     [key], {});\n",
              "          if (!dataTable) return;\n",
              "\n",
              "          const docLinkHtml = 'Like what you see? Visit the ' +\n",
              "            '<a target=\"_blank\" href=https://colab.research.google.com/notebooks/data_table.ipynb>data table notebook</a>'\n",
              "            + ' to learn more about interactive tables.';\n",
              "          element.innerHTML = '';\n",
              "          dataTable['output_type'] = 'display_data';\n",
              "          await google.colab.output.renderOutput(dataTable, element);\n",
              "          const docLink = document.createElement('div');\n",
              "          docLink.innerHTML = docLinkHtml;\n",
              "          element.appendChild(docLink);\n",
              "        }\n",
              "      </script>\n",
              "    </div>\n",
              "  </div>\n",
              "  "
            ]
          },
          "metadata": {},
          "execution_count": 32
        }
      ],
      "source": [
        "df_clean"
      ]
    },
    {
      "cell_type": "code",
      "execution_count": 33,
      "id": "2f1f3d75",
      "metadata": {
        "ExecuteTime": {
          "end_time": "2022-02-09T04:58:19.805235Z",
          "start_time": "2022-02-09T04:58:19.792098Z"
        },
        "execution": {
          "iopub.execute_input": "2022-02-23T03:17:12.219650Z",
          "iopub.status.busy": "2022-02-23T03:17:12.218951Z",
          "iopub.status.idle": "2022-02-23T03:17:12.221678Z",
          "shell.execute_reply": "2022-02-23T03:17:12.221169Z"
        },
        "id": "2f1f3d75",
        "papermill": {
          "duration": 0.140736,
          "end_time": "2022-02-23T03:17:12.221846",
          "exception": false,
          "start_time": "2022-02-23T03:17:12.081110",
          "status": "completed"
        },
        "tags": []
      },
      "outputs": [],
      "source": [
        "#Write your function to Lemmatize the texts\n",
        "def lemmmatize_text(text):\n",
        "    sent = []\n",
        "    doc = nlp(text)\n",
        "    for token in doc:\n",
        "        sent.append(token.lemma_)\n",
        "    return \" \".join(sent)"
      ]
    },
    {
      "cell_type": "code",
      "execution_count": 34,
      "id": "b36f0c84",
      "metadata": {
        "ExecuteTime": {
          "end_time": "2022-02-09T05:11:30.577410Z",
          "start_time": "2022-02-09T04:58:19.811267Z"
        },
        "execution": {
          "iopub.execute_input": "2022-02-23T03:17:12.509284Z",
          "iopub.status.busy": "2022-02-23T03:17:12.508233Z",
          "iopub.status.idle": "2022-02-23T03:34:46.991020Z",
          "shell.execute_reply": "2022-02-23T03:34:46.989794Z"
        },
        "id": "b36f0c84",
        "papermill": {
          "duration": 1054.633148,
          "end_time": "2022-02-23T03:34:46.991456",
          "exception": false,
          "start_time": "2022-02-23T03:17:12.358308",
          "status": "completed"
        },
        "tags": []
      },
      "outputs": [],
      "source": [
        "#Create a dataframe('df_clean') that will have only the complaints and the lemmatized complaints \n",
        "df_clean['complaint_lemmatized'] = df_clean['complaint_what_happened'].apply(lemmmatize_text)"
      ]
    },
    {
      "cell_type": "code",
      "execution_count": 35,
      "id": "8e1788e3",
      "metadata": {
        "ExecuteTime": {
          "end_time": "2022-02-09T05:11:30.607226Z",
          "start_time": "2022-02-09T05:11:30.581227Z"
        },
        "execution": {
          "iopub.execute_input": "2022-02-23T03:34:47.288193Z",
          "iopub.status.busy": "2022-02-23T03:34:47.287342Z",
          "iopub.status.idle": "2022-02-23T03:34:47.291420Z",
          "shell.execute_reply": "2022-02-23T03:34:47.290774Z"
        },
        "id": "8e1788e3",
        "papermill": {
          "duration": 0.156709,
          "end_time": "2022-02-23T03:34:47.291584",
          "exception": false,
          "start_time": "2022-02-23T03:34:47.134875",
          "status": "completed"
        },
        "tags": [],
        "outputId": "73f5c5f8-30ee-4102-88f1-7d788f4560db",
        "colab": {
          "base_uri": "https://localhost:8080/",
          "height": 424
        }
      },
      "outputs": [
        {
          "output_type": "execute_result",
          "data": {
            "text/plain": [
              "                                 complaint_what_happened  \\\n",
              "1      good morning my name is xxxx xxxx and i apprec...   \n",
              "2      i upgraded my xxxx xxxx card in  and was told ...   \n",
              "10     chase card was reported on  however fraudulent...   \n",
              "11     on  while trying to book a xxxx  xxxx  ticket ...   \n",
              "14     my grand son give me check for  i deposit it i...   \n",
              "...                                                  ...   \n",
              "78303  after being a chase card customer for well ove...   \n",
              "78309  on wednesday xxxxxxxx i called chas my xxxx xx...   \n",
              "78310  i am not familiar with xxxx pay and did not un...   \n",
              "78311  i have had flawless credit for  yrs ive had ch...   \n",
              "78312  roughly  years ago i closed out my accounts wi...   \n",
              "\n",
              "                                    complaint_lemmatized  \n",
              "1      good morning my name be xxxx xxxx and I apprec...  \n",
              "2      I upgrade my xxxx xxxx card in   and be tell b...  \n",
              "10     chase card be report on   however fraudulent a...  \n",
              "11     on   while try to book a xxxx   xxxx   ticket ...  \n",
              "14     my grand son give I check for   I deposit it i...  \n",
              "...                                                  ...  \n",
              "78303  after be a chase card customer for well over a...  \n",
              "78309  on wednesday xxxxxxxx I call cha my xxxx xxxx ...  \n",
              "78310  I be not familiar with xxxx pay and do not und...  \n",
              "78311  I have have flawless credit for   yrs I ve hav...  \n",
              "78312  roughly   year ago I close out my account with...  \n",
              "\n",
              "[21072 rows x 2 columns]"
            ],
            "text/html": [
              "\n",
              "  <div id=\"df-804c4e9b-699b-4a3b-9a99-04a05840558f\">\n",
              "    <div class=\"colab-df-container\">\n",
              "      <div>\n",
              "<style scoped>\n",
              "    .dataframe tbody tr th:only-of-type {\n",
              "        vertical-align: middle;\n",
              "    }\n",
              "\n",
              "    .dataframe tbody tr th {\n",
              "        vertical-align: top;\n",
              "    }\n",
              "\n",
              "    .dataframe thead th {\n",
              "        text-align: right;\n",
              "    }\n",
              "</style>\n",
              "<table border=\"1\" class=\"dataframe\">\n",
              "  <thead>\n",
              "    <tr style=\"text-align: right;\">\n",
              "      <th></th>\n",
              "      <th>complaint_what_happened</th>\n",
              "      <th>complaint_lemmatized</th>\n",
              "    </tr>\n",
              "  </thead>\n",
              "  <tbody>\n",
              "    <tr>\n",
              "      <th>1</th>\n",
              "      <td>good morning my name is xxxx xxxx and i apprec...</td>\n",
              "      <td>good morning my name be xxxx xxxx and I apprec...</td>\n",
              "    </tr>\n",
              "    <tr>\n",
              "      <th>2</th>\n",
              "      <td>i upgraded my xxxx xxxx card in  and was told ...</td>\n",
              "      <td>I upgrade my xxxx xxxx card in   and be tell b...</td>\n",
              "    </tr>\n",
              "    <tr>\n",
              "      <th>10</th>\n",
              "      <td>chase card was reported on  however fraudulent...</td>\n",
              "      <td>chase card be report on   however fraudulent a...</td>\n",
              "    </tr>\n",
              "    <tr>\n",
              "      <th>11</th>\n",
              "      <td>on  while trying to book a xxxx  xxxx  ticket ...</td>\n",
              "      <td>on   while try to book a xxxx   xxxx   ticket ...</td>\n",
              "    </tr>\n",
              "    <tr>\n",
              "      <th>14</th>\n",
              "      <td>my grand son give me check for  i deposit it i...</td>\n",
              "      <td>my grand son give I check for   I deposit it i...</td>\n",
              "    </tr>\n",
              "    <tr>\n",
              "      <th>...</th>\n",
              "      <td>...</td>\n",
              "      <td>...</td>\n",
              "    </tr>\n",
              "    <tr>\n",
              "      <th>78303</th>\n",
              "      <td>after being a chase card customer for well ove...</td>\n",
              "      <td>after be a chase card customer for well over a...</td>\n",
              "    </tr>\n",
              "    <tr>\n",
              "      <th>78309</th>\n",
              "      <td>on wednesday xxxxxxxx i called chas my xxxx xx...</td>\n",
              "      <td>on wednesday xxxxxxxx I call cha my xxxx xxxx ...</td>\n",
              "    </tr>\n",
              "    <tr>\n",
              "      <th>78310</th>\n",
              "      <td>i am not familiar with xxxx pay and did not un...</td>\n",
              "      <td>I be not familiar with xxxx pay and do not und...</td>\n",
              "    </tr>\n",
              "    <tr>\n",
              "      <th>78311</th>\n",
              "      <td>i have had flawless credit for  yrs ive had ch...</td>\n",
              "      <td>I have have flawless credit for   yrs I ve hav...</td>\n",
              "    </tr>\n",
              "    <tr>\n",
              "      <th>78312</th>\n",
              "      <td>roughly  years ago i closed out my accounts wi...</td>\n",
              "      <td>roughly   year ago I close out my account with...</td>\n",
              "    </tr>\n",
              "  </tbody>\n",
              "</table>\n",
              "<p>21072 rows × 2 columns</p>\n",
              "</div>\n",
              "      <button class=\"colab-df-convert\" onclick=\"convertToInteractive('df-804c4e9b-699b-4a3b-9a99-04a05840558f')\"\n",
              "              title=\"Convert this dataframe to an interactive table.\"\n",
              "              style=\"display:none;\">\n",
              "        \n",
              "  <svg xmlns=\"http://www.w3.org/2000/svg\" height=\"24px\"viewBox=\"0 0 24 24\"\n",
              "       width=\"24px\">\n",
              "    <path d=\"M0 0h24v24H0V0z\" fill=\"none\"/>\n",
              "    <path d=\"M18.56 5.44l.94 2.06.94-2.06 2.06-.94-2.06-.94-.94-2.06-.94 2.06-2.06.94zm-11 1L8.5 8.5l.94-2.06 2.06-.94-2.06-.94L8.5 2.5l-.94 2.06-2.06.94zm10 10l.94 2.06.94-2.06 2.06-.94-2.06-.94-.94-2.06-.94 2.06-2.06.94z\"/><path d=\"M17.41 7.96l-1.37-1.37c-.4-.4-.92-.59-1.43-.59-.52 0-1.04.2-1.43.59L10.3 9.45l-7.72 7.72c-.78.78-.78 2.05 0 2.83L4 21.41c.39.39.9.59 1.41.59.51 0 1.02-.2 1.41-.59l7.78-7.78 2.81-2.81c.8-.78.8-2.07 0-2.86zM5.41 20L4 18.59l7.72-7.72 1.47 1.35L5.41 20z\"/>\n",
              "  </svg>\n",
              "      </button>\n",
              "      \n",
              "  <style>\n",
              "    .colab-df-container {\n",
              "      display:flex;\n",
              "      flex-wrap:wrap;\n",
              "      gap: 12px;\n",
              "    }\n",
              "\n",
              "    .colab-df-convert {\n",
              "      background-color: #E8F0FE;\n",
              "      border: none;\n",
              "      border-radius: 50%;\n",
              "      cursor: pointer;\n",
              "      display: none;\n",
              "      fill: #1967D2;\n",
              "      height: 32px;\n",
              "      padding: 0 0 0 0;\n",
              "      width: 32px;\n",
              "    }\n",
              "\n",
              "    .colab-df-convert:hover {\n",
              "      background-color: #E2EBFA;\n",
              "      box-shadow: 0px 1px 2px rgba(60, 64, 67, 0.3), 0px 1px 3px 1px rgba(60, 64, 67, 0.15);\n",
              "      fill: #174EA6;\n",
              "    }\n",
              "\n",
              "    [theme=dark] .colab-df-convert {\n",
              "      background-color: #3B4455;\n",
              "      fill: #D2E3FC;\n",
              "    }\n",
              "\n",
              "    [theme=dark] .colab-df-convert:hover {\n",
              "      background-color: #434B5C;\n",
              "      box-shadow: 0px 1px 3px 1px rgba(0, 0, 0, 0.15);\n",
              "      filter: drop-shadow(0px 1px 2px rgba(0, 0, 0, 0.3));\n",
              "      fill: #FFFFFF;\n",
              "    }\n",
              "  </style>\n",
              "\n",
              "      <script>\n",
              "        const buttonEl =\n",
              "          document.querySelector('#df-804c4e9b-699b-4a3b-9a99-04a05840558f button.colab-df-convert');\n",
              "        buttonEl.style.display =\n",
              "          google.colab.kernel.accessAllowed ? 'block' : 'none';\n",
              "\n",
              "        async function convertToInteractive(key) {\n",
              "          const element = document.querySelector('#df-804c4e9b-699b-4a3b-9a99-04a05840558f');\n",
              "          const dataTable =\n",
              "            await google.colab.kernel.invokeFunction('convertToInteractive',\n",
              "                                                     [key], {});\n",
              "          if (!dataTable) return;\n",
              "\n",
              "          const docLinkHtml = 'Like what you see? Visit the ' +\n",
              "            '<a target=\"_blank\" href=https://colab.research.google.com/notebooks/data_table.ipynb>data table notebook</a>'\n",
              "            + ' to learn more about interactive tables.';\n",
              "          element.innerHTML = '';\n",
              "          dataTable['output_type'] = 'display_data';\n",
              "          await google.colab.output.renderOutput(dataTable, element);\n",
              "          const docLink = document.createElement('div');\n",
              "          docLink.innerHTML = docLinkHtml;\n",
              "          element.appendChild(docLink);\n",
              "        }\n",
              "      </script>\n",
              "    </div>\n",
              "  </div>\n",
              "  "
            ]
          },
          "metadata": {},
          "execution_count": 35
        }
      ],
      "source": [
        "df_clean"
      ]
    },
    {
      "cell_type": "code",
      "execution_count": 36,
      "id": "ce610ac6",
      "metadata": {
        "ExecuteTime": {
          "end_time": "2022-02-09T05:11:30.623269Z",
          "start_time": "2022-02-09T05:11:30.609228Z"
        },
        "execution": {
          "iopub.execute_input": "2022-02-23T03:34:47.573403Z",
          "iopub.status.busy": "2022-02-23T03:34:47.572577Z",
          "iopub.status.idle": "2022-02-23T03:34:47.576287Z",
          "shell.execute_reply": "2022-02-23T03:34:47.575459Z"
        },
        "id": "ce610ac6",
        "papermill": {
          "duration": 0.142502,
          "end_time": "2022-02-23T03:34:47.576474",
          "exception": false,
          "start_time": "2022-02-23T03:34:47.433972",
          "status": "completed"
        },
        "tags": []
      },
      "outputs": [],
      "source": [
        "#Write your function to extract the POS tags \n",
        "def get_POS_tags(text):\n",
        "    sent = []\n",
        "    blob = TextBlob(text)\n",
        "    sent = [word for (word,tag) in blob.tags if tag=='NN']\n",
        "    return \" \".join(sent)"
      ]
    },
    {
      "cell_type": "code",
      "execution_count": 37,
      "id": "f8a3e90c",
      "metadata": {
        "ExecuteTime": {
          "end_time": "2022-02-09T05:16:20.793980Z",
          "start_time": "2022-02-09T05:11:30.625226Z"
        },
        "execution": {
          "iopub.execute_input": "2022-02-23T03:34:47.871868Z",
          "iopub.status.busy": "2022-02-23T03:34:47.871134Z",
          "iopub.status.idle": "2022-02-23T03:40:50.996199Z",
          "shell.execute_reply": "2022-02-23T03:40:50.995511Z"
        },
        "papermill": {
          "duration": 363.271802,
          "end_time": "2022-02-23T03:40:50.996388",
          "exception": false,
          "start_time": "2022-02-23T03:34:47.724586",
          "status": "completed"
        },
        "tags": [],
        "id": "f8a3e90c"
      },
      "outputs": [],
      "source": [
        "# Extract Complaint after removing POS tags\n",
        "df_clean['complaint_POS_removed'] = df_clean['complaint_lemmatized'].apply(get_POS_tags)"
      ]
    },
    {
      "cell_type": "code",
      "execution_count": 38,
      "id": "ff98d306",
      "metadata": {
        "ExecuteTime": {
          "end_time": "2022-02-09T05:16:20.809611Z",
          "start_time": "2022-02-09T05:16:20.795887Z"
        },
        "execution": {
          "iopub.execute_input": "2022-02-23T03:40:51.274710Z",
          "iopub.status.busy": "2022-02-23T03:40:51.273917Z",
          "iopub.status.idle": "2022-02-23T03:40:51.287507Z",
          "shell.execute_reply": "2022-02-23T03:40:51.288024Z"
        },
        "id": "ff98d306",
        "papermill": {
          "duration": 0.153051,
          "end_time": "2022-02-23T03:40:51.288220",
          "exception": false,
          "start_time": "2022-02-23T03:40:51.135169",
          "status": "completed"
        },
        "tags": [],
        "outputId": "324828b6-c675-4d27-89c1-da9442622dcb",
        "colab": {
          "base_uri": "https://localhost:8080/",
          "height": 424
        }
      },
      "outputs": [
        {
          "output_type": "execute_result",
          "data": {
            "text/plain": [
              "                                 complaint_what_happened  \\\n",
              "1      good morning my name is xxxx xxxx and i apprec...   \n",
              "2      i upgraded my xxxx xxxx card in  and was told ...   \n",
              "10     chase card was reported on  however fraudulent...   \n",
              "11     on  while trying to book a xxxx  xxxx  ticket ...   \n",
              "14     my grand son give me check for  i deposit it i...   \n",
              "...                                                  ...   \n",
              "78303  after being a chase card customer for well ove...   \n",
              "78309  on wednesday xxxxxxxx i called chas my xxxx xx...   \n",
              "78310  i am not familiar with xxxx pay and did not un...   \n",
              "78311  i have had flawless credit for  yrs ive had ch...   \n",
              "78312  roughly  years ago i closed out my accounts wi...   \n",
              "\n",
              "                                    complaint_lemmatized  \\\n",
              "1      good morning my name be xxxx xxxx and I apprec...   \n",
              "2      I upgrade my xxxx xxxx card in   and be tell b...   \n",
              "10     chase card be report on   however fraudulent a...   \n",
              "11     on   while try to book a xxxx   xxxx   ticket ...   \n",
              "14     my grand son give I check for   I deposit it i...   \n",
              "...                                                  ...   \n",
              "78303  after be a chase card customer for well over a...   \n",
              "78309  on wednesday xxxxxxxx I call cha my xxxx xxxx ...   \n",
              "78310  I be not familiar with xxxx pay and do not und...   \n",
              "78311  I have have flawless credit for   yrs I ve hav...   \n",
              "78312  roughly   year ago I close out my account with...   \n",
              "\n",
              "                                   complaint_POS_removed  \n",
              "1      morning name stop bank cardmember service ask ...  \n",
              "2      card agent upgrade date agent information orde...  \n",
              "10     card report application identity consent servi...  \n",
              "11     try book xxxx ticket offer ticket card informa...  \n",
              "14     son chase account fund bank account pay money ...  \n",
              "...                                                  ...  \n",
              "78303  card customer decade solicitation credit card ...  \n",
              "78309  visa credit card provider claim purchase prote...  \n",
              "78310  pay risk provide consumer bank app chase year ...  \n",
              "78311  credit yrs credit card chase freedom xxxx prob...  \n",
              "78312  year account jp bank xxxx order line credit ac...  \n",
              "\n",
              "[21072 rows x 3 columns]"
            ],
            "text/html": [
              "\n",
              "  <div id=\"df-8d064291-7be8-4ab2-9e1d-1a9f63dee731\">\n",
              "    <div class=\"colab-df-container\">\n",
              "      <div>\n",
              "<style scoped>\n",
              "    .dataframe tbody tr th:only-of-type {\n",
              "        vertical-align: middle;\n",
              "    }\n",
              "\n",
              "    .dataframe tbody tr th {\n",
              "        vertical-align: top;\n",
              "    }\n",
              "\n",
              "    .dataframe thead th {\n",
              "        text-align: right;\n",
              "    }\n",
              "</style>\n",
              "<table border=\"1\" class=\"dataframe\">\n",
              "  <thead>\n",
              "    <tr style=\"text-align: right;\">\n",
              "      <th></th>\n",
              "      <th>complaint_what_happened</th>\n",
              "      <th>complaint_lemmatized</th>\n",
              "      <th>complaint_POS_removed</th>\n",
              "    </tr>\n",
              "  </thead>\n",
              "  <tbody>\n",
              "    <tr>\n",
              "      <th>1</th>\n",
              "      <td>good morning my name is xxxx xxxx and i apprec...</td>\n",
              "      <td>good morning my name be xxxx xxxx and I apprec...</td>\n",
              "      <td>morning name stop bank cardmember service ask ...</td>\n",
              "    </tr>\n",
              "    <tr>\n",
              "      <th>2</th>\n",
              "      <td>i upgraded my xxxx xxxx card in  and was told ...</td>\n",
              "      <td>I upgrade my xxxx xxxx card in   and be tell b...</td>\n",
              "      <td>card agent upgrade date agent information orde...</td>\n",
              "    </tr>\n",
              "    <tr>\n",
              "      <th>10</th>\n",
              "      <td>chase card was reported on  however fraudulent...</td>\n",
              "      <td>chase card be report on   however fraudulent a...</td>\n",
              "      <td>card report application identity consent servi...</td>\n",
              "    </tr>\n",
              "    <tr>\n",
              "      <th>11</th>\n",
              "      <td>on  while trying to book a xxxx  xxxx  ticket ...</td>\n",
              "      <td>on   while try to book a xxxx   xxxx   ticket ...</td>\n",
              "      <td>try book xxxx ticket offer ticket card informa...</td>\n",
              "    </tr>\n",
              "    <tr>\n",
              "      <th>14</th>\n",
              "      <td>my grand son give me check for  i deposit it i...</td>\n",
              "      <td>my grand son give I check for   I deposit it i...</td>\n",
              "      <td>son chase account fund bank account pay money ...</td>\n",
              "    </tr>\n",
              "    <tr>\n",
              "      <th>...</th>\n",
              "      <td>...</td>\n",
              "      <td>...</td>\n",
              "      <td>...</td>\n",
              "    </tr>\n",
              "    <tr>\n",
              "      <th>78303</th>\n",
              "      <td>after being a chase card customer for well ove...</td>\n",
              "      <td>after be a chase card customer for well over a...</td>\n",
              "      <td>card customer decade solicitation credit card ...</td>\n",
              "    </tr>\n",
              "    <tr>\n",
              "      <th>78309</th>\n",
              "      <td>on wednesday xxxxxxxx i called chas my xxxx xx...</td>\n",
              "      <td>on wednesday xxxxxxxx I call cha my xxxx xxxx ...</td>\n",
              "      <td>visa credit card provider claim purchase prote...</td>\n",
              "    </tr>\n",
              "    <tr>\n",
              "      <th>78310</th>\n",
              "      <td>i am not familiar with xxxx pay and did not un...</td>\n",
              "      <td>I be not familiar with xxxx pay and do not und...</td>\n",
              "      <td>pay risk provide consumer bank app chase year ...</td>\n",
              "    </tr>\n",
              "    <tr>\n",
              "      <th>78311</th>\n",
              "      <td>i have had flawless credit for  yrs ive had ch...</td>\n",
              "      <td>I have have flawless credit for   yrs I ve hav...</td>\n",
              "      <td>credit yrs credit card chase freedom xxxx prob...</td>\n",
              "    </tr>\n",
              "    <tr>\n",
              "      <th>78312</th>\n",
              "      <td>roughly  years ago i closed out my accounts wi...</td>\n",
              "      <td>roughly   year ago I close out my account with...</td>\n",
              "      <td>year account jp bank xxxx order line credit ac...</td>\n",
              "    </tr>\n",
              "  </tbody>\n",
              "</table>\n",
              "<p>21072 rows × 3 columns</p>\n",
              "</div>\n",
              "      <button class=\"colab-df-convert\" onclick=\"convertToInteractive('df-8d064291-7be8-4ab2-9e1d-1a9f63dee731')\"\n",
              "              title=\"Convert this dataframe to an interactive table.\"\n",
              "              style=\"display:none;\">\n",
              "        \n",
              "  <svg xmlns=\"http://www.w3.org/2000/svg\" height=\"24px\"viewBox=\"0 0 24 24\"\n",
              "       width=\"24px\">\n",
              "    <path d=\"M0 0h24v24H0V0z\" fill=\"none\"/>\n",
              "    <path d=\"M18.56 5.44l.94 2.06.94-2.06 2.06-.94-2.06-.94-.94-2.06-.94 2.06-2.06.94zm-11 1L8.5 8.5l.94-2.06 2.06-.94-2.06-.94L8.5 2.5l-.94 2.06-2.06.94zm10 10l.94 2.06.94-2.06 2.06-.94-2.06-.94-.94-2.06-.94 2.06-2.06.94z\"/><path d=\"M17.41 7.96l-1.37-1.37c-.4-.4-.92-.59-1.43-.59-.52 0-1.04.2-1.43.59L10.3 9.45l-7.72 7.72c-.78.78-.78 2.05 0 2.83L4 21.41c.39.39.9.59 1.41.59.51 0 1.02-.2 1.41-.59l7.78-7.78 2.81-2.81c.8-.78.8-2.07 0-2.86zM5.41 20L4 18.59l7.72-7.72 1.47 1.35L5.41 20z\"/>\n",
              "  </svg>\n",
              "      </button>\n",
              "      \n",
              "  <style>\n",
              "    .colab-df-container {\n",
              "      display:flex;\n",
              "      flex-wrap:wrap;\n",
              "      gap: 12px;\n",
              "    }\n",
              "\n",
              "    .colab-df-convert {\n",
              "      background-color: #E8F0FE;\n",
              "      border: none;\n",
              "      border-radius: 50%;\n",
              "      cursor: pointer;\n",
              "      display: none;\n",
              "      fill: #1967D2;\n",
              "      height: 32px;\n",
              "      padding: 0 0 0 0;\n",
              "      width: 32px;\n",
              "    }\n",
              "\n",
              "    .colab-df-convert:hover {\n",
              "      background-color: #E2EBFA;\n",
              "      box-shadow: 0px 1px 2px rgba(60, 64, 67, 0.3), 0px 1px 3px 1px rgba(60, 64, 67, 0.15);\n",
              "      fill: #174EA6;\n",
              "    }\n",
              "\n",
              "    [theme=dark] .colab-df-convert {\n",
              "      background-color: #3B4455;\n",
              "      fill: #D2E3FC;\n",
              "    }\n",
              "\n",
              "    [theme=dark] .colab-df-convert:hover {\n",
              "      background-color: #434B5C;\n",
              "      box-shadow: 0px 1px 3px 1px rgba(0, 0, 0, 0.15);\n",
              "      filter: drop-shadow(0px 1px 2px rgba(0, 0, 0, 0.3));\n",
              "      fill: #FFFFFF;\n",
              "    }\n",
              "  </style>\n",
              "\n",
              "      <script>\n",
              "        const buttonEl =\n",
              "          document.querySelector('#df-8d064291-7be8-4ab2-9e1d-1a9f63dee731 button.colab-df-convert');\n",
              "        buttonEl.style.display =\n",
              "          google.colab.kernel.accessAllowed ? 'block' : 'none';\n",
              "\n",
              "        async function convertToInteractive(key) {\n",
              "          const element = document.querySelector('#df-8d064291-7be8-4ab2-9e1d-1a9f63dee731');\n",
              "          const dataTable =\n",
              "            await google.colab.kernel.invokeFunction('convertToInteractive',\n",
              "                                                     [key], {});\n",
              "          if (!dataTable) return;\n",
              "\n",
              "          const docLinkHtml = 'Like what you see? Visit the ' +\n",
              "            '<a target=\"_blank\" href=https://colab.research.google.com/notebooks/data_table.ipynb>data table notebook</a>'\n",
              "            + ' to learn more about interactive tables.';\n",
              "          element.innerHTML = '';\n",
              "          dataTable['output_type'] = 'display_data';\n",
              "          await google.colab.output.renderOutput(dataTable, element);\n",
              "          const docLink = document.createElement('div');\n",
              "          docLink.innerHTML = docLinkHtml;\n",
              "          element.appendChild(docLink);\n",
              "        }\n",
              "      </script>\n",
              "    </div>\n",
              "  </div>\n",
              "  "
            ]
          },
          "metadata": {},
          "execution_count": 38
        }
      ],
      "source": [
        "#The clean dataframe should now contain the raw complaint, lemmatized complaint and the complaint after removing POS tags.\n",
        "df_clean"
      ]
    },
    {
      "cell_type": "markdown",
      "id": "74e14164",
      "metadata": {
        "id": "74e14164",
        "papermill": {
          "duration": 0.136982,
          "end_time": "2022-02-23T03:40:51.567417",
          "exception": false,
          "start_time": "2022-02-23T03:40:51.430435",
          "status": "completed"
        },
        "tags": []
      },
      "source": [
        "## Exploratory data analysis to get familiar with the data.\n",
        "\n",
        "Write the code in this task to perform the following:\n",
        "\n",
        "*   Visualise the data according to the 'Complaint' character length\n",
        "*   Using a word cloud find the top 40 words by frequency among all the articles after processing the text\n",
        "*   Find the top unigrams,bigrams and trigrams by frequency among all the complaints after processing the text. ‘\n",
        "\n",
        "\n"
      ]
    },
    {
      "cell_type": "code",
      "execution_count": 39,
      "id": "380aa9f4",
      "metadata": {
        "ExecuteTime": {
          "end_time": "2022-02-09T05:16:21.339240Z",
          "start_time": "2022-02-09T05:16:20.811141Z"
        },
        "execution": {
          "iopub.execute_input": "2022-02-23T03:40:51.841909Z",
          "iopub.status.busy": "2022-02-23T03:40:51.840854Z",
          "iopub.status.idle": "2022-02-23T03:40:52.356730Z",
          "shell.execute_reply": "2022-02-23T03:40:52.357271Z"
        },
        "id": "380aa9f4",
        "papermill": {
          "duration": 0.656974,
          "end_time": "2022-02-23T03:40:52.357452",
          "exception": false,
          "start_time": "2022-02-23T03:40:51.700478",
          "status": "completed"
        },
        "tags": [],
        "outputId": "50d3fc91-f71c-4d6f-a566-76f257a897e9",
        "colab": {
          "base_uri": "https://localhost:8080/",
          "height": 399
        }
      },
      "outputs": [
        {
          "output_type": "display_data",
          "data": {
            "text/plain": [
              "<Figure size 360x360 with 1 Axes>"
            ],
            "image/png": "[encoded data removed]"
          },
          "metadata": {
            "needs_background": "light"
          }
        }
      ],
      "source": [
        "# Write your code here to visualise the data according to the 'Complaint' character length\n",
        "char_len = [len(each_sent) for each_sent in df_clean['complaint_POS_removed']]\n",
        "\n",
        "sns.displot(char_len, kind='hist', bins=60)\n",
        "plt.xlabel(\"Complaint character length\")\n",
        "plt.ylabel(\"Total number of Complaints\")\n",
        "plt.title(\"Distribution of Complaint character length\")\n",
        "plt.show()"
      ]
    },
    {
      "cell_type": "markdown",
      "id": "b0722007",
      "metadata": {
        "papermill": {
          "duration": 0.137431,
          "end_time": "2022-02-23T03:40:52.633199",
          "exception": false,
          "start_time": "2022-02-23T03:40:52.495768",
          "status": "completed"
        },
        "tags": [],
        "id": "b0722007"
      },
      "source": [
        "**Observation**\n",
        "The distribution is a bit skewed to the right but it is a normal distribution"
      ]
    },
    {
      "cell_type": "markdown",
      "id": "9591b6f6",
      "metadata": {
        "id": "9591b6f6",
        "papermill": {
          "duration": 0.143182,
          "end_time": "2022-02-23T03:40:52.916401",
          "exception": false,
          "start_time": "2022-02-23T03:40:52.773219",
          "status": "completed"
        },
        "tags": []
      },
      "source": [
        "#### Find the top 40 words by frequency among all the articles after processing the text."
      ]
    },
    {
      "cell_type": "code",
      "execution_count": 40,
      "id": "2a02c27e",
      "metadata": {
        "ExecuteTime": {
          "end_time": "2022-02-09T05:16:21.668189Z",
          "start_time": "2022-02-09T05:16:21.342026Z"
        },
        "execution": {
          "iopub.execute_input": "2022-02-23T03:40:53.228714Z",
          "iopub.status.busy": "2022-02-23T03:40:53.226610Z",
          "iopub.status.idle": "2022-02-23T03:40:53.576550Z",
          "shell.execute_reply": "2022-02-23T03:40:53.577247Z"
        },
        "id": "2a02c27e",
        "papermill": {
          "duration": 0.519749,
          "end_time": "2022-02-23T03:40:53.577451",
          "exception": false,
          "start_time": "2022-02-23T03:40:53.057702",
          "status": "completed"
        },
        "tags": [],
        "outputId": "8f22f6ac-3d43-4150-82fd-e3563c9ffbab",
        "colab": {
          "base_uri": "https://localhost:8080/",
          "height": 366
        }
      },
      "outputs": [
        {
          "output_type": "display_data",
          "data": {
            "text/plain": [
              "<Figure size 864x864 with 1 Axes>"
            ],
            "image/png": "[encoded data removed]"
          },
          "metadata": {
            "needs_background": "light"
          }
        }
      ],
      "source": [
        "#Using a word cloud find the top 40 words by frequency among all the articles after processing the text\n",
        "stopwords = set(STOPWORDS)\n",
        "wordcloud = WordCloud(max_font_size=60, max_words=40, \n",
        "                      background_color=\"white\", random_state=100, \n",
        "                      stopwords=stopwords).generate(str(df_clean['complaint_POS_removed']))\n",
        "plt.figure(figsize=[12,12])\n",
        "plt.imshow(wordcloud, interpolation=\"bilinear\")\n",
        "plt.axis(\"off\")\n",
        "plt.show()"
      ]
    },
    {
      "cell_type": "markdown",
      "id": "ee14a604",
      "metadata": {
        "papermill": {
          "duration": 0.14914,
          "end_time": "2022-02-23T03:40:53.871460",
          "exception": false,
          "start_time": "2022-02-23T03:40:53.722320",
          "status": "completed"
        },
        "tags": [],
        "id": "ee14a604"
      },
      "source": [
        "We are removing Pronouns from the text corpus"
      ]
    },
    {
      "cell_type": "code",
      "execution_count": 41,
      "id": "5bbd9d5f",
      "metadata": {
        "ExecuteTime": {
          "end_time": "2022-02-09T05:16:21.714877Z",
          "start_time": "2022-02-09T05:16:21.670158Z"
        },
        "execution": {
          "iopub.execute_input": "2022-02-23T03:40:54.273087Z",
          "iopub.status.busy": "2022-02-23T03:40:54.272350Z",
          "iopub.status.idle": "2022-02-23T03:40:54.301927Z",
          "shell.execute_reply": "2022-02-23T03:40:54.302509Z"
        },
        "id": "5bbd9d5f",
        "papermill": {
          "duration": 0.203486,
          "end_time": "2022-02-23T03:40:54.302717",
          "exception": false,
          "start_time": "2022-02-23T03:40:54.099231",
          "status": "completed"
        },
        "tags": []
      },
      "outputs": [],
      "source": [
        "#Removing -PRON- from the text corpus\n",
        "df_clean['Complaint_clean'] = df_clean['complaint_POS_removed'].str.replace('-PRON-', '')"
      ]
    },
    {
      "cell_type": "markdown",
      "id": "1f42a214",
      "metadata": {
        "ExecuteTime": {
          "end_time": "2022-02-07T08:16:20.028011Z",
          "start_time": "2022-02-07T08:16:20.012958Z"
        },
        "papermill": {
          "duration": 0.148413,
          "end_time": "2022-02-23T03:40:54.659143",
          "exception": false,
          "start_time": "2022-02-23T03:40:54.510730",
          "status": "completed"
        },
        "tags": [],
        "id": "1f42a214"
      },
      "source": [
        "The top words as observed from the word cloud are\n",
        "- credit, card, bank, account, chase etc.,"
      ]
    },
    {
      "cell_type": "markdown",
      "id": "08bea406",
      "metadata": {
        "id": "08bea406",
        "papermill": {
          "duration": 0.162795,
          "end_time": "2022-02-23T03:40:54.971579",
          "exception": false,
          "start_time": "2022-02-23T03:40:54.808784",
          "status": "completed"
        },
        "tags": []
      },
      "source": [
        "#### Find the top unigrams,bigrams and trigrams by frequency among all the complaints after processing the text."
      ]
    },
    {
      "cell_type": "code",
      "execution_count": 42,
      "id": "487e3746",
      "metadata": {
        "ExecuteTime": {
          "end_time": "2022-02-09T05:16:21.730987Z",
          "start_time": "2022-02-09T05:16:21.716932Z"
        },
        "execution": {
          "iopub.execute_input": "2022-02-23T03:40:55.331163Z",
          "iopub.status.busy": "2022-02-23T03:40:55.329994Z",
          "iopub.status.idle": "2022-02-23T03:40:55.334269Z",
          "shell.execute_reply": "2022-02-23T03:40:55.334889Z"
        },
        "papermill": {
          "duration": 0.181907,
          "end_time": "2022-02-23T03:40:55.335082",
          "exception": false,
          "start_time": "2022-02-23T03:40:55.153175",
          "status": "completed"
        },
        "tags": [],
        "id": "487e3746"
      },
      "outputs": [],
      "source": [
        "# Creating a function to extract top ngrams(unigram/bigram/trigram) based on the function inputs\n",
        "def get_top_ngrams(text, n=None, ngram=(1,1)):\n",
        "  vec = CountVectorizer(stop_words='english', ngram_range=ngram).fit(text)\n",
        "  bagofwords = vec.transform(text)\n",
        "  sum_words = bagofwords.sum(axis=0)\n",
        "  words_frequency = [(word, sum_words[0, index]) for word, index in vec.vocabulary_.items()]\n",
        "  words_frequency = sorted(words_frequency, key = lambda x: x[1], reverse=True)\n",
        "  return words_frequency[:n]"
      ]
    },
    {
      "cell_type": "code",
      "execution_count": 43,
      "id": "07aebb63",
      "metadata": {
        "ExecuteTime": {
          "end_time": "2022-02-09T05:16:26.584756Z",
          "start_time": "2022-02-09T05:16:21.732902Z"
        },
        "execution": {
          "iopub.execute_input": "2022-02-23T03:40:55.632661Z",
          "iopub.status.busy": "2022-02-23T03:40:55.631627Z",
          "iopub.status.idle": "2022-02-23T03:41:02.948192Z",
          "shell.execute_reply": "2022-02-23T03:41:02.947424Z"
        },
        "papermill": {
          "duration": 7.465438,
          "end_time": "2022-02-23T03:41:02.948374",
          "exception": false,
          "start_time": "2022-02-23T03:40:55.482936",
          "status": "completed"
        },
        "tags": [],
        "id": "07aebb63",
        "outputId": "f43052b9-e27e-4a57-9ca1-782840d6e050",
        "colab": {
          "base_uri": "https://localhost:8080/",
          "height": 990
        }
      },
      "outputs": [
        {
          "output_type": "execute_result",
          "data": {
            "text/plain": [
              "        unigram  count\n",
              "0       account  47495\n",
              "1         chase  46560\n",
              "2          xxxx  36559\n",
              "3        credit  34147\n",
              "4          card  29285\n",
              "5          bank  28408\n",
              "6       payment  21171\n",
              "7          time  16028\n",
              "8        charge  14995\n",
              "9         check  13161\n",
              "10          day  12971\n",
              "11     xxxxxxxx  12401\n",
              "12        money  11962\n",
              "13         loan  11003\n",
              "14        state   9679\n",
              "15       letter   9669\n",
              "16  information   9660\n",
              "17       report   8961\n",
              "18  transaction   8652\n",
              "19          fee   8635\n",
              "20       number   8624\n",
              "21        month   8464\n",
              "22         year   8293\n",
              "23     mortgage   8200\n",
              "24     customer   8164\n",
              "25        claim   7790\n",
              "26      balance   7749\n",
              "27        phone   7720\n",
              "28      service   7714\n",
              "29      company   7605"
            ],
            "text/html": [
              "\n",
              "  <div id=\"df-ce7ac585-b1a6-490f-84d5-11c05aa4ce79\">\n",
              "    <div class=\"colab-df-container\">\n",
              "      <div>\n",
              "<style scoped>\n",
              "    .dataframe tbody tr th:only-of-type {\n",
              "        vertical-align: middle;\n",
              "    }\n",
              "\n",
              "    .dataframe tbody tr th {\n",
              "        vertical-align: top;\n",
              "    }\n",
              "\n",
              "    .dataframe thead th {\n",
              "        text-align: right;\n",
              "    }\n",
              "</style>\n",
              "<table border=\"1\" class=\"dataframe\">\n",
              "  <thead>\n",
              "    <tr style=\"text-align: right;\">\n",
              "      <th></th>\n",
              "      <th>unigram</th>\n",
              "      <th>count</th>\n",
              "    </tr>\n",
              "  </thead>\n",
              "  <tbody>\n",
              "    <tr>\n",
              "      <th>0</th>\n",
              "      <td>account</td>\n",
              "      <td>47495</td>\n",
              "    </tr>\n",
              "    <tr>\n",
              "      <th>1</th>\n",
              "      <td>chase</td>\n",
              "      <td>46560</td>\n",
              "    </tr>\n",
              "    <tr>\n",
              "      <th>2</th>\n",
              "      <td>xxxx</td>\n",
              "      <td>36559</td>\n",
              "    </tr>\n",
              "    <tr>\n",
              "      <th>3</th>\n",
              "      <td>credit</td>\n",
              "      <td>34147</td>\n",
              "    </tr>\n",
              "    <tr>\n",
              "      <th>4</th>\n",
              "      <td>card</td>\n",
              "      <td>29285</td>\n",
              "    </tr>\n",
              "    <tr>\n",
              "      <th>5</th>\n",
              "      <td>bank</td>\n",
              "      <td>28408</td>\n",
              "    </tr>\n",
              "    <tr>\n",
              "      <th>6</th>\n",
              "      <td>payment</td>\n",
              "      <td>21171</td>\n",
              "    </tr>\n",
              "    <tr>\n",
              "      <th>7</th>\n",
              "      <td>time</td>\n",
              "      <td>16028</td>\n",
              "    </tr>\n",
              "    <tr>\n",
              "      <th>8</th>\n",
              "      <td>charge</td>\n",
              "      <td>14995</td>\n",
              "    </tr>\n",
              "    <tr>\n",
              "      <th>9</th>\n",
              "      <td>check</td>\n",
              "      <td>13161</td>\n",
              "    </tr>\n",
              "    <tr>\n",
              "      <th>10</th>\n",
              "      <td>day</td>\n",
              "      <td>12971</td>\n",
              "    </tr>\n",
              "    <tr>\n",
              "      <th>11</th>\n",
              "      <td>xxxxxxxx</td>\n",
              "      <td>12401</td>\n",
              "    </tr>\n",
              "    <tr>\n",
              "      <th>12</th>\n",
              "      <td>money</td>\n",
              "      <td>11962</td>\n",
              "    </tr>\n",
              "    <tr>\n",
              "      <th>13</th>\n",
              "      <td>loan</td>\n",
              "      <td>11003</td>\n",
              "    </tr>\n",
              "    <tr>\n",
              "      <th>14</th>\n",
              "      <td>state</td>\n",
              "      <td>9679</td>\n",
              "    </tr>\n",
              "    <tr>\n",
              "      <th>15</th>\n",
              "      <td>letter</td>\n",
              "      <td>9669</td>\n",
              "    </tr>\n",
              "    <tr>\n",
              "      <th>16</th>\n",
              "      <td>information</td>\n",
              "      <td>9660</td>\n",
              "    </tr>\n",
              "    <tr>\n",
              "      <th>17</th>\n",
              "      <td>report</td>\n",
              "      <td>8961</td>\n",
              "    </tr>\n",
              "    <tr>\n",
              "      <th>18</th>\n",
              "      <td>transaction</td>\n",
              "      <td>8652</td>\n",
              "    </tr>\n",
              "    <tr>\n",
              "      <th>19</th>\n",
              "      <td>fee</td>\n",
              "      <td>8635</td>\n",
              "    </tr>\n",
              "    <tr>\n",
              "      <th>20</th>\n",
              "      <td>number</td>\n",
              "      <td>8624</td>\n",
              "    </tr>\n",
              "    <tr>\n",
              "      <th>21</th>\n",
              "      <td>month</td>\n",
              "      <td>8464</td>\n",
              "    </tr>\n",
              "    <tr>\n",
              "      <th>22</th>\n",
              "      <td>year</td>\n",
              "      <td>8293</td>\n",
              "    </tr>\n",
              "    <tr>\n",
              "      <th>23</th>\n",
              "      <td>mortgage</td>\n",
              "      <td>8200</td>\n",
              "    </tr>\n",
              "    <tr>\n",
              "      <th>24</th>\n",
              "      <td>customer</td>\n",
              "      <td>8164</td>\n",
              "    </tr>\n",
              "    <tr>\n",
              "      <th>25</th>\n",
              "      <td>claim</td>\n",
              "      <td>7790</td>\n",
              "    </tr>\n",
              "    <tr>\n",
              "      <th>26</th>\n",
              "      <td>balance</td>\n",
              "      <td>7749</td>\n",
              "    </tr>\n",
              "    <tr>\n",
              "      <th>27</th>\n",
              "      <td>phone</td>\n",
              "      <td>7720</td>\n",
              "    </tr>\n",
              "    <tr>\n",
              "      <th>28</th>\n",
              "      <td>service</td>\n",
              "      <td>7714</td>\n",
              "    </tr>\n",
              "    <tr>\n",
              "      <th>29</th>\n",
              "      <td>company</td>\n",
              "      <td>7605</td>\n",
              "    </tr>\n",
              "  </tbody>\n",
              "</table>\n",
              "</div>\n",
              "      <button class=\"colab-df-convert\" onclick=\"convertToInteractive('df-ce7ac585-b1a6-490f-84d5-11c05aa4ce79')\"\n",
              "              title=\"Convert this dataframe to an interactive table.\"\n",
              "              style=\"display:none;\">\n",
              "        \n",
              "  <svg xmlns=\"http://www.w3.org/2000/svg\" height=\"24px\"viewBox=\"0 0 24 24\"\n",
              "       width=\"24px\">\n",
              "    <path d=\"M0 0h24v24H0V0z\" fill=\"none\"/>\n",
              "    <path d=\"M18.56 5.44l.94 2.06.94-2.06 2.06-.94-2.06-.94-.94-2.06-.94 2.06-2.06.94zm-11 1L8.5 8.5l.94-2.06 2.06-.94-2.06-.94L8.5 2.5l-.94 2.06-2.06.94zm10 10l.94 2.06.94-2.06 2.06-.94-2.06-.94-.94-2.06-.94 2.06-2.06.94z\"/><path d=\"M17.41 7.96l-1.37-1.37c-.4-.4-.92-.59-1.43-.59-.52 0-1.04.2-1.43.59L10.3 9.45l-7.72 7.72c-.78.78-.78 2.05 0 2.83L4 21.41c.39.39.9.59 1.41.59.51 0 1.02-.2 1.41-.59l7.78-7.78 2.81-2.81c.8-.78.8-2.07 0-2.86zM5.41 20L4 18.59l7.72-7.72 1.47 1.35L5.41 20z\"/>\n",
              "  </svg>\n",
              "      </button>\n",
              "      \n",
              "  <style>\n",
              "    .colab-df-container {\n",
              "      display:flex;\n",
              "      flex-wrap:wrap;\n",
              "      gap: 12px;\n",
              "    }\n",
              "\n",
              "    .colab-df-convert {\n",
              "      background-color: #E8F0FE;\n",
              "      border: none;\n",
              "      border-radius: 50%;\n",
              "      cursor: pointer;\n",
              "      display: none;\n",
              "      fill: #1967D2;\n",
              "      height: 32px;\n",
              "      padding: 0 0 0 0;\n",
              "      width: 32px;\n",
              "    }\n",
              "\n",
              "    .colab-df-convert:hover {\n",
              "      background-color: #E2EBFA;\n",
              "      box-shadow: 0px 1px 2px rgba(60, 64, 67, 0.3), 0px 1px 3px 1px rgba(60, 64, 67, 0.15);\n",
              "      fill: #174EA6;\n",
              "    }\n",
              "\n",
              "    [theme=dark] .colab-df-convert {\n",
              "      background-color: #3B4455;\n",
              "      fill: #D2E3FC;\n",
              "    }\n",
              "\n",
              "    [theme=dark] .colab-df-convert:hover {\n",
              "      background-color: #434B5C;\n",
              "      box-shadow: 0px 1px 3px 1px rgba(0, 0, 0, 0.15);\n",
              "      filter: drop-shadow(0px 1px 2px rgba(0, 0, 0, 0.3));\n",
              "      fill: #FFFFFF;\n",
              "    }\n",
              "  </style>\n",
              "\n",
              "      <script>\n",
              "        const buttonEl =\n",
              "          document.querySelector('#df-ce7ac585-b1a6-490f-84d5-11c05aa4ce79 button.colab-df-convert');\n",
              "        buttonEl.style.display =\n",
              "          google.colab.kernel.accessAllowed ? 'block' : 'none';\n",
              "\n",
              "        async function convertToInteractive(key) {\n",
              "          const element = document.querySelector('#df-ce7ac585-b1a6-490f-84d5-11c05aa4ce79');\n",
              "          const dataTable =\n",
              "            await google.colab.kernel.invokeFunction('convertToInteractive',\n",
              "                                                     [key], {});\n",
              "          if (!dataTable) return;\n",
              "\n",
              "          const docLinkHtml = 'Like what you see? Visit the ' +\n",
              "            '<a target=\"_blank\" href=https://colab.research.google.com/notebooks/data_table.ipynb>data table notebook</a>'\n",
              "            + ' to learn more about interactive tables.';\n",
              "          element.innerHTML = '';\n",
              "          dataTable['output_type'] = 'display_data';\n",
              "          await google.colab.output.renderOutput(dataTable, element);\n",
              "          const docLink = document.createElement('div');\n",
              "          docLink.innerHTML = docLinkHtml;\n",
              "          element.appendChild(docLink);\n",
              "        }\n",
              "      </script>\n",
              "    </div>\n",
              "  </div>\n",
              "  "
            ]
          },
          "metadata": {},
          "execution_count": 43
        }
      ],
      "source": [
        "top_30words = get_top_ngrams(df_clean['Complaint_clean'].values.astype('U'), n=30, ngram=(1,1))\n",
        "df_unigram = pd.DataFrame(top_30words, columns=['unigram', 'count'])\n",
        "df_unigram"
      ]
    },
    {
      "cell_type": "code",
      "execution_count": 44,
      "id": "6d16ffcc",
      "metadata": {
        "ExecuteTime": {
          "end_time": "2022-02-09T05:16:27.006504Z",
          "start_time": "2022-02-09T05:16:26.586828Z"
        },
        "execution": {
          "iopub.execute_input": "2022-02-23T03:41:03.239661Z",
          "iopub.status.busy": "2022-02-23T03:41:03.238737Z",
          "iopub.status.idle": "2022-02-23T03:41:03.663862Z",
          "shell.execute_reply": "2022-02-23T03:41:03.664383Z"
        },
        "papermill": {
          "duration": 0.569819,
          "end_time": "2022-02-23T03:41:03.664591",
          "exception": false,
          "start_time": "2022-02-23T03:41:03.094772",
          "status": "completed"
        },
        "tags": [],
        "id": "6d16ffcc",
        "outputId": "0c8c171d-d945-405b-f914-a3ba6d1bb4ff",
        "colab": {
          "base_uri": "https://localhost:8080/",
          "height": 442
        }
      },
      "outputs": [
        {
          "output_type": "display_data",
          "data": {
            "text/plain": [
              "<Figure size 1440x432 with 1 Axes>"
            ],
            "image/png": "[encoded data removed]"
          },
          "metadata": {
            "needs_background": "light"
          }
        }
      ],
      "source": [
        "# Plotting top 30 Unigrams\n",
        "plt.figure(figsize=[20,6])\n",
        "sns.barplot(x=df_unigram['unigram'], y=df_unigram['count'])\n",
        "plt.xticks(rotation=45)\n",
        "plt.xlabel(\"Unigram\")\n",
        "plt.ylabel(\"Count\")\n",
        "plt.title(\"Count of top 30 Unigrams\")\n",
        "plt.show()"
      ]
    },
    {
      "cell_type": "code",
      "execution_count": 45,
      "id": "2fd994b1",
      "metadata": {
        "ExecuteTime": {
          "end_time": "2022-02-09T05:16:27.022646Z",
          "start_time": "2022-02-09T05:16:27.009629Z"
        },
        "execution": {
          "iopub.execute_input": "2022-02-23T03:41:03.967072Z",
          "iopub.status.busy": "2022-02-23T03:41:03.965982Z",
          "iopub.status.idle": "2022-02-23T03:41:03.969318Z",
          "shell.execute_reply": "2022-02-23T03:41:03.969830Z"
        },
        "papermill": {
          "duration": 0.160276,
          "end_time": "2022-02-23T03:41:03.970014",
          "exception": false,
          "start_time": "2022-02-23T03:41:03.809738",
          "status": "completed"
        },
        "tags": [],
        "id": "2fd994b1",
        "outputId": "5369eba9-90af-4c85-a097-a76f320e5912",
        "colab": {
          "base_uri": "https://localhost:8080/",
          "height": 363
        }
      },
      "outputs": [
        {
          "output_type": "execute_result",
          "data": {
            "text/plain": [
              "   unigram  count\n",
              "0  account  47495\n",
              "1    chase  46560\n",
              "2     xxxx  36559\n",
              "3   credit  34147\n",
              "4     card  29285\n",
              "5     bank  28408\n",
              "6  payment  21171\n",
              "7     time  16028\n",
              "8   charge  14995\n",
              "9    check  13161"
            ],
            "text/html": [
              "\n",
              "  <div id=\"df-894e0e70-0900-4751-907c-8b554f1a2bd0\">\n",
              "    <div class=\"colab-df-container\">\n",
              "      <div>\n",
              "<style scoped>\n",
              "    .dataframe tbody tr th:only-of-type {\n",
              "        vertical-align: middle;\n",
              "    }\n",
              "\n",
              "    .dataframe tbody tr th {\n",
              "        vertical-align: top;\n",
              "    }\n",
              "\n",
              "    .dataframe thead th {\n",
              "        text-align: right;\n",
              "    }\n",
              "</style>\n",
              "<table border=\"1\" class=\"dataframe\">\n",
              "  <thead>\n",
              "    <tr style=\"text-align: right;\">\n",
              "      <th></th>\n",
              "      <th>unigram</th>\n",
              "      <th>count</th>\n",
              "    </tr>\n",
              "  </thead>\n",
              "  <tbody>\n",
              "    <tr>\n",
              "      <th>0</th>\n",
              "      <td>account</td>\n",
              "      <td>47495</td>\n",
              "    </tr>\n",
              "    <tr>\n",
              "      <th>1</th>\n",
              "      <td>chase</td>\n",
              "      <td>46560</td>\n",
              "    </tr>\n",
              "    <tr>\n",
              "      <th>2</th>\n",
              "      <td>xxxx</td>\n",
              "      <td>36559</td>\n",
              "    </tr>\n",
              "    <tr>\n",
              "      <th>3</th>\n",
              "      <td>credit</td>\n",
              "      <td>34147</td>\n",
              "    </tr>\n",
              "    <tr>\n",
              "      <th>4</th>\n",
              "      <td>card</td>\n",
              "      <td>29285</td>\n",
              "    </tr>\n",
              "    <tr>\n",
              "      <th>5</th>\n",
              "      <td>bank</td>\n",
              "      <td>28408</td>\n",
              "    </tr>\n",
              "    <tr>\n",
              "      <th>6</th>\n",
              "      <td>payment</td>\n",
              "      <td>21171</td>\n",
              "    </tr>\n",
              "    <tr>\n",
              "      <th>7</th>\n",
              "      <td>time</td>\n",
              "      <td>16028</td>\n",
              "    </tr>\n",
              "    <tr>\n",
              "      <th>8</th>\n",
              "      <td>charge</td>\n",
              "      <td>14995</td>\n",
              "    </tr>\n",
              "    <tr>\n",
              "      <th>9</th>\n",
              "      <td>check</td>\n",
              "      <td>13161</td>\n",
              "    </tr>\n",
              "  </tbody>\n",
              "</table>\n",
              "</div>\n",
              "      <button class=\"colab-df-convert\" onclick=\"convertToInteractive('df-894e0e70-0900-4751-907c-8b554f1a2bd0')\"\n",
              "              title=\"Convert this dataframe to an interactive table.\"\n",
              "              style=\"display:none;\">\n",
              "        \n",
              "  <svg xmlns=\"http://www.w3.org/2000/svg\" height=\"24px\"viewBox=\"0 0 24 24\"\n",
              "       width=\"24px\">\n",
              "    <path d=\"M0 0h24v24H0V0z\" fill=\"none\"/>\n",
              "    <path d=\"M18.56 5.44l.94 2.06.94-2.06 2.06-.94-2.06-.94-.94-2.06-.94 2.06-2.06.94zm-11 1L8.5 8.5l.94-2.06 2.06-.94-2.06-.94L8.5 2.5l-.94 2.06-2.06.94zm10 10l.94 2.06.94-2.06 2.06-.94-2.06-.94-.94-2.06-.94 2.06-2.06.94z\"/><path d=\"M17.41 7.96l-1.37-1.37c-.4-.4-.92-.59-1.43-.59-.52 0-1.04.2-1.43.59L10.3 9.45l-7.72 7.72c-.78.78-.78 2.05 0 2.83L4 21.41c.39.39.9.59 1.41.59.51 0 1.02-.2 1.41-.59l7.78-7.78 2.81-2.81c.8-.78.8-2.07 0-2.86zM5.41 20L4 18.59l7.72-7.72 1.47 1.35L5.41 20z\"/>\n",
              "  </svg>\n",
              "      </button>\n",
              "      \n",
              "  <style>\n",
              "    .colab-df-container {\n",
              "      display:flex;\n",
              "      flex-wrap:wrap;\n",
              "      gap: 12px;\n",
              "    }\n",
              "\n",
              "    .colab-df-convert {\n",
              "      background-color: #E8F0FE;\n",
              "      border: none;\n",
              "      border-radius: 50%;\n",
              "      cursor: pointer;\n",
              "      display: none;\n",
              "      fill: #1967D2;\n",
              "      height: 32px;\n",
              "      padding: 0 0 0 0;\n",
              "      width: 32px;\n",
              "    }\n",
              "\n",
              "    .colab-df-convert:hover {\n",
              "      background-color: #E2EBFA;\n",
              "      box-shadow: 0px 1px 2px rgba(60, 64, 67, 0.3), 0px 1px 3px 1px rgba(60, 64, 67, 0.15);\n",
              "      fill: #174EA6;\n",
              "    }\n",
              "\n",
              "    [theme=dark] .colab-df-convert {\n",
              "      background-color: #3B4455;\n",
              "      fill: #D2E3FC;\n",
              "    }\n",
              "\n",
              "    [theme=dark] .colab-df-convert:hover {\n",
              "      background-color: #434B5C;\n",
              "      box-shadow: 0px 1px 3px 1px rgba(0, 0, 0, 0.15);\n",
              "      filter: drop-shadow(0px 1px 2px rgba(0, 0, 0, 0.3));\n",
              "      fill: #FFFFFF;\n",
              "    }\n",
              "  </style>\n",
              "\n",
              "      <script>\n",
              "        const buttonEl =\n",
              "          document.querySelector('#df-894e0e70-0900-4751-907c-8b554f1a2bd0 button.colab-df-convert');\n",
              "        buttonEl.style.display =\n",
              "          google.colab.kernel.accessAllowed ? 'block' : 'none';\n",
              "\n",
              "        async function convertToInteractive(key) {\n",
              "          const element = document.querySelector('#df-894e0e70-0900-4751-907c-8b554f1a2bd0');\n",
              "          const dataTable =\n",
              "            await google.colab.kernel.invokeFunction('convertToInteractive',\n",
              "                                                     [key], {});\n",
              "          if (!dataTable) return;\n",
              "\n",
              "          const docLinkHtml = 'Like what you see? Visit the ' +\n",
              "            '<a target=\"_blank\" href=https://colab.research.google.com/notebooks/data_table.ipynb>data table notebook</a>'\n",
              "            + ' to learn more about interactive tables.';\n",
              "          element.innerHTML = '';\n",
              "          dataTable['output_type'] = 'display_data';\n",
              "          await google.colab.output.renderOutput(dataTable, element);\n",
              "          const docLink = document.createElement('div');\n",
              "          docLink.innerHTML = docLinkHtml;\n",
              "          element.appendChild(docLink);\n",
              "        }\n",
              "      </script>\n",
              "    </div>\n",
              "  </div>\n",
              "  "
            ]
          },
          "metadata": {},
          "execution_count": 45
        }
      ],
      "source": [
        "#Print the top 10 words in the unigram frequency\n",
        "df_unigram.head(10)"
      ]
    },
    {
      "cell_type": "code",
      "execution_count": 46,
      "id": "2ed91bfa",
      "metadata": {
        "ExecuteTime": {
          "end_time": "2022-02-09T05:16:38.711719Z",
          "start_time": "2022-02-09T05:16:27.025506Z"
        },
        "execution": {
          "iopub.execute_input": "2022-02-23T03:41:04.364129Z",
          "iopub.status.busy": "2022-02-23T03:41:04.362831Z",
          "iopub.status.idle": "2022-02-23T03:41:14.428259Z",
          "shell.execute_reply": "2022-02-23T03:41:14.427649Z"
        },
        "id": "2ed91bfa",
        "papermill": {
          "duration": 10.309234,
          "end_time": "2022-02-23T03:41:14.428448",
          "exception": false,
          "start_time": "2022-02-23T03:41:04.119214",
          "status": "completed"
        },
        "tags": [],
        "outputId": "4de7435f-abc3-412b-922a-243699893268",
        "colab": {
          "base_uri": "https://localhost:8080/",
          "height": 990
        }
      },
      "outputs": [
        {
          "output_type": "execute_result",
          "data": {
            "text/plain": [
              "              bigram  count\n",
              "0        credit card  12780\n",
              "1      credit report   3947\n",
              "2          xxxx xxxx   3937\n",
              "3      check account   3146\n",
              "4   customer service   3081\n",
              "5       chase credit   2962\n",
              "6         chase bank   2937\n",
              "7       bank account   2727\n",
              "8      account chase   2579\n",
              "9    account account   2356\n",
              "10     chase account   2312\n",
              "11      account bank   1749\n",
              "12      card account   1589\n",
              "13        debit card   1560\n",
              "14      credit score   1542\n",
              "15    account credit   1480\n",
              "16   payment payment   1348\n",
              "17     money account   1334\n",
              "18        card chase   1293\n",
              "19      account xxxx   1289\n",
              "20      phone number   1265\n",
              "21      business day   1262\n",
              "22        xxxx chase   1262\n",
              "23    credit account   1212\n",
              "24    charge account   1200\n",
              "25    account number   1169\n",
              "26      xxxx account   1137\n",
              "27      card company   1124\n",
              "28         card card   1081\n",
              "29  fraud department   1060"
            ],
            "text/html": [
              "\n",
              "  <div id=\"df-6747c997-9f72-47bd-aef9-9ef42899213b\">\n",
              "    <div class=\"colab-df-container\">\n",
              "      <div>\n",
              "<style scoped>\n",
              "    .dataframe tbody tr th:only-of-type {\n",
              "        vertical-align: middle;\n",
              "    }\n",
              "\n",
              "    .dataframe tbody tr th {\n",
              "        vertical-align: top;\n",
              "    }\n",
              "\n",
              "    .dataframe thead th {\n",
              "        text-align: right;\n",
              "    }\n",
              "</style>\n",
              "<table border=\"1\" class=\"dataframe\">\n",
              "  <thead>\n",
              "    <tr style=\"text-align: right;\">\n",
              "      <th></th>\n",
              "      <th>bigram</th>\n",
              "      <th>count</th>\n",
              "    </tr>\n",
              "  </thead>\n",
              "  <tbody>\n",
              "    <tr>\n",
              "      <th>0</th>\n",
              "      <td>credit card</td>\n",
              "      <td>12780</td>\n",
              "    </tr>\n",
              "    <tr>\n",
              "      <th>1</th>\n",
              "      <td>credit report</td>\n",
              "      <td>3947</td>\n",
              "    </tr>\n",
              "    <tr>\n",
              "      <th>2</th>\n",
              "      <td>xxxx xxxx</td>\n",
              "      <td>3937</td>\n",
              "    </tr>\n",
              "    <tr>\n",
              "      <th>3</th>\n",
              "      <td>check account</td>\n",
              "      <td>3146</td>\n",
              "    </tr>\n",
              "    <tr>\n",
              "      <th>4</th>\n",
              "      <td>customer service</td>\n",
              "      <td>3081</td>\n",
              "    </tr>\n",
              "    <tr>\n",
              "      <th>5</th>\n",
              "      <td>chase credit</td>\n",
              "      <td>2962</td>\n",
              "    </tr>\n",
              "    <tr>\n",
              "      <th>6</th>\n",
              "      <td>chase bank</td>\n",
              "      <td>2937</td>\n",
              "    </tr>\n",
              "    <tr>\n",
              "      <th>7</th>\n",
              "      <td>bank account</td>\n",
              "      <td>2727</td>\n",
              "    </tr>\n",
              "    <tr>\n",
              "      <th>8</th>\n",
              "      <td>account chase</td>\n",
              "      <td>2579</td>\n",
              "    </tr>\n",
              "    <tr>\n",
              "      <th>9</th>\n",
              "      <td>account account</td>\n",
              "      <td>2356</td>\n",
              "    </tr>\n",
              "    <tr>\n",
              "      <th>10</th>\n",
              "      <td>chase account</td>\n",
              "      <td>2312</td>\n",
              "    </tr>\n",
              "    <tr>\n",
              "      <th>11</th>\n",
              "      <td>account bank</td>\n",
              "      <td>1749</td>\n",
              "    </tr>\n",
              "    <tr>\n",
              "      <th>12</th>\n",
              "      <td>card account</td>\n",
              "      <td>1589</td>\n",
              "    </tr>\n",
              "    <tr>\n",
              "      <th>13</th>\n",
              "      <td>debit card</td>\n",
              "      <td>1560</td>\n",
              "    </tr>\n",
              "    <tr>\n",
              "      <th>14</th>\n",
              "      <td>credit score</td>\n",
              "      <td>1542</td>\n",
              "    </tr>\n",
              "    <tr>\n",
              "      <th>15</th>\n",
              "      <td>account credit</td>\n",
              "      <td>1480</td>\n",
              "    </tr>\n",
              "    <tr>\n",
              "      <th>16</th>\n",
              "      <td>payment payment</td>\n",
              "      <td>1348</td>\n",
              "    </tr>\n",
              "    <tr>\n",
              "      <th>17</th>\n",
              "      <td>money account</td>\n",
              "      <td>1334</td>\n",
              "    </tr>\n",
              "    <tr>\n",
              "      <th>18</th>\n",
              "      <td>card chase</td>\n",
              "      <td>1293</td>\n",
              "    </tr>\n",
              "    <tr>\n",
              "      <th>19</th>\n",
              "      <td>account xxxx</td>\n",
              "      <td>1289</td>\n",
              "    </tr>\n",
              "    <tr>\n",
              "      <th>20</th>\n",
              "      <td>phone number</td>\n",
              "      <td>1265</td>\n",
              "    </tr>\n",
              "    <tr>\n",
              "      <th>21</th>\n",
              "      <td>business day</td>\n",
              "      <td>1262</td>\n",
              "    </tr>\n",
              "    <tr>\n",
              "      <th>22</th>\n",
              "      <td>xxxx chase</td>\n",
              "      <td>1262</td>\n",
              "    </tr>\n",
              "    <tr>\n",
              "      <th>23</th>\n",
              "      <td>credit account</td>\n",
              "      <td>1212</td>\n",
              "    </tr>\n",
              "    <tr>\n",
              "      <th>24</th>\n",
              "      <td>charge account</td>\n",
              "      <td>1200</td>\n",
              "    </tr>\n",
              "    <tr>\n",
              "      <th>25</th>\n",
              "      <td>account number</td>\n",
              "      <td>1169</td>\n",
              "    </tr>\n",
              "    <tr>\n",
              "      <th>26</th>\n",
              "      <td>xxxx account</td>\n",
              "      <td>1137</td>\n",
              "    </tr>\n",
              "    <tr>\n",
              "      <th>27</th>\n",
              "      <td>card company</td>\n",
              "      <td>1124</td>\n",
              "    </tr>\n",
              "    <tr>\n",
              "      <th>28</th>\n",
              "      <td>card card</td>\n",
              "      <td>1081</td>\n",
              "    </tr>\n",
              "    <tr>\n",
              "      <th>29</th>\n",
              "      <td>fraud department</td>\n",
              "      <td>1060</td>\n",
              "    </tr>\n",
              "  </tbody>\n",
              "</table>\n",
              "</div>\n",
              "      <button class=\"colab-df-convert\" onclick=\"convertToInteractive('df-6747c997-9f72-47bd-aef9-9ef42899213b')\"\n",
              "              title=\"Convert this dataframe to an interactive table.\"\n",
              "              style=\"display:none;\">\n",
              "        \n",
              "  <svg xmlns=\"http://www.w3.org/2000/svg\" height=\"24px\"viewBox=\"0 0 24 24\"\n",
              "       width=\"24px\">\n",
              "    <path d=\"M0 0h24v24H0V0z\" fill=\"none\"/>\n",
              "    <path d=\"M18.56 5.44l.94 2.06.94-2.06 2.06-.94-2.06-.94-.94-2.06-.94 2.06-2.06.94zm-11 1L8.5 8.5l.94-2.06 2.06-.94-2.06-.94L8.5 2.5l-.94 2.06-2.06.94zm10 10l.94 2.06.94-2.06 2.06-.94-2.06-.94-.94-2.06-.94 2.06-2.06.94z\"/><path d=\"M17.41 7.96l-1.37-1.37c-.4-.4-.92-.59-1.43-.59-.52 0-1.04.2-1.43.59L10.3 9.45l-7.72 7.72c-.78.78-.78 2.05 0 2.83L4 21.41c.39.39.9.59 1.41.59.51 0 1.02-.2 1.41-.59l7.78-7.78 2.81-2.81c.8-.78.8-2.07 0-2.86zM5.41 20L4 18.59l7.72-7.72 1.47 1.35L5.41 20z\"/>\n",
              "  </svg>\n",
              "      </button>\n",
              "      \n",
              "  <style>\n",
              "    .colab-df-container {\n",
              "      display:flex;\n",
              "      flex-wrap:wrap;\n",
              "      gap: 12px;\n",
              "    }\n",
              "\n",
              "    .colab-df-convert {\n",
              "      background-color: #E8F0FE;\n",
              "      border: none;\n",
              "      border-radius: 50%;\n",
              "      cursor: pointer;\n",
              "      display: none;\n",
              "      fill: #1967D2;\n",
              "      height: 32px;\n",
              "      padding: 0 0 0 0;\n",
              "      width: 32px;\n",
              "    }\n",
              "\n",
              "    .colab-df-convert:hover {\n",
              "      background-color: #E2EBFA;\n",
              "      box-shadow: 0px 1px 2px rgba(60, 64, 67, 0.3), 0px 1px 3px 1px rgba(60, 64, 67, 0.15);\n",
              "      fill: #174EA6;\n",
              "    }\n",
              "\n",
              "    [theme=dark] .colab-df-convert {\n",
              "      background-color: #3B4455;\n",
              "      fill: #D2E3FC;\n",
              "    }\n",
              "\n",
              "    [theme=dark] .colab-df-convert:hover {\n",
              "      background-color: #434B5C;\n",
              "      box-shadow: 0px 1px 3px 1px rgba(0, 0, 0, 0.15);\n",
              "      filter: drop-shadow(0px 1px 2px rgba(0, 0, 0, 0.3));\n",
              "      fill: #FFFFFF;\n",
              "    }\n",
              "  </style>\n",
              "\n",
              "      <script>\n",
              "        const buttonEl =\n",
              "          document.querySelector('#df-6747c997-9f72-47bd-aef9-9ef42899213b button.colab-df-convert');\n",
              "        buttonEl.style.display =\n",
              "          google.colab.kernel.accessAllowed ? 'block' : 'none';\n",
              "\n",
              "        async function convertToInteractive(key) {\n",
              "          const element = document.querySelector('#df-6747c997-9f72-47bd-aef9-9ef42899213b');\n",
              "          const dataTable =\n",
              "            await google.colab.kernel.invokeFunction('convertToInteractive',\n",
              "                                                     [key], {});\n",
              "          if (!dataTable) return;\n",
              "\n",
              "          const docLinkHtml = 'Like what you see? Visit the ' +\n",
              "            '<a target=\"_blank\" href=https://colab.research.google.com/notebooks/data_table.ipynb>data table notebook</a>'\n",
              "            + ' to learn more about interactive tables.';\n",
              "          element.innerHTML = '';\n",
              "          dataTable['output_type'] = 'display_data';\n",
              "          await google.colab.output.renderOutput(dataTable, element);\n",
              "          const docLink = document.createElement('div');\n",
              "          docLink.innerHTML = docLinkHtml;\n",
              "          element.appendChild(docLink);\n",
              "        }\n",
              "      </script>\n",
              "    </div>\n",
              "  </div>\n",
              "  "
            ]
          },
          "metadata": {},
          "execution_count": 46
        }
      ],
      "source": [
        "#Write your code here to find the top 30 bigram frequency among the complaints in the cleaned datafram(df_clean). \n",
        "top_30words = get_top_ngrams(df_clean['Complaint_clean'].values.astype('U'), n=30, ngram=(2,2))\n",
        "df_bigram = pd.DataFrame(top_30words, columns=['bigram', 'count'])\n",
        "df_bigram"
      ]
    },
    {
      "cell_type": "code",
      "execution_count": 47,
      "id": "1f35f0b9",
      "metadata": {
        "ExecuteTime": {
          "end_time": "2022-02-09T05:16:39.225865Z",
          "start_time": "2022-02-09T05:16:38.714213Z"
        },
        "execution": {
          "iopub.execute_input": "2022-02-23T03:41:14.737407Z",
          "iopub.status.busy": "2022-02-23T03:41:14.735923Z",
          "iopub.status.idle": "2022-02-23T03:41:15.205293Z",
          "shell.execute_reply": "2022-02-23T03:41:15.205877Z"
        },
        "papermill": {
          "duration": 0.630174,
          "end_time": "2022-02-23T03:41:15.206068",
          "exception": false,
          "start_time": "2022-02-23T03:41:14.575894",
          "status": "completed"
        },
        "tags": [],
        "id": "1f35f0b9",
        "outputId": "b0ad4e4f-ed9e-4898-af73-de483eddb711",
        "colab": {
          "base_uri": "https://localhost:8080/",
          "height": 466
        }
      },
      "outputs": [
        {
          "output_type": "display_data",
          "data": {
            "text/plain": [
              "<Figure size 1440x432 with 1 Axes>"
            ],
            "image/png": "[encoded data removed]"
          },
          "metadata": {
            "needs_background": "light"
          }
        }
      ],
      "source": [
        "# Plotting top 30 Bigrams\n",
        "plt.figure(figsize=[20,6])\n",
        "sns.barplot(x=df_bigram['bigram'], y=df_bigram['count'])\n",
        "plt.xticks(rotation=45)\n",
        "plt.xlabel(\"Bigram\")\n",
        "plt.ylabel(\"Count\")\n",
        "plt.title(\"Count of top 30 Bigrams\")\n",
        "plt.show()"
      ]
    },
    {
      "cell_type": "code",
      "execution_count": 48,
      "id": "4e69c916",
      "metadata": {
        "ExecuteTime": {
          "end_time": "2022-02-09T05:16:39.240740Z",
          "start_time": "2022-02-09T05:16:39.227688Z"
        },
        "execution": {
          "iopub.execute_input": "2022-02-23T03:41:15.514106Z",
          "iopub.status.busy": "2022-02-23T03:41:15.513175Z",
          "iopub.status.idle": "2022-02-23T03:41:15.517629Z",
          "shell.execute_reply": "2022-02-23T03:41:15.518261Z"
        },
        "id": "4e69c916",
        "papermill": {
          "duration": 0.15989,
          "end_time": "2022-02-23T03:41:15.518467",
          "exception": false,
          "start_time": "2022-02-23T03:41:15.358577",
          "status": "completed"
        },
        "tags": [],
        "outputId": "46359f6a-b12a-4454-907f-1c1467f85e93",
        "colab": {
          "base_uri": "https://localhost:8080/",
          "height": 363
        }
      },
      "outputs": [
        {
          "output_type": "execute_result",
          "data": {
            "text/plain": [
              "             bigram  count\n",
              "0       credit card  12780\n",
              "1     credit report   3947\n",
              "2         xxxx xxxx   3937\n",
              "3     check account   3146\n",
              "4  customer service   3081\n",
              "5      chase credit   2962\n",
              "6        chase bank   2937\n",
              "7      bank account   2727\n",
              "8     account chase   2579\n",
              "9   account account   2356"
            ],
            "text/html": [
              "\n",
              "  <div id=\"df-07add790-9e88-4e1d-a058-449816d8c1c0\">\n",
              "    <div class=\"colab-df-container\">\n",
              "      <div>\n",
              "<style scoped>\n",
              "    .dataframe tbody tr th:only-of-type {\n",
              "        vertical-align: middle;\n",
              "    }\n",
              "\n",
              "    .dataframe tbody tr th {\n",
              "        vertical-align: top;\n",
              "    }\n",
              "\n",
              "    .dataframe thead th {\n",
              "        text-align: right;\n",
              "    }\n",
              "</style>\n",
              "<table border=\"1\" class=\"dataframe\">\n",
              "  <thead>\n",
              "    <tr style=\"text-align: right;\">\n",
              "      <th></th>\n",
              "      <th>bigram</th>\n",
              "      <th>count</th>\n",
              "    </tr>\n",
              "  </thead>\n",
              "  <tbody>\n",
              "    <tr>\n",
              "      <th>0</th>\n",
              "      <td>credit card</td>\n",
              "      <td>12780</td>\n",
              "    </tr>\n",
              "    <tr>\n",
              "      <th>1</th>\n",
              "      <td>credit report</td>\n",
              "      <td>3947</td>\n",
              "    </tr>\n",
              "    <tr>\n",
              "      <th>2</th>\n",
              "      <td>xxxx xxxx</td>\n",
              "      <td>3937</td>\n",
              "    </tr>\n",
              "    <tr>\n",
              "      <th>3</th>\n",
              "      <td>check account</td>\n",
              "      <td>3146</td>\n",
              "    </tr>\n",
              "    <tr>\n",
              "      <th>4</th>\n",
              "      <td>customer service</td>\n",
              "      <td>3081</td>\n",
              "    </tr>\n",
              "    <tr>\n",
              "      <th>5</th>\n",
              "      <td>chase credit</td>\n",
              "      <td>2962</td>\n",
              "    </tr>\n",
              "    <tr>\n",
              "      <th>6</th>\n",
              "      <td>chase bank</td>\n",
              "      <td>2937</td>\n",
              "    </tr>\n",
              "    <tr>\n",
              "      <th>7</th>\n",
              "      <td>bank account</td>\n",
              "      <td>2727</td>\n",
              "    </tr>\n",
              "    <tr>\n",
              "      <th>8</th>\n",
              "      <td>account chase</td>\n",
              "      <td>2579</td>\n",
              "    </tr>\n",
              "    <tr>\n",
              "      <th>9</th>\n",
              "      <td>account account</td>\n",
              "      <td>2356</td>\n",
              "    </tr>\n",
              "  </tbody>\n",
              "</table>\n",
              "</div>\n",
              "      <button class=\"colab-df-convert\" onclick=\"convertToInteractive('df-07add790-9e88-4e1d-a058-449816d8c1c0')\"\n",
              "              title=\"Convert this dataframe to an interactive table.\"\n",
              "              style=\"display:none;\">\n",
              "        \n",
              "  <svg xmlns=\"http://www.w3.org/2000/svg\" height=\"24px\"viewBox=\"0 0 24 24\"\n",
              "       width=\"24px\">\n",
              "    <path d=\"M0 0h24v24H0V0z\" fill=\"none\"/>\n",
              "    <path d=\"M18.56 5.44l.94 2.06.94-2.06 2.06-.94-2.06-.94-.94-2.06-.94 2.06-2.06.94zm-11 1L8.5 8.5l.94-2.06 2.06-.94-2.06-.94L8.5 2.5l-.94 2.06-2.06.94zm10 10l.94 2.06.94-2.06 2.06-.94-2.06-.94-.94-2.06-.94 2.06-2.06.94z\"/><path d=\"M17.41 7.96l-1.37-1.37c-.4-.4-.92-.59-1.43-.59-.52 0-1.04.2-1.43.59L10.3 9.45l-7.72 7.72c-.78.78-.78 2.05 0 2.83L4 21.41c.39.39.9.59 1.41.59.51 0 1.02-.2 1.41-.59l7.78-7.78 2.81-2.81c.8-.78.8-2.07 0-2.86zM5.41 20L4 18.59l7.72-7.72 1.47 1.35L5.41 20z\"/>\n",
              "  </svg>\n",
              "      </button>\n",
              "      \n",
              "  <style>\n",
              "    .colab-df-container {\n",
              "      display:flex;\n",
              "      flex-wrap:wrap;\n",
              "      gap: 12px;\n",
              "    }\n",
              "\n",
              "    .colab-df-convert {\n",
              "      background-color: #E8F0FE;\n",
              "      border: none;\n",
              "      border-radius: 50%;\n",
              "      cursor: pointer;\n",
              "      display: none;\n",
              "      fill: #1967D2;\n",
              "      height: 32px;\n",
              "      padding: 0 0 0 0;\n",
              "      width: 32px;\n",
              "    }\n",
              "\n",
              "    .colab-df-convert:hover {\n",
              "      background-color: #E2EBFA;\n",
              "      box-shadow: 0px 1px 2px rgba(60, 64, 67, 0.3), 0px 1px 3px 1px rgba(60, 64, 67, 0.15);\n",
              "      fill: #174EA6;\n",
              "    }\n",
              "\n",
              "    [theme=dark] .colab-df-convert {\n",
              "      background-color: #3B4455;\n",
              "      fill: #D2E3FC;\n",
              "    }\n",
              "\n",
              "    [theme=dark] .colab-df-convert:hover {\n",
              "      background-color: #434B5C;\n",
              "      box-shadow: 0px 1px 3px 1px rgba(0, 0, 0, 0.15);\n",
              "      filter: drop-shadow(0px 1px 2px rgba(0, 0, 0, 0.3));\n",
              "      fill: #FFFFFF;\n",
              "    }\n",
              "  </style>\n",
              "\n",
              "      <script>\n",
              "        const buttonEl =\n",
              "          document.querySelector('#df-07add790-9e88-4e1d-a058-449816d8c1c0 button.colab-df-convert');\n",
              "        buttonEl.style.display =\n",
              "          google.colab.kernel.accessAllowed ? 'block' : 'none';\n",
              "\n",
              "        async function convertToInteractive(key) {\n",
              "          const element = document.querySelector('#df-07add790-9e88-4e1d-a058-449816d8c1c0');\n",
              "          const dataTable =\n",
              "            await google.colab.kernel.invokeFunction('convertToInteractive',\n",
              "                                                     [key], {});\n",
              "          if (!dataTable) return;\n",
              "\n",
              "          const docLinkHtml = 'Like what you see? Visit the ' +\n",
              "            '<a target=\"_blank\" href=https://colab.research.google.com/notebooks/data_table.ipynb>data table notebook</a>'\n",
              "            + ' to learn more about interactive tables.';\n",
              "          element.innerHTML = '';\n",
              "          dataTable['output_type'] = 'display_data';\n",
              "          await google.colab.output.renderOutput(dataTable, element);\n",
              "          const docLink = document.createElement('div');\n",
              "          docLink.innerHTML = docLinkHtml;\n",
              "          element.appendChild(docLink);\n",
              "        }\n",
              "      </script>\n",
              "    </div>\n",
              "  </div>\n",
              "  "
            ]
          },
          "metadata": {},
          "execution_count": 48
        }
      ],
      "source": [
        "#Print the top 10 words in the bigram frequency\n",
        "df_bigram.head(10)"
      ]
    },
    {
      "cell_type": "code",
      "execution_count": 49,
      "id": "7df5dbd0",
      "metadata": {
        "ExecuteTime": {
          "end_time": "2022-02-09T05:16:57.455959Z",
          "start_time": "2022-02-09T05:16:39.242270Z"
        },
        "execution": {
          "iopub.execute_input": "2022-02-23T03:41:16.789891Z",
          "iopub.status.busy": "2022-02-23T03:41:15.822120Z",
          "iopub.status.idle": "2022-02-23T03:41:29.906526Z",
          "shell.execute_reply": "2022-02-23T03:41:29.905589Z"
        },
        "papermill": {
          "duration": 14.235772,
          "end_time": "2022-02-23T03:41:29.906717",
          "exception": false,
          "start_time": "2022-02-23T03:41:15.670945",
          "status": "completed"
        },
        "tags": [],
        "id": "7df5dbd0",
        "outputId": "4e6ca2e4-ae9f-4368-ddb4-31e23b119011",
        "colab": {
          "base_uri": "https://localhost:8080/",
          "height": 990
        }
      },
      "outputs": [
        {
          "output_type": "execute_result",
          "data": {
            "text/plain": [
              "                       trigram  count\n",
              "0            chase credit card   2062\n",
              "1          credit card account   1019\n",
              "2          credit card company    992\n",
              "3            credit card chase    630\n",
              "4           credit card credit    514\n",
              "5        inquiry credit report    480\n",
              "6           charge credit card    423\n",
              "7               xxxx xxxx xxxx    409\n",
              "8          account credit card    398\n",
              "9             card credit card    386\n",
              "10     credit reporting agency    382\n",
              "11            credit card bank    360\n",
              "12            bank credit card    349\n",
              "13        credit report credit    345\n",
              "14            xxxx credit card    334\n",
              "15        credit reporting act    328\n",
              "16          credit card charge    308\n",
              "17         credit card payment    295\n",
              "18       account credit report    286\n",
              "19         chase check account    282\n",
              "20            credit card xxxx    278\n",
              "21         credit card balance    262\n",
              "22            credit card card    259\n",
              "23  consumer protection bureau    247\n",
              "24      chase customer service    246\n",
              "25         check account chase    245\n",
              "26       account chase account    245\n",
              "27       victim identity theft    244\n",
              "28         credit card service    239\n",
              "29         freedom credit card    234"
            ],
            "text/html": [
              "\n",
              "  <div id=\"df-10a41628-2d60-40ae-b5c9-83ca2b025de2\">\n",
              "    <div class=\"colab-df-container\">\n",
              "      <div>\n",
              "<style scoped>\n",
              "    .dataframe tbody tr th:only-of-type {\n",
              "        vertical-align: middle;\n",
              "    }\n",
              "\n",
              "    .dataframe tbody tr th {\n",
              "        vertical-align: top;\n",
              "    }\n",
              "\n",
              "    .dataframe thead th {\n",
              "        text-align: right;\n",
              "    }\n",
              "</style>\n",
              "<table border=\"1\" class=\"dataframe\">\n",
              "  <thead>\n",
              "    <tr style=\"text-align: right;\">\n",
              "      <th></th>\n",
              "      <th>trigram</th>\n",
              "      <th>count</th>\n",
              "    </tr>\n",
              "  </thead>\n",
              "  <tbody>\n",
              "    <tr>\n",
              "      <th>0</th>\n",
              "      <td>chase credit card</td>\n",
              "      <td>2062</td>\n",
              "    </tr>\n",
              "    <tr>\n",
              "      <th>1</th>\n",
              "      <td>credit card account</td>\n",
              "      <td>1019</td>\n",
              "    </tr>\n",
              "    <tr>\n",
              "      <th>2</th>\n",
              "      <td>credit card company</td>\n",
              "      <td>992</td>\n",
              "    </tr>\n",
              "    <tr>\n",
              "      <th>3</th>\n",
              "      <td>credit card chase</td>\n",
              "      <td>630</td>\n",
              "    </tr>\n",
              "    <tr>\n",
              "      <th>4</th>\n",
              "      <td>credit card credit</td>\n",
              "      <td>514</td>\n",
              "    </tr>\n",
              "    <tr>\n",
              "      <th>5</th>\n",
              "      <td>inquiry credit report</td>\n",
              "      <td>480</td>\n",
              "    </tr>\n",
              "    <tr>\n",
              "      <th>6</th>\n",
              "      <td>charge credit card</td>\n",
              "      <td>423</td>\n",
              "    </tr>\n",
              "    <tr>\n",
              "      <th>7</th>\n",
              "      <td>xxxx xxxx xxxx</td>\n",
              "      <td>409</td>\n",
              "    </tr>\n",
              "    <tr>\n",
              "      <th>8</th>\n",
              "      <td>account credit card</td>\n",
              "      <td>398</td>\n",
              "    </tr>\n",
              "    <tr>\n",
              "      <th>9</th>\n",
              "      <td>card credit card</td>\n",
              "      <td>386</td>\n",
              "    </tr>\n",
              "    <tr>\n",
              "      <th>10</th>\n",
              "      <td>credit reporting agency</td>\n",
              "      <td>382</td>\n",
              "    </tr>\n",
              "    <tr>\n",
              "      <th>11</th>\n",
              "      <td>credit card bank</td>\n",
              "      <td>360</td>\n",
              "    </tr>\n",
              "    <tr>\n",
              "      <th>12</th>\n",
              "      <td>bank credit card</td>\n",
              "      <td>349</td>\n",
              "    </tr>\n",
              "    <tr>\n",
              "      <th>13</th>\n",
              "      <td>credit report credit</td>\n",
              "      <td>345</td>\n",
              "    </tr>\n",
              "    <tr>\n",
              "      <th>14</th>\n",
              "      <td>xxxx credit card</td>\n",
              "      <td>334</td>\n",
              "    </tr>\n",
              "    <tr>\n",
              "      <th>15</th>\n",
              "      <td>credit reporting act</td>\n",
              "      <td>328</td>\n",
              "    </tr>\n",
              "    <tr>\n",
              "      <th>16</th>\n",
              "      <td>credit card charge</td>\n",
              "      <td>308</td>\n",
              "    </tr>\n",
              "    <tr>\n",
              "      <th>17</th>\n",
              "      <td>credit card payment</td>\n",
              "      <td>295</td>\n",
              "    </tr>\n",
              "    <tr>\n",
              "      <th>18</th>\n",
              "      <td>account credit report</td>\n",
              "      <td>286</td>\n",
              "    </tr>\n",
              "    <tr>\n",
              "      <th>19</th>\n",
              "      <td>chase check account</td>\n",
              "      <td>282</td>\n",
              "    </tr>\n",
              "    <tr>\n",
              "      <th>20</th>\n",
              "      <td>credit card xxxx</td>\n",
              "      <td>278</td>\n",
              "    </tr>\n",
              "    <tr>\n",
              "      <th>21</th>\n",
              "      <td>credit card balance</td>\n",
              "      <td>262</td>\n",
              "    </tr>\n",
              "    <tr>\n",
              "      <th>22</th>\n",
              "      <td>credit card card</td>\n",
              "      <td>259</td>\n",
              "    </tr>\n",
              "    <tr>\n",
              "      <th>23</th>\n",
              "      <td>consumer protection bureau</td>\n",
              "      <td>247</td>\n",
              "    </tr>\n",
              "    <tr>\n",
              "      <th>24</th>\n",
              "      <td>chase customer service</td>\n",
              "      <td>246</td>\n",
              "    </tr>\n",
              "    <tr>\n",
              "      <th>25</th>\n",
              "      <td>check account chase</td>\n",
              "      <td>245</td>\n",
              "    </tr>\n",
              "    <tr>\n",
              "      <th>26</th>\n",
              "      <td>account chase account</td>\n",
              "      <td>245</td>\n",
              "    </tr>\n",
              "    <tr>\n",
              "      <th>27</th>\n",
              "      <td>victim identity theft</td>\n",
              "      <td>244</td>\n",
              "    </tr>\n",
              "    <tr>\n",
              "      <th>28</th>\n",
              "      <td>credit card service</td>\n",
              "      <td>239</td>\n",
              "    </tr>\n",
              "    <tr>\n",
              "      <th>29</th>\n",
              "      <td>freedom credit card</td>\n",
              "      <td>234</td>\n",
              "    </tr>\n",
              "  </tbody>\n",
              "</table>\n",
              "</div>\n",
              "      <button class=\"colab-df-convert\" onclick=\"convertToInteractive('df-10a41628-2d60-40ae-b5c9-83ca2b025de2')\"\n",
              "              title=\"Convert this dataframe to an interactive table.\"\n",
              "              style=\"display:none;\">\n",
              "        \n",
              "  <svg xmlns=\"http://www.w3.org/2000/svg\" height=\"24px\"viewBox=\"0 0 24 24\"\n",
              "       width=\"24px\">\n",
              "    <path d=\"M0 0h24v24H0V0z\" fill=\"none\"/>\n",
              "    <path d=\"M18.56 5.44l.94 2.06.94-2.06 2.06-.94-2.06-.94-.94-2.06-.94 2.06-2.06.94zm-11 1L8.5 8.5l.94-2.06 2.06-.94-2.06-.94L8.5 2.5l-.94 2.06-2.06.94zm10 10l.94 2.06.94-2.06 2.06-.94-2.06-.94-.94-2.06-.94 2.06-2.06.94z\"/><path d=\"M17.41 7.96l-1.37-1.37c-.4-.4-.92-.59-1.43-.59-.52 0-1.04.2-1.43.59L10.3 9.45l-7.72 7.72c-.78.78-.78 2.05 0 2.83L4 21.41c.39.39.9.59 1.41.59.51 0 1.02-.2 1.41-.59l7.78-7.78 2.81-2.81c.8-.78.8-2.07 0-2.86zM5.41 20L4 18.59l7.72-7.72 1.47 1.35L5.41 20z\"/>\n",
              "  </svg>\n",
              "      </button>\n",
              "      \n",
              "  <style>\n",
              "    .colab-df-container {\n",
              "      display:flex;\n",
              "      flex-wrap:wrap;\n",
              "      gap: 12px;\n",
              "    }\n",
              "\n",
              "    .colab-df-convert {\n",
              "      background-color: #E8F0FE;\n",
              "      border: none;\n",
              "      border-radius: 50%;\n",
              "      cursor: pointer;\n",
              "      display: none;\n",
              "      fill: #1967D2;\n",
              "      height: 32px;\n",
              "      padding: 0 0 0 0;\n",
              "      width: 32px;\n",
              "    }\n",
              "\n",
              "    .colab-df-convert:hover {\n",
              "      background-color: #E2EBFA;\n",
              "      box-shadow: 0px 1px 2px rgba(60, 64, 67, 0.3), 0px 1px 3px 1px rgba(60, 64, 67, 0.15);\n",
              "      fill: #174EA6;\n",
              "    }\n",
              "\n",
              "    [theme=dark] .colab-df-convert {\n",
              "      background-color: #3B4455;\n",
              "      fill: #D2E3FC;\n",
              "    }\n",
              "\n",
              "    [theme=dark] .colab-df-convert:hover {\n",
              "      background-color: #434B5C;\n",
              "      box-shadow: 0px 1px 3px 1px rgba(0, 0, 0, 0.15);\n",
              "      filter: drop-shadow(0px 1px 2px rgba(0, 0, 0, 0.3));\n",
              "      fill: #FFFFFF;\n",
              "    }\n",
              "  </style>\n",
              "\n",
              "      <script>\n",
              "        const buttonEl =\n",
              "          document.querySelector('#df-10a41628-2d60-40ae-b5c9-83ca2b025de2 button.colab-df-convert');\n",
              "        buttonEl.style.display =\n",
              "          google.colab.kernel.accessAllowed ? 'block' : 'none';\n",
              "\n",
              "        async function convertToInteractive(key) {\n",
              "          const element = document.querySelector('#df-10a41628-2d60-40ae-b5c9-83ca2b025de2');\n",
              "          const dataTable =\n",
              "            await google.colab.kernel.invokeFunction('convertToInteractive',\n",
              "                                                     [key], {});\n",
              "          if (!dataTable) return;\n",
              "\n",
              "          const docLinkHtml = 'Like what you see? Visit the ' +\n",
              "            '<a target=\"_blank\" href=https://colab.research.google.com/notebooks/data_table.ipynb>data table notebook</a>'\n",
              "            + ' to learn more about interactive tables.';\n",
              "          element.innerHTML = '';\n",
              "          dataTable['output_type'] = 'display_data';\n",
              "          await google.colab.output.renderOutput(dataTable, element);\n",
              "          const docLink = document.createElement('div');\n",
              "          docLink.innerHTML = docLinkHtml;\n",
              "          element.appendChild(docLink);\n",
              "        }\n",
              "      </script>\n",
              "    </div>\n",
              "  </div>\n",
              "  "
            ]
          },
          "metadata": {},
          "execution_count": 49
        }
      ],
      "source": [
        "#Write your code here to find the top 30 trigram frequency among the complaints in the cleaned datafram(df_clean). \n",
        "top_30words = get_top_ngrams(df_clean['Complaint_clean'].values.astype('U'), n=30, ngram=(3,3))\n",
        "df_trigram = pd.DataFrame(top_30words, columns=['trigram', 'count'])\n",
        "df_trigram"
      ]
    },
    {
      "cell_type": "code",
      "execution_count": 50,
      "id": "465bfd29",
      "metadata": {
        "ExecuteTime": {
          "end_time": "2022-02-09T05:16:57.879574Z",
          "start_time": "2022-02-09T05:16:57.457926Z"
        },
        "execution": {
          "iopub.execute_input": "2022-02-23T03:41:30.230197Z",
          "iopub.status.busy": "2022-02-23T03:41:30.229493Z",
          "iopub.status.idle": "2022-02-23T03:41:30.742182Z",
          "shell.execute_reply": "2022-02-23T03:41:30.742738Z"
        },
        "papermill": {
          "duration": 0.674596,
          "end_time": "2022-02-23T03:41:30.742963",
          "exception": false,
          "start_time": "2022-02-23T03:41:30.068367",
          "status": "completed"
        },
        "tags": [],
        "id": "465bfd29",
        "outputId": "bad7e2dd-2239-452c-90b0-77c0467cd367",
        "colab": {
          "base_uri": "https://localhost:8080/",
          "height": 501
        }
      },
      "outputs": [
        {
          "output_type": "display_data",
          "data": {
            "text/plain": [
              "<Figure size 1440x432 with 1 Axes>"
            ],
            "image/png": "[encoded data removed]"
          },
          "metadata": {
            "needs_background": "light"
          }
        }
      ],
      "source": [
        "plt.figure(figsize=[20,6])\n",
        "sns.barplot(x=df_trigram['trigram'], y=df_trigram['count'])\n",
        "plt.xticks(rotation=45)\n",
        "plt.xlabel(\"Trigram\")\n",
        "plt.ylabel(\"Count\")\n",
        "plt.title(\"Count of top 30 Trigrams\")\n",
        "plt.show()"
      ]
    },
    {
      "cell_type": "code",
      "execution_count": 51,
      "id": "8ede1c6a",
      "metadata": {
        "ExecuteTime": {
          "end_time": "2022-02-09T05:16:57.895119Z",
          "start_time": "2022-02-09T05:16:57.881657Z"
        },
        "execution": {
          "iopub.execute_input": "2022-02-23T03:41:31.070754Z",
          "iopub.status.busy": "2022-02-23T03:41:31.069717Z",
          "iopub.status.idle": "2022-02-23T03:41:31.080189Z",
          "shell.execute_reply": "2022-02-23T03:41:31.081094Z"
        },
        "id": "8ede1c6a",
        "papermill": {
          "duration": 0.17226,
          "end_time": "2022-02-23T03:41:31.081290",
          "exception": false,
          "start_time": "2022-02-23T03:41:30.909030",
          "status": "completed"
        },
        "tags": [],
        "outputId": "2a162b44-c588-4318-f6d1-0a69f93dec93",
        "colab": {
          "base_uri": "https://localhost:8080/",
          "height": 363
        }
      },
      "outputs": [
        {
          "output_type": "execute_result",
          "data": {
            "text/plain": [
              "                 trigram  count\n",
              "0      chase credit card   2062\n",
              "1    credit card account   1019\n",
              "2    credit card company    992\n",
              "3      credit card chase    630\n",
              "4     credit card credit    514\n",
              "5  inquiry credit report    480\n",
              "6     charge credit card    423\n",
              "7         xxxx xxxx xxxx    409\n",
              "8    account credit card    398\n",
              "9       card credit card    386"
            ],
            "text/html": [
              "\n",
              "  <div id=\"df-9e6d7382-e2e4-4bcb-b37b-4e7b432a5d5a\">\n",
              "    <div class=\"colab-df-container\">\n",
              "      <div>\n",
              "<style scoped>\n",
              "    .dataframe tbody tr th:only-of-type {\n",
              "        vertical-align: middle;\n",
              "    }\n",
              "\n",
              "    .dataframe tbody tr th {\n",
              "        vertical-align: top;\n",
              "    }\n",
              "\n",
              "    .dataframe thead th {\n",
              "        text-align: right;\n",
              "    }\n",
              "</style>\n",
              "<table border=\"1\" class=\"dataframe\">\n",
              "  <thead>\n",
              "    <tr style=\"text-align: right;\">\n",
              "      <th></th>\n",
              "      <th>trigram</th>\n",
              "      <th>count</th>\n",
              "    </tr>\n",
              "  </thead>\n",
              "  <tbody>\n",
              "    <tr>\n",
              "      <th>0</th>\n",
              "      <td>chase credit card</td>\n",
              "      <td>2062</td>\n",
              "    </tr>\n",
              "    <tr>\n",
              "      <th>1</th>\n",
              "      <td>credit card account</td>\n",
              "      <td>1019</td>\n",
              "    </tr>\n",
              "    <tr>\n",
              "      <th>2</th>\n",
              "      <td>credit card company</td>\n",
              "      <td>992</td>\n",
              "    </tr>\n",
              "    <tr>\n",
              "      <th>3</th>\n",
              "      <td>credit card chase</td>\n",
              "      <td>630</td>\n",
              "    </tr>\n",
              "    <tr>\n",
              "      <th>4</th>\n",
              "      <td>credit card credit</td>\n",
              "      <td>514</td>\n",
              "    </tr>\n",
              "    <tr>\n",
              "      <th>5</th>\n",
              "      <td>inquiry credit report</td>\n",
              "      <td>480</td>\n",
              "    </tr>\n",
              "    <tr>\n",
              "      <th>6</th>\n",
              "      <td>charge credit card</td>\n",
              "      <td>423</td>\n",
              "    </tr>\n",
              "    <tr>\n",
              "      <th>7</th>\n",
              "      <td>xxxx xxxx xxxx</td>\n",
              "      <td>409</td>\n",
              "    </tr>\n",
              "    <tr>\n",
              "      <th>8</th>\n",
              "      <td>account credit card</td>\n",
              "      <td>398</td>\n",
              "    </tr>\n",
              "    <tr>\n",
              "      <th>9</th>\n",
              "      <td>card credit card</td>\n",
              "      <td>386</td>\n",
              "    </tr>\n",
              "  </tbody>\n",
              "</table>\n",
              "</div>\n",
              "      <button class=\"colab-df-convert\" onclick=\"convertToInteractive('df-9e6d7382-e2e4-4bcb-b37b-4e7b432a5d5a')\"\n",
              "              title=\"Convert this dataframe to an interactive table.\"\n",
              "              style=\"display:none;\">\n",
              "        \n",
              "  <svg xmlns=\"http://www.w3.org/2000/svg\" height=\"24px\"viewBox=\"0 0 24 24\"\n",
              "       width=\"24px\">\n",
              "    <path d=\"M0 0h24v24H0V0z\" fill=\"none\"/>\n",
              "    <path d=\"M18.56 5.44l.94 2.06.94-2.06 2.06-.94-2.06-.94-.94-2.06-.94 2.06-2.06.94zm-11 1L8.5 8.5l.94-2.06 2.06-.94-2.06-.94L8.5 2.5l-.94 2.06-2.06.94zm10 10l.94 2.06.94-2.06 2.06-.94-2.06-.94-.94-2.06-.94 2.06-2.06.94z\"/><path d=\"M17.41 7.96l-1.37-1.37c-.4-.4-.92-.59-1.43-.59-.52 0-1.04.2-1.43.59L10.3 9.45l-7.72 7.72c-.78.78-.78 2.05 0 2.83L4 21.41c.39.39.9.59 1.41.59.51 0 1.02-.2 1.41-.59l7.78-7.78 2.81-2.81c.8-.78.8-2.07 0-2.86zM5.41 20L4 18.59l7.72-7.72 1.47 1.35L5.41 20z\"/>\n",
              "  </svg>\n",
              "      </button>\n",
              "      \n",
              "  <style>\n",
              "    .colab-df-container {\n",
              "      display:flex;\n",
              "      flex-wrap:wrap;\n",
              "      gap: 12px;\n",
              "    }\n",
              "\n",
              "    .colab-df-convert {\n",
              "      background-color: #E8F0FE;\n",
              "      border: none;\n",
              "      border-radius: 50%;\n",
              "      cursor: pointer;\n",
              "      display: none;\n",
              "      fill: #1967D2;\n",
              "      height: 32px;\n",
              "      padding: 0 0 0 0;\n",
              "      width: 32px;\n",
              "    }\n",
              "\n",
              "    .colab-df-convert:hover {\n",
              "      background-color: #E2EBFA;\n",
              "      box-shadow: 0px 1px 2px rgba(60, 64, 67, 0.3), 0px 1px 3px 1px rgba(60, 64, 67, 0.15);\n",
              "      fill: #174EA6;\n",
              "    }\n",
              "\n",
              "    [theme=dark] .colab-df-convert {\n",
              "      background-color: #3B4455;\n",
              "      fill: #D2E3FC;\n",
              "    }\n",
              "\n",
              "    [theme=dark] .colab-df-convert:hover {\n",
              "      background-color: #434B5C;\n",
              "      box-shadow: 0px 1px 3px 1px rgba(0, 0, 0, 0.15);\n",
              "      filter: drop-shadow(0px 1px 2px rgba(0, 0, 0, 0.3));\n",
              "      fill: #FFFFFF;\n",
              "    }\n",
              "  </style>\n",
              "\n",
              "      <script>\n",
              "        const buttonEl =\n",
              "          document.querySelector('#df-9e6d7382-e2e4-4bcb-b37b-4e7b432a5d5a button.colab-df-convert');\n",
              "        buttonEl.style.display =\n",
              "          google.colab.kernel.accessAllowed ? 'block' : 'none';\n",
              "\n",
              "        async function convertToInteractive(key) {\n",
              "          const element = document.querySelector('#df-9e6d7382-e2e4-4bcb-b37b-4e7b432a5d5a');\n",
              "          const dataTable =\n",
              "            await google.colab.kernel.invokeFunction('convertToInteractive',\n",
              "                                                     [key], {});\n",
              "          if (!dataTable) return;\n",
              "\n",
              "          const docLinkHtml = 'Like what you see? Visit the ' +\n",
              "            '<a target=\"_blank\" href=https://colab.research.google.com/notebooks/data_table.ipynb>data table notebook</a>'\n",
              "            + ' to learn more about interactive tables.';\n",
              "          element.innerHTML = '';\n",
              "          dataTable['output_type'] = 'display_data';\n",
              "          await google.colab.output.renderOutput(dataTable, element);\n",
              "          const docLink = document.createElement('div');\n",
              "          docLink.innerHTML = docLinkHtml;\n",
              "          element.appendChild(docLink);\n",
              "        }\n",
              "      </script>\n",
              "    </div>\n",
              "  </div>\n",
              "  "
            ]
          },
          "metadata": {},
          "execution_count": 51
        }
      ],
      "source": [
        "#Print the top 10 words in the trigram frequency\n",
        "df_trigram.head(10)"
      ]
    },
    {
      "cell_type": "markdown",
      "id": "1c67ddac",
      "metadata": {
        "id": "1c67ddac",
        "papermill": {
          "duration": 0.155014,
          "end_time": "2022-02-23T03:41:31.385465",
          "exception": false,
          "start_time": "2022-02-23T03:41:31.230451",
          "status": "completed"
        },
        "tags": []
      },
      "source": [
        "## The personal details of customer has been masked in the dataset with xxxx. Let's remove the masked text as this will be of no use for our analysis"
      ]
    },
    {
      "cell_type": "code",
      "execution_count": 52,
      "id": "321c7d7b",
      "metadata": {
        "ExecuteTime": {
          "end_time": "2022-02-09T05:16:57.942964Z",
          "start_time": "2022-02-09T05:16:57.896939Z"
        },
        "execution": {
          "iopub.execute_input": "2022-02-23T03:41:31.709612Z",
          "iopub.status.busy": "2022-02-23T03:41:31.708596Z",
          "iopub.status.idle": "2022-02-23T03:41:31.760048Z",
          "shell.execute_reply": "2022-02-23T03:41:31.759429Z"
        },
        "id": "321c7d7b",
        "papermill": {
          "duration": 0.218943,
          "end_time": "2022-02-23T03:41:31.760204",
          "exception": false,
          "start_time": "2022-02-23T03:41:31.541261",
          "status": "completed"
        },
        "tags": []
      },
      "outputs": [],
      "source": [
        "df_clean['Complaint_clean'] = df_clean['Complaint_clean'].str.replace('xxxx','')"
      ]
    },
    {
      "cell_type": "code",
      "execution_count": 53,
      "id": "47169ac9",
      "metadata": {
        "ExecuteTime": {
          "end_time": "2022-02-09T05:16:57.958905Z",
          "start_time": "2022-02-09T05:16:57.944904Z"
        },
        "execution": {
          "iopub.execute_input": "2022-02-23T03:41:32.078080Z",
          "iopub.status.busy": "2022-02-23T03:41:32.077026Z",
          "iopub.status.idle": "2022-02-23T03:41:32.091885Z",
          "shell.execute_reply": "2022-02-23T03:41:32.092393Z"
        },
        "id": "47169ac9",
        "papermill": {
          "duration": 0.174681,
          "end_time": "2022-02-23T03:41:32.092581",
          "exception": false,
          "start_time": "2022-02-23T03:41:31.917900",
          "status": "completed"
        },
        "tags": [],
        "outputId": "11f83b12-2d0e-4314-b4c3-18f52b20c908",
        "colab": {
          "base_uri": "https://localhost:8080/",
          "height": 468
        }
      },
      "outputs": [
        {
          "output_type": "execute_result",
          "data": {
            "text/plain": [
              "                                 complaint_what_happened  \\\n",
              "1      good morning my name is xxxx xxxx and i apprec...   \n",
              "2      i upgraded my xxxx xxxx card in  and was told ...   \n",
              "10     chase card was reported on  however fraudulent...   \n",
              "11     on  while trying to book a xxxx  xxxx  ticket ...   \n",
              "14     my grand son give me check for  i deposit it i...   \n",
              "...                                                  ...   \n",
              "78303  after being a chase card customer for well ove...   \n",
              "78309  on wednesday xxxxxxxx i called chas my xxxx xx...   \n",
              "78310  i am not familiar with xxxx pay and did not un...   \n",
              "78311  i have had flawless credit for  yrs ive had ch...   \n",
              "78312  roughly  years ago i closed out my accounts wi...   \n",
              "\n",
              "                                    complaint_lemmatized  \\\n",
              "1      good morning my name be xxxx xxxx and I apprec...   \n",
              "2      I upgrade my xxxx xxxx card in   and be tell b...   \n",
              "10     chase card be report on   however fraudulent a...   \n",
              "11     on   while try to book a xxxx   xxxx   ticket ...   \n",
              "14     my grand son give I check for   I deposit it i...   \n",
              "...                                                  ...   \n",
              "78303  after be a chase card customer for well over a...   \n",
              "78309  on wednesday xxxxxxxx I call cha my xxxx xxxx ...   \n",
              "78310  I be not familiar with xxxx pay and do not und...   \n",
              "78311  I have have flawless credit for   yrs I ve hav...   \n",
              "78312  roughly   year ago I close out my account with...   \n",
              "\n",
              "                                   complaint_POS_removed  \\\n",
              "1      morning name stop bank cardmember service ask ...   \n",
              "2      card agent upgrade date agent information orde...   \n",
              "10     card report application identity consent servi...   \n",
              "11     try book xxxx ticket offer ticket card informa...   \n",
              "14     son chase account fund bank account pay money ...   \n",
              "...                                                  ...   \n",
              "78303  card customer decade solicitation credit card ...   \n",
              "78309  visa credit card provider claim purchase prote...   \n",
              "78310  pay risk provide consumer bank app chase year ...   \n",
              "78311  credit yrs credit card chase freedom xxxx prob...   \n",
              "78312  year account jp bank xxxx order line credit ac...   \n",
              "\n",
              "                                         Complaint_clean  \n",
              "1      morning name stop bank cardmember service ask ...  \n",
              "2      card agent upgrade date agent information orde...  \n",
              "10     card report application identity consent servi...  \n",
              "11     try book  ticket offer ticket card information...  \n",
              "14     son chase account fund bank account pay money ...  \n",
              "...                                                  ...  \n",
              "78303  card customer decade solicitation credit card ...  \n",
              "78309  visa credit card provider claim purchase prote...  \n",
              "78310  pay risk provide consumer bank app chase year ...  \n",
              "78311  credit yrs credit card chase freedom  problem ...  \n",
              "78312  year account jp bank  order line credit accoun...  \n",
              "\n",
              "[21072 rows x 4 columns]"
            ],
            "text/html": [
              "\n",
              "  <div id=\"df-14bb9ec5-eaa4-43de-a827-8bba4a3a1788\">\n",
              "    <div class=\"colab-df-container\">\n",
              "      <div>\n",
              "<style scoped>\n",
              "    .dataframe tbody tr th:only-of-type {\n",
              "        vertical-align: middle;\n",
              "    }\n",
              "\n",
              "    .dataframe tbody tr th {\n",
              "        vertical-align: top;\n",
              "    }\n",
              "\n",
              "    .dataframe thead th {\n",
              "        text-align: right;\n",
              "    }\n",
              "</style>\n",
              "<table border=\"1\" class=\"dataframe\">\n",
              "  <thead>\n",
              "    <tr style=\"text-align: right;\">\n",
              "      <th></th>\n",
              "      <th>complaint_what_happened</th>\n",
              "      <th>complaint_lemmatized</th>\n",
              "      <th>complaint_POS_removed</th>\n",
              "      <th>Complaint_clean</th>\n",
              "    </tr>\n",
              "  </thead>\n",
              "  <tbody>\n",
              "    <tr>\n",
              "      <th>1</th>\n",
              "      <td>good morning my name is xxxx xxxx and i apprec...</td>\n",
              "      <td>good morning my name be xxxx xxxx and I apprec...</td>\n",
              "      <td>morning name stop bank cardmember service ask ...</td>\n",
              "      <td>morning name stop bank cardmember service ask ...</td>\n",
              "    </tr>\n",
              "    <tr>\n",
              "      <th>2</th>\n",
              "      <td>i upgraded my xxxx xxxx card in  and was told ...</td>\n",
              "      <td>I upgrade my xxxx xxxx card in   and be tell b...</td>\n",
              "      <td>card agent upgrade date agent information orde...</td>\n",
              "      <td>card agent upgrade date agent information orde...</td>\n",
              "    </tr>\n",
              "    <tr>\n",
              "      <th>10</th>\n",
              "      <td>chase card was reported on  however fraudulent...</td>\n",
              "      <td>chase card be report on   however fraudulent a...</td>\n",
              "      <td>card report application identity consent servi...</td>\n",
              "      <td>card report application identity consent servi...</td>\n",
              "    </tr>\n",
              "    <tr>\n",
              "      <th>11</th>\n",
              "      <td>on  while trying to book a xxxx  xxxx  ticket ...</td>\n",
              "      <td>on   while try to book a xxxx   xxxx   ticket ...</td>\n",
              "      <td>try book xxxx ticket offer ticket card informa...</td>\n",
              "      <td>try book  ticket offer ticket card information...</td>\n",
              "    </tr>\n",
              "    <tr>\n",
              "      <th>14</th>\n",
              "      <td>my grand son give me check for  i deposit it i...</td>\n",
              "      <td>my grand son give I check for   I deposit it i...</td>\n",
              "      <td>son chase account fund bank account pay money ...</td>\n",
              "      <td>son chase account fund bank account pay money ...</td>\n",
              "    </tr>\n",
              "    <tr>\n",
              "      <th>...</th>\n",
              "      <td>...</td>\n",
              "      <td>...</td>\n",
              "      <td>...</td>\n",
              "      <td>...</td>\n",
              "    </tr>\n",
              "    <tr>\n",
              "      <th>78303</th>\n",
              "      <td>after being a chase card customer for well ove...</td>\n",
              "      <td>after be a chase card customer for well over a...</td>\n",
              "      <td>card customer decade solicitation credit card ...</td>\n",
              "      <td>card customer decade solicitation credit card ...</td>\n",
              "    </tr>\n",
              "    <tr>\n",
              "      <th>78309</th>\n",
              "      <td>on wednesday xxxxxxxx i called chas my xxxx xx...</td>\n",
              "      <td>on wednesday xxxxxxxx I call cha my xxxx xxxx ...</td>\n",
              "      <td>visa credit card provider claim purchase prote...</td>\n",
              "      <td>visa credit card provider claim purchase prote...</td>\n",
              "    </tr>\n",
              "    <tr>\n",
              "      <th>78310</th>\n",
              "      <td>i am not familiar with xxxx pay and did not un...</td>\n",
              "      <td>I be not familiar with xxxx pay and do not und...</td>\n",
              "      <td>pay risk provide consumer bank app chase year ...</td>\n",
              "      <td>pay risk provide consumer bank app chase year ...</td>\n",
              "    </tr>\n",
              "    <tr>\n",
              "      <th>78311</th>\n",
              "      <td>i have had flawless credit for  yrs ive had ch...</td>\n",
              "      <td>I have have flawless credit for   yrs I ve hav...</td>\n",
              "      <td>credit yrs credit card chase freedom xxxx prob...</td>\n",
              "      <td>credit yrs credit card chase freedom  problem ...</td>\n",
              "    </tr>\n",
              "    <tr>\n",
              "      <th>78312</th>\n",
              "      <td>roughly  years ago i closed out my accounts wi...</td>\n",
              "      <td>roughly   year ago I close out my account with...</td>\n",
              "      <td>year account jp bank xxxx order line credit ac...</td>\n",
              "      <td>year account jp bank  order line credit accoun...</td>\n",
              "    </tr>\n",
              "  </tbody>\n",
              "</table>\n",
              "<p>21072 rows × 4 columns</p>\n",
              "</div>\n",
              "      <button class=\"colab-df-convert\" onclick=\"convertToInteractive('df-14bb9ec5-eaa4-43de-a827-8bba4a3a1788')\"\n",
              "              title=\"Convert this dataframe to an interactive table.\"\n",
              "              style=\"display:none;\">\n",
              "        \n",
              "  <svg xmlns=\"http://www.w3.org/2000/svg\" height=\"24px\"viewBox=\"0 0 24 24\"\n",
              "       width=\"24px\">\n",
              "    <path d=\"M0 0h24v24H0V0z\" fill=\"none\"/>\n",
              "    <path d=\"M18.56 5.44l.94 2.06.94-2.06 2.06-.94-2.06-.94-.94-2.06-.94 2.06-2.06.94zm-11 1L8.5 8.5l.94-2.06 2.06-.94-2.06-.94L8.5 2.5l-.94 2.06-2.06.94zm10 10l.94 2.06.94-2.06 2.06-.94-2.06-.94-.94-2.06-.94 2.06-2.06.94z\"/><path d=\"M17.41 7.96l-1.37-1.37c-.4-.4-.92-.59-1.43-.59-.52 0-1.04.2-1.43.59L10.3 9.45l-7.72 7.72c-.78.78-.78 2.05 0 2.83L4 21.41c.39.39.9.59 1.41.59.51 0 1.02-.2 1.41-.59l7.78-7.78 2.81-2.81c.8-.78.8-2.07 0-2.86zM5.41 20L4 18.59l7.72-7.72 1.47 1.35L5.41 20z\"/>\n",
              "  </svg>\n",
              "      </button>\n",
              "      \n",
              "  <style>\n",
              "    .colab-df-container {\n",
              "      display:flex;\n",
              "      flex-wrap:wrap;\n",
              "      gap: 12px;\n",
              "    }\n",
              "\n",
              "    .colab-df-convert {\n",
              "      background-color: #E8F0FE;\n",
              "      border: none;\n",
              "      border-radius: 50%;\n",
              "      cursor: pointer;\n",
              "      display: none;\n",
              "      fill: #1967D2;\n",
              "      height: 32px;\n",
              "      padding: 0 0 0 0;\n",
              "      width: 32px;\n",
              "    }\n",
              "\n",
              "    .colab-df-convert:hover {\n",
              "      background-color: #E2EBFA;\n",
              "      box-shadow: 0px 1px 2px rgba(60, 64, 67, 0.3), 0px 1px 3px 1px rgba(60, 64, 67, 0.15);\n",
              "      fill: #174EA6;\n",
              "    }\n",
              "\n",
              "    [theme=dark] .colab-df-convert {\n",
              "      background-color: #3B4455;\n",
              "      fill: #D2E3FC;\n",
              "    }\n",
              "\n",
              "    [theme=dark] .colab-df-convert:hover {\n",
              "      background-color: #434B5C;\n",
              "      box-shadow: 0px 1px 3px 1px rgba(0, 0, 0, 0.15);\n",
              "      filter: drop-shadow(0px 1px 2px rgba(0, 0, 0, 0.3));\n",
              "      fill: #FFFFFF;\n",
              "    }\n",
              "  </style>\n",
              "\n",
              "      <script>\n",
              "        const buttonEl =\n",
              "          document.querySelector('#df-14bb9ec5-eaa4-43de-a827-8bba4a3a1788 button.colab-df-convert');\n",
              "        buttonEl.style.display =\n",
              "          google.colab.kernel.accessAllowed ? 'block' : 'none';\n",
              "\n",
              "        async function convertToInteractive(key) {\n",
              "          const element = document.querySelector('#df-14bb9ec5-eaa4-43de-a827-8bba4a3a1788');\n",
              "          const dataTable =\n",
              "            await google.colab.kernel.invokeFunction('convertToInteractive',\n",
              "                                                     [key], {});\n",
              "          if (!dataTable) return;\n",
              "\n",
              "          const docLinkHtml = 'Like what you see? Visit the ' +\n",
              "            '<a target=\"_blank\" href=https://colab.research.google.com/notebooks/data_table.ipynb>data table notebook</a>'\n",
              "            + ' to learn more about interactive tables.';\n",
              "          element.innerHTML = '';\n",
              "          dataTable['output_type'] = 'display_data';\n",
              "          await google.colab.output.renderOutput(dataTable, element);\n",
              "          const docLink = document.createElement('div');\n",
              "          docLink.innerHTML = docLinkHtml;\n",
              "          element.appendChild(docLink);\n",
              "        }\n",
              "      </script>\n",
              "    </div>\n",
              "  </div>\n",
              "  "
            ]
          },
          "metadata": {},
          "execution_count": 53
        }
      ],
      "source": [
        "#All masked texts has been removed\n",
        "df_clean"
      ]
    },
    {
      "cell_type": "markdown",
      "id": "69fa6180",
      "metadata": {
        "id": "69fa6180",
        "papermill": {
          "duration": 0.157839,
          "end_time": "2022-02-23T03:41:32.405681",
          "exception": false,
          "start_time": "2022-02-23T03:41:32.247842",
          "status": "completed"
        },
        "tags": []
      },
      "source": [
        "## Feature Extraction\n",
        "Convert the raw texts to a matrix of TF-IDF features\n",
        "\n",
        "**max_df** is used for removing terms that appear too frequently, also known as \"corpus-specific stop words\"\n",
        "max_df = 0.95 means \"ignore terms that appear in more than 95% of the complaints\"\n",
        "\n",
        "**min_df** is used for removing terms that appear too infrequently\n",
        "min_df = 2 means \"ignore terms that appear in less than 2 complaints\""
      ]
    },
    {
      "cell_type": "code",
      "execution_count": 54,
      "id": "68e57f38",
      "metadata": {
        "ExecuteTime": {
          "end_time": "2022-02-09T05:16:57.974082Z",
          "start_time": "2022-02-09T05:16:57.960938Z"
        },
        "execution": {
          "iopub.execute_input": "2022-02-23T03:41:32.727037Z",
          "iopub.status.busy": "2022-02-23T03:41:32.726031Z",
          "iopub.status.idle": "2022-02-23T03:41:32.730248Z",
          "shell.execute_reply": "2022-02-23T03:41:32.730863Z"
        },
        "id": "68e57f38",
        "papermill": {
          "duration": 0.166663,
          "end_time": "2022-02-23T03:41:32.731058",
          "exception": false,
          "start_time": "2022-02-23T03:41:32.564395",
          "status": "completed"
        },
        "tags": []
      },
      "outputs": [],
      "source": [
        "#Write your code here to initialise the TfidfVectorizer \n",
        "tfidf = TfidfVectorizer(min_df=2, max_df=0.95, stop_words='english')"
      ]
    },
    {
      "cell_type": "markdown",
      "id": "e60bded1",
      "metadata": {
        "id": "e60bded1",
        "papermill": {
          "duration": 0.159858,
          "end_time": "2022-02-23T03:41:33.045730",
          "exception": false,
          "start_time": "2022-02-23T03:41:32.885872",
          "status": "completed"
        },
        "tags": []
      },
      "source": [
        "#### Create a document term matrix using fit_transform\n",
        "\n",
        "The contents of a document term matrix are tuples of (complaint_id,token_id) tf-idf score:\n",
        "The tuples that are not there have a tf-idf score of 0"
      ]
    },
    {
      "cell_type": "code",
      "execution_count": 55,
      "id": "02d88f5c",
      "metadata": {
        "ExecuteTime": {
          "end_time": "2022-02-09T05:16:59.272847Z",
          "start_time": "2022-02-09T05:16:57.975908Z"
        },
        "execution": {
          "iopub.execute_input": "2022-02-23T03:41:33.367135Z",
          "iopub.status.busy": "2022-02-23T03:41:33.366098Z",
          "iopub.status.idle": "2022-02-23T03:41:34.926178Z",
          "shell.execute_reply": "2022-02-23T03:41:34.925439Z"
        },
        "id": "02d88f5c",
        "papermill": {
          "duration": 1.723297,
          "end_time": "2022-02-23T03:41:34.926332",
          "exception": false,
          "start_time": "2022-02-23T03:41:33.203035",
          "status": "completed"
        },
        "tags": []
      },
      "outputs": [],
      "source": [
        "#Write your code here to create the Document Term Matrix by transforming the complaints column present in df_clean.\n",
        "dtm = tfidf.fit_transform(df_clean['Complaint_clean'])"
      ]
    },
    {
      "cell_type": "code",
      "execution_count": 56,
      "id": "e01bdbb2",
      "metadata": {
        "ExecuteTime": {
          "end_time": "2022-02-09T05:16:59.288335Z",
          "start_time": "2022-02-09T05:16:59.274762Z"
        },
        "execution": {
          "iopub.execute_input": "2022-02-23T03:41:35.247157Z",
          "iopub.status.busy": "2022-02-23T03:41:35.245785Z",
          "iopub.status.idle": "2022-02-23T03:41:35.253015Z",
          "shell.execute_reply": "2022-02-23T03:41:35.253651Z"
        },
        "papermill": {
          "duration": 0.168903,
          "end_time": "2022-02-23T03:41:35.253856",
          "exception": false,
          "start_time": "2022-02-23T03:41:35.084953",
          "status": "completed"
        },
        "tags": [],
        "id": "e01bdbb2",
        "outputId": "1b81382c-e63d-4ee1-8a61-dcc71f2d3598",
        "colab": {
          "base_uri": "https://localhost:8080/"
        }
      },
      "outputs": [
        {
          "output_type": "execute_result",
          "data": {
            "text/plain": [
              "<21072x7257 sparse matrix of type '<class 'numpy.float64'>'\n",
              "\twith 643713 stored elements in Compressed Sparse Row format>"
            ]
          },
          "metadata": {},
          "execution_count": 56
        }
      ],
      "source": [
        "dtm"
      ]
    },
    {
      "cell_type": "markdown",
      "id": "19784d01",
      "metadata": {
        "id": "19784d01",
        "papermill": {
          "duration": 0.155446,
          "end_time": "2022-02-23T03:41:35.568575",
          "exception": false,
          "start_time": "2022-02-23T03:41:35.413129",
          "status": "completed"
        },
        "tags": []
      },
      "source": [
        "## Topic Modelling using NMF\n",
        "\n",
        "Non-Negative Matrix Factorization (NMF) is an unsupervised technique so there are no labeling of topics that the model will be trained on. The way it works is that, NMF decomposes (or factorizes) high-dimensional vectors into a lower-dimensional representation. These lower-dimensional vectors are non-negative which also means their coefficients are non-negative.\n",
        "\n",
        "In this task you have to perform the following:\n",
        "\n",
        "* Find the best number of clusters \n",
        "* Apply the best number to create word clusters\n",
        "* Inspect & validate the correction of each cluster wrt the complaints \n",
        "* Correct the labels if needed \n",
        "* Map the clusters to topics/cluster names"
      ]
    },
    {
      "cell_type": "code",
      "execution_count": 57,
      "id": "f47e9be8",
      "metadata": {
        "ExecuteTime": {
          "end_time": "2022-02-09T05:16:59.334761Z",
          "start_time": "2022-02-09T05:16:59.290295Z"
        },
        "execution": {
          "iopub.execute_input": "2022-02-23T03:41:35.882103Z",
          "iopub.status.busy": "2022-02-23T03:41:35.881050Z",
          "iopub.status.idle": "2022-02-23T03:41:35.915423Z",
          "shell.execute_reply": "2022-02-23T03:41:35.916013Z"
        },
        "id": "f47e9be8",
        "papermill": {
          "duration": 0.192397,
          "end_time": "2022-02-23T03:41:35.916200",
          "exception": false,
          "start_time": "2022-02-23T03:41:35.723803",
          "status": "completed"
        },
        "tags": []
      },
      "outputs": [],
      "source": [
        "from sklearn.decomposition import NMF"
      ]
    },
    {
      "cell_type": "markdown",
      "id": "b73d1e48",
      "metadata": {
        "id": "b73d1e48",
        "papermill": {
          "duration": 0.155089,
          "end_time": "2022-02-23T03:41:36.227784",
          "exception": false,
          "start_time": "2022-02-23T03:41:36.072695",
          "status": "completed"
        },
        "tags": []
      },
      "source": [
        "## Manual Topic Modeling\n",
        "You need to do take the trial & error approach to find the best num of topics for your NMF model.\n",
        "\n",
        "The only parameter that is required is the number of components i.e. the number of topics we want. This is the most crucial step in the whole topic modeling process and will greatly affect how good your final topics are."
      ]
    },
    {
      "cell_type": "code",
      "execution_count": 58,
      "id": "30d3802a",
      "metadata": {
        "ExecuteTime": {
          "end_time": "2022-02-09T05:16:59.350000Z",
          "start_time": "2022-02-09T05:16:59.336783Z"
        },
        "execution": {
          "iopub.execute_input": "2022-02-23T03:41:36.537701Z",
          "iopub.status.busy": "2022-02-23T03:41:36.537045Z",
          "iopub.status.idle": "2022-02-23T03:41:36.540795Z",
          "shell.execute_reply": "2022-02-23T03:41:36.541372Z"
        },
        "id": "30d3802a",
        "papermill": {
          "duration": 0.162601,
          "end_time": "2022-02-23T03:41:36.541571",
          "exception": false,
          "start_time": "2022-02-23T03:41:36.378970",
          "status": "completed"
        },
        "tags": []
      },
      "outputs": [],
      "source": [
        "#Load your nmf_model with the n_components i.e 5\n",
        "num_topics = 5\n",
        "\n",
        "#keep the random_state =40\n",
        "nmf_model = NMF(n_components=num_topics, random_state=40)"
      ]
    },
    {
      "cell_type": "code",
      "execution_count": 59,
      "id": "82c2e13c",
      "metadata": {
        "ExecuteTime": {
          "end_time": "2022-02-09T05:17:00.488572Z",
          "start_time": "2022-02-09T05:16:59.352049Z"
        },
        "execution": {
          "iopub.execute_input": "2022-02-23T03:41:36.865910Z",
          "iopub.status.busy": "2022-02-23T03:41:36.865191Z",
          "iopub.status.idle": "2022-02-23T03:41:37.935540Z",
          "shell.execute_reply": "2022-02-23T03:41:37.936769Z"
        },
        "id": "82c2e13c",
        "papermill": {
          "duration": 1.235085,
          "end_time": "2022-02-23T03:41:37.937142",
          "exception": false,
          "start_time": "2022-02-23T03:41:36.702057",
          "status": "completed"
        },
        "tags": [],
        "outputId": "6f9b1003-4258-4a50-eec7-505cd9ef1c4b",
        "colab": {
          "base_uri": "https://localhost:8080/"
        }
      },
      "outputs": [
        {
          "output_type": "stream",
          "name": "stderr",
          "text": [
            "/usr/local/lib/python3.7/dist-packages/sklearn/decomposition/_nmf.py:294: FutureWarning:\n",
            "\n",
            "The 'init' value, when 'init=None' and n_components is less than n_samples and n_features, will be changed from 'nndsvd' to 'nndsvda' in 1.1 (renaming of 0.26).\n",
            "\n",
            "/usr/local/lib/python3.7/dist-packages/sklearn/utils/deprecation.py:87: FutureWarning:\n",
            "\n",
            "Function get_feature_names is deprecated; get_feature_names is deprecated in 1.0 and will be removed in 1.2. Please use get_feature_names_out instead.\n",
            "\n"
          ]
        },
        {
          "output_type": "execute_result",
          "data": {
            "text/plain": [
              "7257"
            ]
          },
          "metadata": {},
          "execution_count": 59
        }
      ],
      "source": [
        "nmf_model.fit(dtm)\n",
        "len(tfidf.get_feature_names())"
      ]
    },
    {
      "cell_type": "code",
      "execution_count": 60,
      "id": "8d848b26",
      "metadata": {
        "ExecuteTime": {
          "end_time": "2022-02-09T05:17:00.503636Z",
          "start_time": "2022-02-09T05:17:00.490569Z"
        },
        "execution": {
          "iopub.execute_input": "2022-02-23T03:41:38.306968Z",
          "iopub.status.busy": "2022-02-23T03:41:38.306185Z",
          "iopub.status.idle": "2022-02-23T03:41:38.308310Z",
          "shell.execute_reply": "2022-02-23T03:41:38.307722Z"
        },
        "papermill": {
          "duration": 0.165508,
          "end_time": "2022-02-23T03:41:38.308472",
          "exception": false,
          "start_time": "2022-02-23T03:41:38.142964",
          "status": "completed"
        },
        "tags": [],
        "id": "8d848b26"
      },
      "outputs": [],
      "source": [
        "H = nmf_model.components_       # Topic-term matrix"
      ]
    },
    {
      "cell_type": "code",
      "execution_count": 61,
      "id": "0d0a2922",
      "metadata": {
        "ExecuteTime": {
          "end_time": "2022-02-09T05:17:00.565567Z",
          "start_time": "2022-02-09T05:17:00.505570Z"
        },
        "execution": {
          "iopub.execute_input": "2022-02-23T03:41:38.635314Z",
          "iopub.status.busy": "2022-02-23T03:41:38.627473Z",
          "iopub.status.idle": "2022-02-23T03:41:38.660414Z",
          "shell.execute_reply": "2022-02-23T03:41:38.661020Z"
        },
        "id": "0d0a2922",
        "papermill": {
          "duration": 0.193467,
          "end_time": "2022-02-23T03:41:38.661205",
          "exception": false,
          "start_time": "2022-02-23T03:41:38.467738",
          "status": "completed"
        },
        "tags": [],
        "outputId": "59b214a7-6016-4ef1-be41-7616c3867018",
        "colab": {
          "base_uri": "https://localhost:8080/",
          "height": 276
        }
      },
      "outputs": [
        {
          "output_type": "stream",
          "name": "stderr",
          "text": [
            "/usr/local/lib/python3.7/dist-packages/sklearn/utils/deprecation.py:87: FutureWarning:\n",
            "\n",
            "Function get_feature_names is deprecated; get_feature_names is deprecated in 1.0 and will be removed in 1.2. Please use get_feature_names_out instead.\n",
            "\n"
          ]
        },
        {
          "output_type": "execute_result",
          "data": {
            "text/plain": [
              "          Word 1    Word 2  Word 3        Word 4     Word 5    Word 6  \\\n",
              "Topic 1  account     check    bank         money       fund     chase   \n",
              "Topic 2   credit      card  report       inquiry      chase   account   \n",
              "Topic 3  payment   balance   month           fee  statement       day   \n",
              "Topic 4   charge      card     fee   transaction    dispute     chase   \n",
              "Topic 5     loan  mortgage    home  modification      chase  property   \n",
              "\n",
              "           Word 7   Word 8 Word 9      Word 10   Word 11      Word 12  \\\n",
              "Topic 1   deposit   branch    day       number  business  transaction   \n",
              "Topic 2     score  company  limit  information      debt  application   \n",
              "Topic 3      time     auto   date          pay    credit      account   \n",
              "Topic 4  merchant    fraud  claim     purchase   service         time   \n",
              "Topic 5      year   letter   rate         time  document         bank   \n",
              "\n",
              "           Word 13      Word 14   Word 15  \n",
              "Topic 1      claim     transfer  customer  \n",
              "Topic 2     letter      balance      year  \n",
              "Topic 3      chase         year  mortgage  \n",
              "Topic 4  statement       refund   company  \n",
              "Topic 5      house  foreclosure      sale  "
            ],
            "text/html": [
              "\n",
              "  <div id=\"df-0ecd564b-024a-41f5-86f5-83457efe082d\">\n",
              "    <div class=\"colab-df-container\">\n",
              "      <div>\n",
              "<style scoped>\n",
              "    .dataframe tbody tr th:only-of-type {\n",
              "        vertical-align: middle;\n",
              "    }\n",
              "\n",
              "    .dataframe tbody tr th {\n",
              "        vertical-align: top;\n",
              "    }\n",
              "\n",
              "    .dataframe thead th {\n",
              "        text-align: right;\n",
              "    }\n",
              "</style>\n",
              "<table border=\"1\" class=\"dataframe\">\n",
              "  <thead>\n",
              "    <tr style=\"text-align: right;\">\n",
              "      <th></th>\n",
              "      <th>Word 1</th>\n",
              "      <th>Word 2</th>\n",
              "      <th>Word 3</th>\n",
              "      <th>Word 4</th>\n",
              "      <th>Word 5</th>\n",
              "      <th>Word 6</th>\n",
              "      <th>Word 7</th>\n",
              "      <th>Word 8</th>\n",
              "      <th>Word 9</th>\n",
              "      <th>Word 10</th>\n",
              "      <th>Word 11</th>\n",
              "      <th>Word 12</th>\n",
              "      <th>Word 13</th>\n",
              "      <th>Word 14</th>\n",
              "      <th>Word 15</th>\n",
              "    </tr>\n",
              "  </thead>\n",
              "  <tbody>\n",
              "    <tr>\n",
              "      <th>Topic 1</th>\n",
              "      <td>account</td>\n",
              "      <td>check</td>\n",
              "      <td>bank</td>\n",
              "      <td>money</td>\n",
              "      <td>fund</td>\n",
              "      <td>chase</td>\n",
              "      <td>deposit</td>\n",
              "      <td>branch</td>\n",
              "      <td>day</td>\n",
              "      <td>number</td>\n",
              "      <td>business</td>\n",
              "      <td>transaction</td>\n",
              "      <td>claim</td>\n",
              "      <td>transfer</td>\n",
              "      <td>customer</td>\n",
              "    </tr>\n",
              "    <tr>\n",
              "      <th>Topic 2</th>\n",
              "      <td>credit</td>\n",
              "      <td>card</td>\n",
              "      <td>report</td>\n",
              "      <td>inquiry</td>\n",
              "      <td>chase</td>\n",
              "      <td>account</td>\n",
              "      <td>score</td>\n",
              "      <td>company</td>\n",
              "      <td>limit</td>\n",
              "      <td>information</td>\n",
              "      <td>debt</td>\n",
              "      <td>application</td>\n",
              "      <td>letter</td>\n",
              "      <td>balance</td>\n",
              "      <td>year</td>\n",
              "    </tr>\n",
              "    <tr>\n",
              "      <th>Topic 3</th>\n",
              "      <td>payment</td>\n",
              "      <td>balance</td>\n",
              "      <td>month</td>\n",
              "      <td>fee</td>\n",
              "      <td>statement</td>\n",
              "      <td>day</td>\n",
              "      <td>time</td>\n",
              "      <td>auto</td>\n",
              "      <td>date</td>\n",
              "      <td>pay</td>\n",
              "      <td>credit</td>\n",
              "      <td>account</td>\n",
              "      <td>chase</td>\n",
              "      <td>year</td>\n",
              "      <td>mortgage</td>\n",
              "    </tr>\n",
              "    <tr>\n",
              "      <th>Topic 4</th>\n",
              "      <td>charge</td>\n",
              "      <td>card</td>\n",
              "      <td>fee</td>\n",
              "      <td>transaction</td>\n",
              "      <td>dispute</td>\n",
              "      <td>chase</td>\n",
              "      <td>merchant</td>\n",
              "      <td>fraud</td>\n",
              "      <td>claim</td>\n",
              "      <td>purchase</td>\n",
              "      <td>service</td>\n",
              "      <td>time</td>\n",
              "      <td>statement</td>\n",
              "      <td>refund</td>\n",
              "      <td>company</td>\n",
              "    </tr>\n",
              "    <tr>\n",
              "      <th>Topic 5</th>\n",
              "      <td>loan</td>\n",
              "      <td>mortgage</td>\n",
              "      <td>home</td>\n",
              "      <td>modification</td>\n",
              "      <td>chase</td>\n",
              "      <td>property</td>\n",
              "      <td>year</td>\n",
              "      <td>letter</td>\n",
              "      <td>rate</td>\n",
              "      <td>time</td>\n",
              "      <td>document</td>\n",
              "      <td>bank</td>\n",
              "      <td>house</td>\n",
              "      <td>foreclosure</td>\n",
              "      <td>sale</td>\n",
              "    </tr>\n",
              "  </tbody>\n",
              "</table>\n",
              "</div>\n",
              "      <button class=\"colab-df-convert\" onclick=\"convertToInteractive('df-0ecd564b-024a-41f5-86f5-83457efe082d')\"\n",
              "              title=\"Convert this dataframe to an interactive table.\"\n",
              "              style=\"display:none;\">\n",
              "        \n",
              "  <svg xmlns=\"http://www.w3.org/2000/svg\" height=\"24px\"viewBox=\"0 0 24 24\"\n",
              "       width=\"24px\">\n",
              "    <path d=\"M0 0h24v24H0V0z\" fill=\"none\"/>\n",
              "    <path d=\"M18.56 5.44l.94 2.06.94-2.06 2.06-.94-2.06-.94-.94-2.06-.94 2.06-2.06.94zm-11 1L8.5 8.5l.94-2.06 2.06-.94-2.06-.94L8.5 2.5l-.94 2.06-2.06.94zm10 10l.94 2.06.94-2.06 2.06-.94-2.06-.94-.94-2.06-.94 2.06-2.06.94z\"/><path d=\"M17.41 7.96l-1.37-1.37c-.4-.4-.92-.59-1.43-.59-.52 0-1.04.2-1.43.59L10.3 9.45l-7.72 7.72c-.78.78-.78 2.05 0 2.83L4 21.41c.39.39.9.59 1.41.59.51 0 1.02-.2 1.41-.59l7.78-7.78 2.81-2.81c.8-.78.8-2.07 0-2.86zM5.41 20L4 18.59l7.72-7.72 1.47 1.35L5.41 20z\"/>\n",
              "  </svg>\n",
              "      </button>\n",
              "      \n",
              "  <style>\n",
              "    .colab-df-container {\n",
              "      display:flex;\n",
              "      flex-wrap:wrap;\n",
              "      gap: 12px;\n",
              "    }\n",
              "\n",
              "    .colab-df-convert {\n",
              "      background-color: #E8F0FE;\n",
              "      border: none;\n",
              "      border-radius: 50%;\n",
              "      cursor: pointer;\n",
              "      display: none;\n",
              "      fill: #1967D2;\n",
              "      height: 32px;\n",
              "      padding: 0 0 0 0;\n",
              "      width: 32px;\n",
              "    }\n",
              "\n",
              "    .colab-df-convert:hover {\n",
              "      background-color: #E2EBFA;\n",
              "      box-shadow: 0px 1px 2px rgba(60, 64, 67, 0.3), 0px 1px 3px 1px rgba(60, 64, 67, 0.15);\n",
              "      fill: #174EA6;\n",
              "    }\n",
              "\n",
              "    [theme=dark] .colab-df-convert {\n",
              "      background-color: #3B4455;\n",
              "      fill: #D2E3FC;\n",
              "    }\n",
              "\n",
              "    [theme=dark] .colab-df-convert:hover {\n",
              "      background-color: #434B5C;\n",
              "      box-shadow: 0px 1px 3px 1px rgba(0, 0, 0, 0.15);\n",
              "      filter: drop-shadow(0px 1px 2px rgba(0, 0, 0, 0.3));\n",
              "      fill: #FFFFFF;\n",
              "    }\n",
              "  </style>\n",
              "\n",
              "      <script>\n",
              "        const buttonEl =\n",
              "          document.querySelector('#df-0ecd564b-024a-41f5-86f5-83457efe082d button.colab-df-convert');\n",
              "        buttonEl.style.display =\n",
              "          google.colab.kernel.accessAllowed ? 'block' : 'none';\n",
              "\n",
              "        async function convertToInteractive(key) {\n",
              "          const element = document.querySelector('#df-0ecd564b-024a-41f5-86f5-83457efe082d');\n",
              "          const dataTable =\n",
              "            await google.colab.kernel.invokeFunction('convertToInteractive',\n",
              "                                                     [key], {});\n",
              "          if (!dataTable) return;\n",
              "\n",
              "          const docLinkHtml = 'Like what you see? Visit the ' +\n",
              "            '<a target=\"_blank\" href=https://colab.research.google.com/notebooks/data_table.ipynb>data table notebook</a>'\n",
              "            + ' to learn more about interactive tables.';\n",
              "          element.innerHTML = '';\n",
              "          dataTable['output_type'] = 'display_data';\n",
              "          await google.colab.output.renderOutput(dataTable, element);\n",
              "          const docLink = document.createElement('div');\n",
              "          docLink.innerHTML = docLinkHtml;\n",
              "          element.appendChild(docLink);\n",
              "        }\n",
              "      </script>\n",
              "    </div>\n",
              "  </div>\n",
              "  "
            ]
          },
          "metadata": {},
          "execution_count": 61
        }
      ],
      "source": [
        "#Print the Top15 words for each of the topics\n",
        "words = np.array(tfidf.get_feature_names())\n",
        "topic_words = pd.DataFrame(np.zeros((num_topics, 15)), index=[f'Topic {i + 1}' for i in range(num_topics)],\n",
        "                           columns=[f'Word {i + 1}' for i in range(15)]).astype(str)\n",
        "for i in range(num_topics):\n",
        "    ix = H[i].argsort()[::-1][:15]\n",
        "    topic_words.iloc[i] = words[ix]\n",
        "\n",
        "topic_words"
      ]
    },
    {
      "cell_type": "markdown",
      "id": "6df6b942",
      "metadata": {
        "papermill": {
          "duration": 0.158234,
          "end_time": "2022-02-23T03:41:38.978022",
          "exception": false,
          "start_time": "2022-02-23T03:41:38.819788",
          "status": "completed"
        },
        "tags": [],
        "id": "6df6b942"
      },
      "source": [
        "**Observation**\n",
        "Looking at the topics above, for each topic, we can give a label based on their products/services:\n",
        "\n",
        "- Topic 1 = Bank account services\n",
        "- Topic 2 = Credit card / Prepaid card\n",
        "- Topic 3 = Others\n",
        "- Topic 4 = Theft/Dispute reporting\n",
        "- Topic 5 = Mortgages/loans"
      ]
    },
    {
      "cell_type": "code",
      "execution_count": 62,
      "id": "6b03d649",
      "metadata": {
        "ExecuteTime": {
          "end_time": "2022-02-09T05:17:00.641619Z",
          "start_time": "2022-02-09T05:17:00.567572Z"
        },
        "execution": {
          "iopub.execute_input": "2022-02-23T03:41:39.294669Z",
          "iopub.status.busy": "2022-02-23T03:41:39.293977Z",
          "iopub.status.idle": "2022-02-23T03:41:39.331875Z",
          "shell.execute_reply": "2022-02-23T03:41:39.332436Z"
        },
        "id": "6b03d649",
        "papermill": {
          "duration": 0.194994,
          "end_time": "2022-02-23T03:41:39.332619",
          "exception": false,
          "start_time": "2022-02-23T03:41:39.137625",
          "status": "completed"
        },
        "tags": []
      },
      "outputs": [],
      "source": [
        "#Create the best topic for each complaint in terms of integer value 0,1,2,3 & 4\n",
        "topic_results = nmf_model.transform(dtm)"
      ]
    },
    {
      "cell_type": "code",
      "execution_count": 63,
      "id": "66a27fc5",
      "metadata": {
        "ExecuteTime": {
          "end_time": "2022-02-09T05:17:00.657632Z",
          "start_time": "2022-02-09T05:17:00.643568Z"
        },
        "execution": {
          "iopub.execute_input": "2022-02-23T03:41:39.657614Z",
          "iopub.status.busy": "2022-02-23T03:41:39.656865Z",
          "iopub.status.idle": "2022-02-23T03:41:39.661701Z",
          "shell.execute_reply": "2022-02-23T03:41:39.662388Z"
        },
        "id": "66a27fc5",
        "papermill": {
          "duration": 0.170272,
          "end_time": "2022-02-23T03:41:39.662571",
          "exception": false,
          "start_time": "2022-02-23T03:41:39.492299",
          "status": "completed"
        },
        "tags": []
      },
      "outputs": [],
      "source": [
        "#Assign the best topic to each of the cmplaints in Topic Column\n",
        "df_clean['Topic'] = topic_results.argmax(axis=1)"
      ]
    },
    {
      "cell_type": "code",
      "execution_count": 64,
      "id": "2dc8f185",
      "metadata": {
        "ExecuteTime": {
          "end_time": "2022-02-09T05:17:00.689716Z",
          "start_time": "2022-02-09T05:17:00.659571Z"
        },
        "execution": {
          "iopub.execute_input": "2022-02-23T03:41:39.979343Z",
          "iopub.status.busy": "2022-02-23T03:41:39.978652Z",
          "iopub.status.idle": "2022-02-23T03:41:39.990123Z",
          "shell.execute_reply": "2022-02-23T03:41:39.990713Z"
        },
        "id": "2dc8f185",
        "papermill": {
          "duration": 0.170994,
          "end_time": "2022-02-23T03:41:39.990918",
          "exception": false,
          "start_time": "2022-02-23T03:41:39.819924",
          "status": "completed"
        },
        "tags": [],
        "outputId": "02377832-4350-4c60-ed7e-1db2d348af74",
        "colab": {
          "base_uri": "https://localhost:8080/",
          "height": 285
        }
      },
      "outputs": [
        {
          "output_type": "execute_result",
          "data": {
            "text/plain": [
              "                              complaint_what_happened  \\\n",
              "1   good morning my name is xxxx xxxx and i apprec...   \n",
              "2   i upgraded my xxxx xxxx card in  and was told ...   \n",
              "10  chase card was reported on  however fraudulent...   \n",
              "11  on  while trying to book a xxxx  xxxx  ticket ...   \n",
              "14  my grand son give me check for  i deposit it i...   \n",
              "\n",
              "                                 complaint_lemmatized  \\\n",
              "1   good morning my name be xxxx xxxx and I apprec...   \n",
              "2   I upgrade my xxxx xxxx card in   and be tell b...   \n",
              "10  chase card be report on   however fraudulent a...   \n",
              "11  on   while try to book a xxxx   xxxx   ticket ...   \n",
              "14  my grand son give I check for   I deposit it i...   \n",
              "\n",
              "                                complaint_POS_removed  \\\n",
              "1   morning name stop bank cardmember service ask ...   \n",
              "2   card agent upgrade date agent information orde...   \n",
              "10  card report application identity consent servi...   \n",
              "11  try book xxxx ticket offer ticket card informa...   \n",
              "14  son chase account fund bank account pay money ...   \n",
              "\n",
              "                                      Complaint_clean  Topic  \n",
              "1   morning name stop bank cardmember service ask ...      4  \n",
              "2   card agent upgrade date agent information orde...      1  \n",
              "10  card report application identity consent servi...      1  \n",
              "11  try book  ticket offer ticket card information...      1  \n",
              "14  son chase account fund bank account pay money ...      0  "
            ],
            "text/html": [
              "\n",
              "  <div id=\"df-4d4ae100-2e6d-4af7-b724-2b22875351c9\">\n",
              "    <div class=\"colab-df-container\">\n",
              "      <div>\n",
              "<style scoped>\n",
              "    .dataframe tbody tr th:only-of-type {\n",
              "        vertical-align: middle;\n",
              "    }\n",
              "\n",
              "    .dataframe tbody tr th {\n",
              "        vertical-align: top;\n",
              "    }\n",
              "\n",
              "    .dataframe thead th {\n",
              "        text-align: right;\n",
              "    }\n",
              "</style>\n",
              "<table border=\"1\" class=\"dataframe\">\n",
              "  <thead>\n",
              "    <tr style=\"text-align: right;\">\n",
              "      <th></th>\n",
              "      <th>complaint_what_happened</th>\n",
              "      <th>complaint_lemmatized</th>\n",
              "      <th>complaint_POS_removed</th>\n",
              "      <th>Complaint_clean</th>\n",
              "      <th>Topic</th>\n",
              "    </tr>\n",
              "  </thead>\n",
              "  <tbody>\n",
              "    <tr>\n",
              "      <th>1</th>\n",
              "      <td>good morning my name is xxxx xxxx and i apprec...</td>\n",
              "      <td>good morning my name be xxxx xxxx and I apprec...</td>\n",
              "      <td>morning name stop bank cardmember service ask ...</td>\n",
              "      <td>morning name stop bank cardmember service ask ...</td>\n",
              "      <td>4</td>\n",
              "    </tr>\n",
              "    <tr>\n",
              "      <th>2</th>\n",
              "      <td>i upgraded my xxxx xxxx card in  and was told ...</td>\n",
              "      <td>I upgrade my xxxx xxxx card in   and be tell b...</td>\n",
              "      <td>card agent upgrade date agent information orde...</td>\n",
              "      <td>card agent upgrade date agent information orde...</td>\n",
              "      <td>1</td>\n",
              "    </tr>\n",
              "    <tr>\n",
              "      <th>10</th>\n",
              "      <td>chase card was reported on  however fraudulent...</td>\n",
              "      <td>chase card be report on   however fraudulent a...</td>\n",
              "      <td>card report application identity consent servi...</td>\n",
              "      <td>card report application identity consent servi...</td>\n",
              "      <td>1</td>\n",
              "    </tr>\n",
              "    <tr>\n",
              "      <th>11</th>\n",
              "      <td>on  while trying to book a xxxx  xxxx  ticket ...</td>\n",
              "      <td>on   while try to book a xxxx   xxxx   ticket ...</td>\n",
              "      <td>try book xxxx ticket offer ticket card informa...</td>\n",
              "      <td>try book  ticket offer ticket card information...</td>\n",
              "      <td>1</td>\n",
              "    </tr>\n",
              "    <tr>\n",
              "      <th>14</th>\n",
              "      <td>my grand son give me check for  i deposit it i...</td>\n",
              "      <td>my grand son give I check for   I deposit it i...</td>\n",
              "      <td>son chase account fund bank account pay money ...</td>\n",
              "      <td>son chase account fund bank account pay money ...</td>\n",
              "      <td>0</td>\n",
              "    </tr>\n",
              "  </tbody>\n",
              "</table>\n",
              "</div>\n",
              "      <button class=\"colab-df-convert\" onclick=\"convertToInteractive('df-4d4ae100-2e6d-4af7-b724-2b22875351c9')\"\n",
              "              title=\"Convert this dataframe to an interactive table.\"\n",
              "              style=\"display:none;\">\n",
              "        \n",
              "  <svg xmlns=\"http://www.w3.org/2000/svg\" height=\"24px\"viewBox=\"0 0 24 24\"\n",
              "       width=\"24px\">\n",
              "    <path d=\"M0 0h24v24H0V0z\" fill=\"none\"/>\n",
              "    <path d=\"M18.56 5.44l.94 2.06.94-2.06 2.06-.94-2.06-.94-.94-2.06-.94 2.06-2.06.94zm-11 1L8.5 8.5l.94-2.06 2.06-.94-2.06-.94L8.5 2.5l-.94 2.06-2.06.94zm10 10l.94 2.06.94-2.06 2.06-.94-2.06-.94-.94-2.06-.94 2.06-2.06.94z\"/><path d=\"M17.41 7.96l-1.37-1.37c-.4-.4-.92-.59-1.43-.59-.52 0-1.04.2-1.43.59L10.3 9.45l-7.72 7.72c-.78.78-.78 2.05 0 2.83L4 21.41c.39.39.9.59 1.41.59.51 0 1.02-.2 1.41-.59l7.78-7.78 2.81-2.81c.8-.78.8-2.07 0-2.86zM5.41 20L4 18.59l7.72-7.72 1.47 1.35L5.41 20z\"/>\n",
              "  </svg>\n",
              "      </button>\n",
              "      \n",
              "  <style>\n",
              "    .colab-df-container {\n",
              "      display:flex;\n",
              "      flex-wrap:wrap;\n",
              "      gap: 12px;\n",
              "    }\n",
              "\n",
              "    .colab-df-convert {\n",
              "      background-color: #E8F0FE;\n",
              "      border: none;\n",
              "      border-radius: 50%;\n",
              "      cursor: pointer;\n",
              "      display: none;\n",
              "      fill: #1967D2;\n",
              "      height: 32px;\n",
              "      padding: 0 0 0 0;\n",
              "      width: 32px;\n",
              "    }\n",
              "\n",
              "    .colab-df-convert:hover {\n",
              "      background-color: #E2EBFA;\n",
              "      box-shadow: 0px 1px 2px rgba(60, 64, 67, 0.3), 0px 1px 3px 1px rgba(60, 64, 67, 0.15);\n",
              "      fill: #174EA6;\n",
              "    }\n",
              "\n",
              "    [theme=dark] .colab-df-convert {\n",
              "      background-color: #3B4455;\n",
              "      fill: #D2E3FC;\n",
              "    }\n",
              "\n",
              "    [theme=dark] .colab-df-convert:hover {\n",
              "      background-color: #434B5C;\n",
              "      box-shadow: 0px 1px 3px 1px rgba(0, 0, 0, 0.15);\n",
              "      filter: drop-shadow(0px 1px 2px rgba(0, 0, 0, 0.3));\n",
              "      fill: #FFFFFF;\n",
              "    }\n",
              "  </style>\n",
              "\n",
              "      <script>\n",
              "        const buttonEl =\n",
              "          document.querySelector('#df-4d4ae100-2e6d-4af7-b724-2b22875351c9 button.colab-df-convert');\n",
              "        buttonEl.style.display =\n",
              "          google.colab.kernel.accessAllowed ? 'block' : 'none';\n",
              "\n",
              "        async function convertToInteractive(key) {\n",
              "          const element = document.querySelector('#df-4d4ae100-2e6d-4af7-b724-2b22875351c9');\n",
              "          const dataTable =\n",
              "            await google.colab.kernel.invokeFunction('convertToInteractive',\n",
              "                                                     [key], {});\n",
              "          if (!dataTable) return;\n",
              "\n",
              "          const docLinkHtml = 'Like what you see? Visit the ' +\n",
              "            '<a target=\"_blank\" href=https://colab.research.google.com/notebooks/data_table.ipynb>data table notebook</a>'\n",
              "            + ' to learn more about interactive tables.';\n",
              "          element.innerHTML = '';\n",
              "          dataTable['output_type'] = 'display_data';\n",
              "          await google.colab.output.renderOutput(dataTable, element);\n",
              "          const docLink = document.createElement('div');\n",
              "          docLink.innerHTML = docLinkHtml;\n",
              "          element.appendChild(docLink);\n",
              "        }\n",
              "      </script>\n",
              "    </div>\n",
              "  </div>\n",
              "  "
            ]
          },
          "metadata": {},
          "execution_count": 64
        }
      ],
      "source": [
        "df_clean.head()"
      ]
    },
    {
      "cell_type": "code",
      "execution_count": 65,
      "id": "3ac7d675",
      "metadata": {
        "ExecuteTime": {
          "end_time": "2022-02-09T05:17:00.737683Z",
          "start_time": "2022-02-09T05:17:00.692571Z"
        },
        "execution": {
          "iopub.execute_input": "2022-02-23T03:41:40.320336Z",
          "iopub.status.busy": "2022-02-23T03:41:40.319617Z",
          "iopub.status.idle": "2022-02-23T03:41:40.344723Z",
          "shell.execute_reply": "2022-02-23T03:41:40.345268Z"
        },
        "id": "3ac7d675",
        "papermill": {
          "duration": 0.186923,
          "end_time": "2022-02-23T03:41:40.345460",
          "exception": false,
          "start_time": "2022-02-23T03:41:40.158537",
          "status": "completed"
        },
        "tags": [],
        "outputId": "9ca78717-4ad3-4f8f-8cbc-4ffb4f8d900a",
        "colab": {
          "base_uri": "https://localhost:8080/",
          "height": 1000
        }
      },
      "outputs": [
        {
          "output_type": "execute_result",
          "data": {
            "text/plain": [
              "                               complaint_what_happened  \\\n",
              "14   my grand son give me check for  i deposit it i...   \n",
              "17   with out notice jp morgan chase restricted my ...   \n",
              "24   mishandling of this account by chase auto and ...   \n",
              "27   i opened an account with chase bank on xxxx an...   \n",
              "35   i opened the saving account for the  bonus i w...   \n",
              "2    i upgraded my xxxx xxxx card in  and was told ...   \n",
              "10   chase card was reported on  however fraudulent...   \n",
              "11   on  while trying to book a xxxx  xxxx  ticket ...   \n",
              "15                       can you please remove inquiry   \n",
              "23   i have a chase credit card which is incorrectl...   \n",
              "167  a double payment from my chase debt cart to ch...   \n",
              "20   during the summer months i experience a declin...   \n",
              "82   i recently called to ask chase bank why they r...   \n",
              "141  action taken by the company between the dates ...   \n",
              "58   i made a purchase of  on xxxxxxxx i made payme...   \n",
              "45   i made a purchase with xxxx xxxx xxxx on  in t...   \n",
              "30   to whom it may concern chase bank charged wron...   \n",
              "40   xxxx xxxx a sofa love seat table and chairs an...   \n",
              "32   my chase amazon card was declined for a cateri...   \n",
              "21   on xxxx  i made a  payment to an online retail...   \n",
              "57   i have been trying to do a loan modification w...   \n",
              "73   i have wired through one of chase branches in ...   \n",
              "81   i bought a new xxxx xxxx on xxxxxxxx from xxxx...   \n",
              "43   chase sent me an email today with the innocuou...   \n",
              "1    good morning my name is xxxx xxxx and i apprec...   \n",
              "\n",
              "                                  complaint_lemmatized  \\\n",
              "14   my grand son give I check for   I deposit it i...   \n",
              "17   with out notice jp morgan chase restrict my ac...   \n",
              "24    mishandle of this account by chase auto and xxxx   \n",
              "27   I open an account with chase bank on xxxx and ...   \n",
              "35   I open the saving account for the   bonus I be...   \n",
              "2    I upgrade my xxxx xxxx card in   and be tell b...   \n",
              "10   chase card be report on   however fraudulent a...   \n",
              "11   on   while try to book a xxxx   xxxx   ticket ...   \n",
              "15                       can you please remove inquiry   \n",
              "23   I have a chase credit card which be incorrectl...   \n",
              "167  a double payment from my chase debt cart to ch...   \n",
              "20   during the summer month I experience a decline...   \n",
              "82   I recently call to ask chase bank why they rep...   \n",
              "141  action take by the company between the date of...   \n",
              "58   I make a purchase of   on xxxxxxxx I make paym...   \n",
              "45   I make a purchase with xxxx xxxx xxxx on   in ...   \n",
              "30   to whom it may concern chase bank charge wrong...   \n",
              "40   xxxx xxxx a sofa love seat table and chair and...   \n",
              "32   my chase amazon card be decline for a catering...   \n",
              "21   on xxxx   I make a   payment to an online reta...   \n",
              "57   I have be try to do a loan modification with c...   \n",
              "73   I have wire through one of chase branch in xxx...   \n",
              "81   I buy a new xxxx xxxx on xxxxxxxx from xxxx xx...   \n",
              "43   chase send I an email today with the innocuous...   \n",
              "1    good morning my name be xxxx xxxx and I apprec...   \n",
              "\n",
              "                                 complaint_POS_removed  \\\n",
              "14   son chase account fund bank account pay money ...   \n",
              "17   jp chase account debit card tuesday thursday b...   \n",
              "24                         mishandle account auto xxxx   \n",
              "27   account bank code bonus term everything accoun...   \n",
              "35   account bonus bonus auto transfer check transf...   \n",
              "2    card agent upgrade date agent information orde...   \n",
              "10   card report application identity consent servi...   \n",
              "11   try book xxxx ticket offer ticket card informa...   \n",
              "15                                             inquiry   \n",
              "23   chase credit card datum credit report company ...   \n",
              "167  payment debt cart credit card post request day...   \n",
              "20   summer month income employment month payment e...   \n",
              "82   bank credit bureau day payment info xxxx bill ...   \n",
              "141  action company date individual group contact c...   \n",
              "58   purchase xxxxxxxx payment xxxxxxxx payment clo...   \n",
              "45   purchase amount transaction dispute case bank ...   \n",
              "30   concern bank charge fee balance fee balance tr...   \n",
              "40   xxxx love seat table chair charge bank claim f...   \n",
              "32   chase card decline catering order place brothe...   \n",
              "21   xxxx payment online retailer use pay xxxx chas...   \n",
              "57       loan modification chase runaround payment doc   \n",
              "73   chase branch reinstatement amount bank order f...   \n",
              "81   xxxx xxxxxxxx loan title time resolution time ...   \n",
              "43   send email today title information regard chan...   \n",
              "1    morning name stop bank cardmember service ask ...   \n",
              "\n",
              "                                       Complaint_clean  Topic  \n",
              "14   son chase account fund bank account pay money ...      0  \n",
              "17   jp chase account debit card tuesday thursday b...      0  \n",
              "24                             mishandle account auto       0  \n",
              "27   account bank code bonus term everything accoun...      0  \n",
              "35   account bonus bonus auto transfer check transf...      0  \n",
              "2    card agent upgrade date agent information orde...      1  \n",
              "10   card report application identity consent servi...      1  \n",
              "11   try book  ticket offer ticket card information...      1  \n",
              "15                                             inquiry      1  \n",
              "23   chase credit card datum credit report company ...      1  \n",
              "167  payment debt cart credit card post request day...      2  \n",
              "20   summer month income employment month payment e...      2  \n",
              "82   bank credit bureau day payment info  bill bala...      2  \n",
              "141  action company date individual group contact c...      2  \n",
              "58   purchase  payment  payment closing date please...      2  \n",
              "45   purchase amount transaction dispute case bank ...      3  \n",
              "30   concern bank charge fee balance fee balance tr...      3  \n",
              "40    love seat table chair charge bank claim furni...      3  \n",
              "32   chase card decline catering order place brothe...      3  \n",
              "21    payment online retailer use pay  chase websit...      3  \n",
              "57       loan modification chase runaround payment doc      4  \n",
              "73   chase branch reinstatement amount bank order f...      4  \n",
              "81     loan title time resolution time nothing stat...      4  \n",
              "43   send email today title information regard chan...      4  \n",
              "1    morning name stop bank cardmember service ask ...      4  "
            ],
            "text/html": [
              "\n",
              "  <div id=\"df-7b486534-10d8-4dee-adc2-c5cc216c9df6\">\n",
              "    <div class=\"colab-df-container\">\n",
              "      <div>\n",
              "<style scoped>\n",
              "    .dataframe tbody tr th:only-of-type {\n",
              "        vertical-align: middle;\n",
              "    }\n",
              "\n",
              "    .dataframe tbody tr th {\n",
              "        vertical-align: top;\n",
              "    }\n",
              "\n",
              "    .dataframe thead th {\n",
              "        text-align: right;\n",
              "    }\n",
              "</style>\n",
              "<table border=\"1\" class=\"dataframe\">\n",
              "  <thead>\n",
              "    <tr style=\"text-align: right;\">\n",
              "      <th></th>\n",
              "      <th>complaint_what_happened</th>\n",
              "      <th>complaint_lemmatized</th>\n",
              "      <th>complaint_POS_removed</th>\n",
              "      <th>Complaint_clean</th>\n",
              "      <th>Topic</th>\n",
              "    </tr>\n",
              "  </thead>\n",
              "  <tbody>\n",
              "    <tr>\n",
              "      <th>14</th>\n",
              "      <td>my grand son give me check for  i deposit it i...</td>\n",
              "      <td>my grand son give I check for   I deposit it i...</td>\n",
              "      <td>son chase account fund bank account pay money ...</td>\n",
              "      <td>son chase account fund bank account pay money ...</td>\n",
              "      <td>0</td>\n",
              "    </tr>\n",
              "    <tr>\n",
              "      <th>17</th>\n",
              "      <td>with out notice jp morgan chase restricted my ...</td>\n",
              "      <td>with out notice jp morgan chase restrict my ac...</td>\n",
              "      <td>jp chase account debit card tuesday thursday b...</td>\n",
              "      <td>jp chase account debit card tuesday thursday b...</td>\n",
              "      <td>0</td>\n",
              "    </tr>\n",
              "    <tr>\n",
              "      <th>24</th>\n",
              "      <td>mishandling of this account by chase auto and ...</td>\n",
              "      <td>mishandle of this account by chase auto and xxxx</td>\n",
              "      <td>mishandle account auto xxxx</td>\n",
              "      <td>mishandle account auto</td>\n",
              "      <td>0</td>\n",
              "    </tr>\n",
              "    <tr>\n",
              "      <th>27</th>\n",
              "      <td>i opened an account with chase bank on xxxx an...</td>\n",
              "      <td>I open an account with chase bank on xxxx and ...</td>\n",
              "      <td>account bank code bonus term everything accoun...</td>\n",
              "      <td>account bank code bonus term everything accoun...</td>\n",
              "      <td>0</td>\n",
              "    </tr>\n",
              "    <tr>\n",
              "      <th>35</th>\n",
              "      <td>i opened the saving account for the  bonus i w...</td>\n",
              "      <td>I open the saving account for the   bonus I be...</td>\n",
              "      <td>account bonus bonus auto transfer check transf...</td>\n",
              "      <td>account bonus bonus auto transfer check transf...</td>\n",
              "      <td>0</td>\n",
              "    </tr>\n",
              "    <tr>\n",
              "      <th>2</th>\n",
              "      <td>i upgraded my xxxx xxxx card in  and was told ...</td>\n",
              "      <td>I upgrade my xxxx xxxx card in   and be tell b...</td>\n",
              "      <td>card agent upgrade date agent information orde...</td>\n",
              "      <td>card agent upgrade date agent information orde...</td>\n",
              "      <td>1</td>\n",
              "    </tr>\n",
              "    <tr>\n",
              "      <th>10</th>\n",
              "      <td>chase card was reported on  however fraudulent...</td>\n",
              "      <td>chase card be report on   however fraudulent a...</td>\n",
              "      <td>card report application identity consent servi...</td>\n",
              "      <td>card report application identity consent servi...</td>\n",
              "      <td>1</td>\n",
              "    </tr>\n",
              "    <tr>\n",
              "      <th>11</th>\n",
              "      <td>on  while trying to book a xxxx  xxxx  ticket ...</td>\n",
              "      <td>on   while try to book a xxxx   xxxx   ticket ...</td>\n",
              "      <td>try book xxxx ticket offer ticket card informa...</td>\n",
              "      <td>try book  ticket offer ticket card information...</td>\n",
              "      <td>1</td>\n",
              "    </tr>\n",
              "    <tr>\n",
              "      <th>15</th>\n",
              "      <td>can you please remove inquiry</td>\n",
              "      <td>can you please remove inquiry</td>\n",
              "      <td>inquiry</td>\n",
              "      <td>inquiry</td>\n",
              "      <td>1</td>\n",
              "    </tr>\n",
              "    <tr>\n",
              "      <th>23</th>\n",
              "      <td>i have a chase credit card which is incorrectl...</td>\n",
              "      <td>I have a chase credit card which be incorrectl...</td>\n",
              "      <td>chase credit card datum credit report company ...</td>\n",
              "      <td>chase credit card datum credit report company ...</td>\n",
              "      <td>1</td>\n",
              "    </tr>\n",
              "    <tr>\n",
              "      <th>167</th>\n",
              "      <td>a double payment from my chase debt cart to ch...</td>\n",
              "      <td>a double payment from my chase debt cart to ch...</td>\n",
              "      <td>payment debt cart credit card post request day...</td>\n",
              "      <td>payment debt cart credit card post request day...</td>\n",
              "      <td>2</td>\n",
              "    </tr>\n",
              "    <tr>\n",
              "      <th>20</th>\n",
              "      <td>during the summer months i experience a declin...</td>\n",
              "      <td>during the summer month I experience a decline...</td>\n",
              "      <td>summer month income employment month payment e...</td>\n",
              "      <td>summer month income employment month payment e...</td>\n",
              "      <td>2</td>\n",
              "    </tr>\n",
              "    <tr>\n",
              "      <th>82</th>\n",
              "      <td>i recently called to ask chase bank why they r...</td>\n",
              "      <td>I recently call to ask chase bank why they rep...</td>\n",
              "      <td>bank credit bureau day payment info xxxx bill ...</td>\n",
              "      <td>bank credit bureau day payment info  bill bala...</td>\n",
              "      <td>2</td>\n",
              "    </tr>\n",
              "    <tr>\n",
              "      <th>141</th>\n",
              "      <td>action taken by the company between the dates ...</td>\n",
              "      <td>action take by the company between the date of...</td>\n",
              "      <td>action company date individual group contact c...</td>\n",
              "      <td>action company date individual group contact c...</td>\n",
              "      <td>2</td>\n",
              "    </tr>\n",
              "    <tr>\n",
              "      <th>58</th>\n",
              "      <td>i made a purchase of  on xxxxxxxx i made payme...</td>\n",
              "      <td>I make a purchase of   on xxxxxxxx I make paym...</td>\n",
              "      <td>purchase xxxxxxxx payment xxxxxxxx payment clo...</td>\n",
              "      <td>purchase  payment  payment closing date please...</td>\n",
              "      <td>2</td>\n",
              "    </tr>\n",
              "    <tr>\n",
              "      <th>45</th>\n",
              "      <td>i made a purchase with xxxx xxxx xxxx on  in t...</td>\n",
              "      <td>I make a purchase with xxxx xxxx xxxx on   in ...</td>\n",
              "      <td>purchase amount transaction dispute case bank ...</td>\n",
              "      <td>purchase amount transaction dispute case bank ...</td>\n",
              "      <td>3</td>\n",
              "    </tr>\n",
              "    <tr>\n",
              "      <th>30</th>\n",
              "      <td>to whom it may concern chase bank charged wron...</td>\n",
              "      <td>to whom it may concern chase bank charge wrong...</td>\n",
              "      <td>concern bank charge fee balance fee balance tr...</td>\n",
              "      <td>concern bank charge fee balance fee balance tr...</td>\n",
              "      <td>3</td>\n",
              "    </tr>\n",
              "    <tr>\n",
              "      <th>40</th>\n",
              "      <td>xxxx xxxx a sofa love seat table and chairs an...</td>\n",
              "      <td>xxxx xxxx a sofa love seat table and chair and...</td>\n",
              "      <td>xxxx love seat table chair charge bank claim f...</td>\n",
              "      <td>love seat table chair charge bank claim furni...</td>\n",
              "      <td>3</td>\n",
              "    </tr>\n",
              "    <tr>\n",
              "      <th>32</th>\n",
              "      <td>my chase amazon card was declined for a cateri...</td>\n",
              "      <td>my chase amazon card be decline for a catering...</td>\n",
              "      <td>chase card decline catering order place brothe...</td>\n",
              "      <td>chase card decline catering order place brothe...</td>\n",
              "      <td>3</td>\n",
              "    </tr>\n",
              "    <tr>\n",
              "      <th>21</th>\n",
              "      <td>on xxxx  i made a  payment to an online retail...</td>\n",
              "      <td>on xxxx   I make a   payment to an online reta...</td>\n",
              "      <td>xxxx payment online retailer use pay xxxx chas...</td>\n",
              "      <td>payment online retailer use pay  chase websit...</td>\n",
              "      <td>3</td>\n",
              "    </tr>\n",
              "    <tr>\n",
              "      <th>57</th>\n",
              "      <td>i have been trying to do a loan modification w...</td>\n",
              "      <td>I have be try to do a loan modification with c...</td>\n",
              "      <td>loan modification chase runaround payment doc</td>\n",
              "      <td>loan modification chase runaround payment doc</td>\n",
              "      <td>4</td>\n",
              "    </tr>\n",
              "    <tr>\n",
              "      <th>73</th>\n",
              "      <td>i have wired through one of chase branches in ...</td>\n",
              "      <td>I have wire through one of chase branch in xxx...</td>\n",
              "      <td>chase branch reinstatement amount bank order f...</td>\n",
              "      <td>chase branch reinstatement amount bank order f...</td>\n",
              "      <td>4</td>\n",
              "    </tr>\n",
              "    <tr>\n",
              "      <th>81</th>\n",
              "      <td>i bought a new xxxx xxxx on xxxxxxxx from xxxx...</td>\n",
              "      <td>I buy a new xxxx xxxx on xxxxxxxx from xxxx xx...</td>\n",
              "      <td>xxxx xxxxxxxx loan title time resolution time ...</td>\n",
              "      <td>loan title time resolution time nothing stat...</td>\n",
              "      <td>4</td>\n",
              "    </tr>\n",
              "    <tr>\n",
              "      <th>43</th>\n",
              "      <td>chase sent me an email today with the innocuou...</td>\n",
              "      <td>chase send I an email today with the innocuous...</td>\n",
              "      <td>send email today title information regard chan...</td>\n",
              "      <td>send email today title information regard chan...</td>\n",
              "      <td>4</td>\n",
              "    </tr>\n",
              "    <tr>\n",
              "      <th>1</th>\n",
              "      <td>good morning my name is xxxx xxxx and i apprec...</td>\n",
              "      <td>good morning my name be xxxx xxxx and I apprec...</td>\n",
              "      <td>morning name stop bank cardmember service ask ...</td>\n",
              "      <td>morning name stop bank cardmember service ask ...</td>\n",
              "      <td>4</td>\n",
              "    </tr>\n",
              "  </tbody>\n",
              "</table>\n",
              "</div>\n",
              "      <button class=\"colab-df-convert\" onclick=\"convertToInteractive('df-7b486534-10d8-4dee-adc2-c5cc216c9df6')\"\n",
              "              title=\"Convert this dataframe to an interactive table.\"\n",
              "              style=\"display:none;\">\n",
              "        \n",
              "  <svg xmlns=\"http://www.w3.org/2000/svg\" height=\"24px\"viewBox=\"0 0 24 24\"\n",
              "       width=\"24px\">\n",
              "    <path d=\"M0 0h24v24H0V0z\" fill=\"none\"/>\n",
              "    <path d=\"M18.56 5.44l.94 2.06.94-2.06 2.06-.94-2.06-.94-.94-2.06-.94 2.06-2.06.94zm-11 1L8.5 8.5l.94-2.06 2.06-.94-2.06-.94L8.5 2.5l-.94 2.06-2.06.94zm10 10l.94 2.06.94-2.06 2.06-.94-2.06-.94-.94-2.06-.94 2.06-2.06.94z\"/><path d=\"M17.41 7.96l-1.37-1.37c-.4-.4-.92-.59-1.43-.59-.52 0-1.04.2-1.43.59L10.3 9.45l-7.72 7.72c-.78.78-.78 2.05 0 2.83L4 21.41c.39.39.9.59 1.41.59.51 0 1.02-.2 1.41-.59l7.78-7.78 2.81-2.81c.8-.78.8-2.07 0-2.86zM5.41 20L4 18.59l7.72-7.72 1.47 1.35L5.41 20z\"/>\n",
              "  </svg>\n",
              "      </button>\n",
              "      \n",
              "  <style>\n",
              "    .colab-df-container {\n",
              "      display:flex;\n",
              "      flex-wrap:wrap;\n",
              "      gap: 12px;\n",
              "    }\n",
              "\n",
              "    .colab-df-convert {\n",
              "      background-color: #E8F0FE;\n",
              "      border: none;\n",
              "      border-radius: 50%;\n",
              "      cursor: pointer;\n",
              "      display: none;\n",
              "      fill: #1967D2;\n",
              "      height: 32px;\n",
              "      padding: 0 0 0 0;\n",
              "      width: 32px;\n",
              "    }\n",
              "\n",
              "    .colab-df-convert:hover {\n",
              "      background-color: #E2EBFA;\n",
              "      box-shadow: 0px 1px 2px rgba(60, 64, 67, 0.3), 0px 1px 3px 1px rgba(60, 64, 67, 0.15);\n",
              "      fill: #174EA6;\n",
              "    }\n",
              "\n",
              "    [theme=dark] .colab-df-convert {\n",
              "      background-color: #3B4455;\n",
              "      fill: #D2E3FC;\n",
              "    }\n",
              "\n",
              "    [theme=dark] .colab-df-convert:hover {\n",
              "      background-color: #434B5C;\n",
              "      box-shadow: 0px 1px 3px 1px rgba(0, 0, 0, 0.15);\n",
              "      filter: drop-shadow(0px 1px 2px rgba(0, 0, 0, 0.3));\n",
              "      fill: #FFFFFF;\n",
              "    }\n",
              "  </style>\n",
              "\n",
              "      <script>\n",
              "        const buttonEl =\n",
              "          document.querySelector('#df-7b486534-10d8-4dee-adc2-c5cc216c9df6 button.colab-df-convert');\n",
              "        buttonEl.style.display =\n",
              "          google.colab.kernel.accessAllowed ? 'block' : 'none';\n",
              "\n",
              "        async function convertToInteractive(key) {\n",
              "          const element = document.querySelector('#df-7b486534-10d8-4dee-adc2-c5cc216c9df6');\n",
              "          const dataTable =\n",
              "            await google.colab.kernel.invokeFunction('convertToInteractive',\n",
              "                                                     [key], {});\n",
              "          if (!dataTable) return;\n",
              "\n",
              "          const docLinkHtml = 'Like what you see? Visit the ' +\n",
              "            '<a target=\"_blank\" href=https://colab.research.google.com/notebooks/data_table.ipynb>data table notebook</a>'\n",
              "            + ' to learn more about interactive tables.';\n",
              "          element.innerHTML = '';\n",
              "          dataTable['output_type'] = 'display_data';\n",
              "          await google.colab.output.renderOutput(dataTable, element);\n",
              "          const docLink = document.createElement('div');\n",
              "          docLink.innerHTML = docLinkHtml;\n",
              "          element.appendChild(docLink);\n",
              "        }\n",
              "      </script>\n",
              "    </div>\n",
              "  </div>\n",
              "  "
            ]
          },
          "metadata": {},
          "execution_count": 65
        }
      ],
      "source": [
        "#Print the first 5 Complaint for each of the Topics\n",
        "df_clean_5=df_clean.groupby('Topic').head(5)\n",
        "df_clean_5.sort_values('Topic')"
      ]
    },
    {
      "cell_type": "markdown",
      "id": "936749bc",
      "metadata": {
        "id": "936749bc",
        "papermill": {
          "duration": 0.163871,
          "end_time": "2022-02-23T03:41:40.671864",
          "exception": false,
          "start_time": "2022-02-23T03:41:40.507993",
          "status": "completed"
        },
        "tags": []
      },
      "source": [
        "#### After evaluating the mapping, if the topics assigned are correct then assign these names to the relevant topic:\n",
        "* Bank Account services\n",
        "* Credit card or prepaid card\n",
        "* Theft/Dispute Reporting\n",
        "* Mortgage/Loan\n",
        "* Others"
      ]
    },
    {
      "cell_type": "code",
      "execution_count": 66,
      "id": "cce45b08",
      "metadata": {
        "ExecuteTime": {
          "end_time": "2022-02-09T05:17:00.753688Z",
          "start_time": "2022-02-09T05:17:00.739571Z"
        },
        "execution": {
          "iopub.execute_input": "2022-02-23T03:41:41.007588Z",
          "iopub.status.busy": "2022-02-23T03:41:41.004137Z",
          "iopub.status.idle": "2022-02-23T03:41:41.010890Z",
          "shell.execute_reply": "2022-02-23T03:41:41.011548Z"
        },
        "id": "cce45b08",
        "papermill": {
          "duration": 0.175296,
          "end_time": "2022-02-23T03:41:41.011732",
          "exception": false,
          "start_time": "2022-02-23T03:41:40.836436",
          "status": "completed"
        },
        "tags": []
      },
      "outputs": [],
      "source": [
        "#Create the dictionary of Topic names and Topics\n",
        "Topic_names = { 0:\"Bank account services\", 1:\"Credit card / Prepaid card\", 2:\"Others\",\n",
        "               3:\"Theft/Dispute reporting\", 4:\"Mortgages/loans\" }\n",
        "#Replace Topics with Topic Names\n",
        "df_clean['Topic'] = df_clean['Topic'].map(Topic_names)"
      ]
    },
    {
      "cell_type": "code",
      "execution_count": 67,
      "id": "7c2aa79c",
      "metadata": {
        "ExecuteTime": {
          "end_time": "2022-02-09T05:17:00.769014Z",
          "start_time": "2022-02-09T05:17:00.755569Z"
        },
        "execution": {
          "iopub.execute_input": "2022-02-23T03:41:41.346296Z",
          "iopub.status.busy": "2022-02-23T03:41:41.345162Z",
          "iopub.status.idle": "2022-02-23T03:41:41.351851Z",
          "shell.execute_reply": "2022-02-23T03:41:41.351178Z"
        },
        "id": "7c2aa79c",
        "papermill": {
          "duration": 0.176997,
          "end_time": "2022-02-23T03:41:41.352026",
          "exception": false,
          "start_time": "2022-02-23T03:41:41.175029",
          "status": "completed"
        },
        "tags": [],
        "outputId": "d419b491-0da8-4043-e488-840ba30caba2",
        "colab": {
          "base_uri": "https://localhost:8080/"
        }
      },
      "outputs": [
        {
          "output_type": "execute_result",
          "data": {
            "text/plain": [
              "(21072, 5)"
            ]
          },
          "metadata": {},
          "execution_count": 67
        }
      ],
      "source": [
        "df_clean.shape"
      ]
    },
    {
      "cell_type": "code",
      "execution_count": 68,
      "id": "3164250d",
      "metadata": {
        "ExecuteTime": {
          "end_time": "2022-02-09T05:17:00.800933Z",
          "start_time": "2022-02-09T05:17:00.771935Z"
        },
        "execution": {
          "iopub.execute_input": "2022-02-23T03:41:41.681578Z",
          "iopub.status.busy": "2022-02-23T03:41:41.680748Z",
          "iopub.status.idle": "2022-02-23T03:41:41.696767Z",
          "shell.execute_reply": "2022-02-23T03:41:41.697597Z"
        },
        "papermill": {
          "duration": 0.183867,
          "end_time": "2022-02-23T03:41:41.697881",
          "exception": false,
          "start_time": "2022-02-23T03:41:41.514014",
          "status": "completed"
        },
        "tags": [],
        "id": "3164250d",
        "outputId": "2220823d-24c3-4318-eb1d-cce951444fd8",
        "colab": {
          "base_uri": "https://localhost:8080/",
          "height": 337
        }
      },
      "outputs": [
        {
          "output_type": "execute_result",
          "data": {
            "text/plain": [
              "                              complaint_what_happened  \\\n",
              "1   good morning my name is xxxx xxxx and i apprec...   \n",
              "2   i upgraded my xxxx xxxx card in  and was told ...   \n",
              "10  chase card was reported on  however fraudulent...   \n",
              "11  on  while trying to book a xxxx  xxxx  ticket ...   \n",
              "14  my grand son give me check for  i deposit it i...   \n",
              "\n",
              "                                 complaint_lemmatized  \\\n",
              "1   good morning my name be xxxx xxxx and I apprec...   \n",
              "2   I upgrade my xxxx xxxx card in   and be tell b...   \n",
              "10  chase card be report on   however fraudulent a...   \n",
              "11  on   while try to book a xxxx   xxxx   ticket ...   \n",
              "14  my grand son give I check for   I deposit it i...   \n",
              "\n",
              "                                complaint_POS_removed  \\\n",
              "1   morning name stop bank cardmember service ask ...   \n",
              "2   card agent upgrade date agent information orde...   \n",
              "10  card report application identity consent servi...   \n",
              "11  try book xxxx ticket offer ticket card informa...   \n",
              "14  son chase account fund bank account pay money ...   \n",
              "\n",
              "                                      Complaint_clean  \\\n",
              "1   morning name stop bank cardmember service ask ...   \n",
              "2   card agent upgrade date agent information orde...   \n",
              "10  card report application identity consent servi...   \n",
              "11  try book  ticket offer ticket card information...   \n",
              "14  son chase account fund bank account pay money ...   \n",
              "\n",
              "                         Topic  \n",
              "1              Mortgages/loans  \n",
              "2   Credit card / Prepaid card  \n",
              "10  Credit card / Prepaid card  \n",
              "11  Credit card / Prepaid card  \n",
              "14       Bank account services  "
            ],
            "text/html": [
              "\n",
              "  <div id=\"df-d8fe53aa-5a96-4e6c-8dfa-7c3d473d86be\">\n",
              "    <div class=\"colab-df-container\">\n",
              "      <div>\n",
              "<style scoped>\n",
              "    .dataframe tbody tr th:only-of-type {\n",
              "        vertical-align: middle;\n",
              "    }\n",
              "\n",
              "    .dataframe tbody tr th {\n",
              "        vertical-align: top;\n",
              "    }\n",
              "\n",
              "    .dataframe thead th {\n",
              "        text-align: right;\n",
              "    }\n",
              "</style>\n",
              "<table border=\"1\" class=\"dataframe\">\n",
              "  <thead>\n",
              "    <tr style=\"text-align: right;\">\n",
              "      <th></th>\n",
              "      <th>complaint_what_happened</th>\n",
              "      <th>complaint_lemmatized</th>\n",
              "      <th>complaint_POS_removed</th>\n",
              "      <th>Complaint_clean</th>\n",
              "      <th>Topic</th>\n",
              "    </tr>\n",
              "  </thead>\n",
              "  <tbody>\n",
              "    <tr>\n",
              "      <th>1</th>\n",
              "      <td>good morning my name is xxxx xxxx and i apprec...</td>\n",
              "      <td>good morning my name be xxxx xxxx and I apprec...</td>\n",
              "      <td>morning name stop bank cardmember service ask ...</td>\n",
              "      <td>morning name stop bank cardmember service ask ...</td>\n",
              "      <td>Mortgages/loans</td>\n",
              "    </tr>\n",
              "    <tr>\n",
              "      <th>2</th>\n",
              "      <td>i upgraded my xxxx xxxx card in  and was told ...</td>\n",
              "      <td>I upgrade my xxxx xxxx card in   and be tell b...</td>\n",
              "      <td>card agent upgrade date agent information orde...</td>\n",
              "      <td>card agent upgrade date agent information orde...</td>\n",
              "      <td>Credit card / Prepaid card</td>\n",
              "    </tr>\n",
              "    <tr>\n",
              "      <th>10</th>\n",
              "      <td>chase card was reported on  however fraudulent...</td>\n",
              "      <td>chase card be report on   however fraudulent a...</td>\n",
              "      <td>card report application identity consent servi...</td>\n",
              "      <td>card report application identity consent servi...</td>\n",
              "      <td>Credit card / Prepaid card</td>\n",
              "    </tr>\n",
              "    <tr>\n",
              "      <th>11</th>\n",
              "      <td>on  while trying to book a xxxx  xxxx  ticket ...</td>\n",
              "      <td>on   while try to book a xxxx   xxxx   ticket ...</td>\n",
              "      <td>try book xxxx ticket offer ticket card informa...</td>\n",
              "      <td>try book  ticket offer ticket card information...</td>\n",
              "      <td>Credit card / Prepaid card</td>\n",
              "    </tr>\n",
              "    <tr>\n",
              "      <th>14</th>\n",
              "      <td>my grand son give me check for  i deposit it i...</td>\n",
              "      <td>my grand son give I check for   I deposit it i...</td>\n",
              "      <td>son chase account fund bank account pay money ...</td>\n",
              "      <td>son chase account fund bank account pay money ...</td>\n",
              "      <td>Bank account services</td>\n",
              "    </tr>\n",
              "  </tbody>\n",
              "</table>\n",
              "</div>\n",
              "      <button class=\"colab-df-convert\" onclick=\"convertToInteractive('df-d8fe53aa-5a96-4e6c-8dfa-7c3d473d86be')\"\n",
              "              title=\"Convert this dataframe to an interactive table.\"\n",
              "              style=\"display:none;\">\n",
              "        \n",
              "  <svg xmlns=\"http://www.w3.org/2000/svg\" height=\"24px\"viewBox=\"0 0 24 24\"\n",
              "       width=\"24px\">\n",
              "    <path d=\"M0 0h24v24H0V0z\" fill=\"none\"/>\n",
              "    <path d=\"M18.56 5.44l.94 2.06.94-2.06 2.06-.94-2.06-.94-.94-2.06-.94 2.06-2.06.94zm-11 1L8.5 8.5l.94-2.06 2.06-.94-2.06-.94L8.5 2.5l-.94 2.06-2.06.94zm10 10l.94 2.06.94-2.06 2.06-.94-2.06-.94-.94-2.06-.94 2.06-2.06.94z\"/><path d=\"M17.41 7.96l-1.37-1.37c-.4-.4-.92-.59-1.43-.59-.52 0-1.04.2-1.43.59L10.3 9.45l-7.72 7.72c-.78.78-.78 2.05 0 2.83L4 21.41c.39.39.9.59 1.41.59.51 0 1.02-.2 1.41-.59l7.78-7.78 2.81-2.81c.8-.78.8-2.07 0-2.86zM5.41 20L4 18.59l7.72-7.72 1.47 1.35L5.41 20z\"/>\n",
              "  </svg>\n",
              "      </button>\n",
              "      \n",
              "  <style>\n",
              "    .colab-df-container {\n",
              "      display:flex;\n",
              "      flex-wrap:wrap;\n",
              "      gap: 12px;\n",
              "    }\n",
              "\n",
              "    .colab-df-convert {\n",
              "      background-color: #E8F0FE;\n",
              "      border: none;\n",
              "      border-radius: 50%;\n",
              "      cursor: pointer;\n",
              "      display: none;\n",
              "      fill: #1967D2;\n",
              "      height: 32px;\n",
              "      padding: 0 0 0 0;\n",
              "      width: 32px;\n",
              "    }\n",
              "\n",
              "    .colab-df-convert:hover {\n",
              "      background-color: #E2EBFA;\n",
              "      box-shadow: 0px 1px 2px rgba(60, 64, 67, 0.3), 0px 1px 3px 1px rgba(60, 64, 67, 0.15);\n",
              "      fill: #174EA6;\n",
              "    }\n",
              "\n",
              "    [theme=dark] .colab-df-convert {\n",
              "      background-color: #3B4455;\n",
              "      fill: #D2E3FC;\n",
              "    }\n",
              "\n",
              "    [theme=dark] .colab-df-convert:hover {\n",
              "      background-color: #434B5C;\n",
              "      box-shadow: 0px 1px 3px 1px rgba(0, 0, 0, 0.15);\n",
              "      filter: drop-shadow(0px 1px 2px rgba(0, 0, 0, 0.3));\n",
              "      fill: #FFFFFF;\n",
              "    }\n",
              "  </style>\n",
              "\n",
              "      <script>\n",
              "        const buttonEl =\n",
              "          document.querySelector('#df-d8fe53aa-5a96-4e6c-8dfa-7c3d473d86be button.colab-df-convert');\n",
              "        buttonEl.style.display =\n",
              "          google.colab.kernel.accessAllowed ? 'block' : 'none';\n",
              "\n",
              "        async function convertToInteractive(key) {\n",
              "          const element = document.querySelector('#df-d8fe53aa-5a96-4e6c-8dfa-7c3d473d86be');\n",
              "          const dataTable =\n",
              "            await google.colab.kernel.invokeFunction('convertToInteractive',\n",
              "                                                     [key], {});\n",
              "          if (!dataTable) return;\n",
              "\n",
              "          const docLinkHtml = 'Like what you see? Visit the ' +\n",
              "            '<a target=\"_blank\" href=https://colab.research.google.com/notebooks/data_table.ipynb>data table notebook</a>'\n",
              "            + ' to learn more about interactive tables.';\n",
              "          element.innerHTML = '';\n",
              "          dataTable['output_type'] = 'display_data';\n",
              "          await google.colab.output.renderOutput(dataTable, element);\n",
              "          const docLink = document.createElement('div');\n",
              "          docLink.innerHTML = docLinkHtml;\n",
              "          element.appendChild(docLink);\n",
              "        }\n",
              "      </script>\n",
              "    </div>\n",
              "  </div>\n",
              "  "
            ]
          },
          "metadata": {},
          "execution_count": 68
        }
      ],
      "source": [
        "df_clean.head()"
      ]
    },
    {
      "cell_type": "markdown",
      "id": "01e32d97",
      "metadata": {
        "id": "01e32d97",
        "papermill": {
          "duration": 0.170198,
          "end_time": "2022-02-23T03:41:42.057486",
          "exception": false,
          "start_time": "2022-02-23T03:41:41.887288",
          "status": "completed"
        },
        "tags": []
      },
      "source": [
        "## Supervised model to predict any new complaints to the relevant Topics.\n",
        "\n",
        "You have now build the model to create the topics for each complaints.Now in the below section you will use them to classify any new complaints.\n",
        "\n",
        "Since you will be using supervised learning technique we have to convert the topic names to numbers(numpy arrays only understand numbers)"
      ]
    },
    {
      "cell_type": "code",
      "execution_count": 69,
      "id": "b32a1aa6",
      "metadata": {
        "ExecuteTime": {
          "end_time": "2022-02-09T05:17:00.816445Z",
          "start_time": "2022-02-09T05:17:00.803935Z"
        },
        "execution": {
          "iopub.execute_input": "2022-02-23T03:41:42.396458Z",
          "iopub.status.busy": "2022-02-23T03:41:42.395743Z",
          "iopub.status.idle": "2022-02-23T03:41:42.398384Z",
          "shell.execute_reply": "2022-02-23T03:41:42.398972Z"
        },
        "id": "b32a1aa6",
        "papermill": {
          "duration": 0.173665,
          "end_time": "2022-02-23T03:41:42.399162",
          "exception": false,
          "start_time": "2022-02-23T03:41:42.225497",
          "status": "completed"
        },
        "tags": []
      },
      "outputs": [],
      "source": [
        "#Create the dictionary again of Topic names and Topics\n",
        "Topic_names = { \"Bank account services\":0, \"Credit card / Prepaid card\":1, \"Others\":2,\n",
        "               \"Theft/Dispute reporting\":3, \"Mortgages/loans\":4 }\n",
        "#Replace Topics with Topic Names\n",
        "df_clean['Topic'] = df_clean['Topic'].map(Topic_names)"
      ]
    },
    {
      "cell_type": "code",
      "execution_count": 70,
      "id": "760f171b",
      "metadata": {
        "ExecuteTime": {
          "end_time": "2022-02-09T05:17:00.831932Z",
          "start_time": "2022-02-09T05:17:00.820114Z"
        },
        "execution": {
          "iopub.execute_input": "2022-02-23T03:41:42.730669Z",
          "iopub.status.busy": "2022-02-23T03:41:42.729972Z",
          "iopub.status.idle": "2022-02-23T03:41:42.735642Z",
          "shell.execute_reply": "2022-02-23T03:41:42.735084Z"
        },
        "id": "760f171b",
        "papermill": {
          "duration": 0.174615,
          "end_time": "2022-02-23T03:41:42.735783",
          "exception": false,
          "start_time": "2022-02-23T03:41:42.561168",
          "status": "completed"
        },
        "tags": [],
        "outputId": "2351f5a1-c467-47cb-aefd-83390625fbbb",
        "colab": {
          "base_uri": "https://localhost:8080/"
        }
      },
      "outputs": [
        {
          "output_type": "execute_result",
          "data": {
            "text/plain": [
              "(21072, 5)"
            ]
          },
          "metadata": {},
          "execution_count": 70
        }
      ],
      "source": [
        "df_clean.shape"
      ]
    },
    {
      "cell_type": "code",
      "execution_count": 73,
      "id": "57fe907d",
      "metadata": {
        "ExecuteTime": {
          "end_time": "2022-02-09T05:17:00.846934Z",
          "start_time": "2022-02-09T05:17:00.835131Z"
        },
        "execution": {
          "iopub.execute_input": "2022-02-23T03:41:43.068174Z",
          "iopub.status.busy": "2022-02-23T03:41:43.067454Z",
          "iopub.status.idle": "2022-02-23T03:41:43.074240Z",
          "shell.execute_reply": "2022-02-23T03:41:43.073477Z"
        },
        "id": "57fe907d",
        "papermill": {
          "duration": 0.174555,
          "end_time": "2022-02-23T03:41:43.074402",
          "exception": false,
          "start_time": "2022-02-23T03:41:42.899847",
          "status": "completed"
        },
        "tags": []
      },
      "outputs": [],
      "source": [
        "#Keep the columns \"complaint_what_happened\" and \"Topic\" only in the new dataframe --> training_data\n",
        "training_data = df_clean[['complaint_what_happened', 'Topic']]"
      ]
    },
    {
      "cell_type": "code",
      "execution_count": 74,
      "id": "47c88f0d",
      "metadata": {
        "ExecuteTime": {
          "end_time": "2022-02-09T05:17:00.877862Z",
          "start_time": "2022-02-09T05:17:00.849934Z"
        },
        "execution": {
          "iopub.execute_input": "2022-02-23T03:41:43.416795Z",
          "iopub.status.busy": "2022-02-23T03:41:43.415964Z",
          "iopub.status.idle": "2022-02-23T03:41:43.428416Z",
          "shell.execute_reply": "2022-02-23T03:41:43.427653Z"
        },
        "id": "47c88f0d",
        "papermill": {
          "duration": 0.186968,
          "end_time": "2022-02-23T03:41:43.428575",
          "exception": false,
          "start_time": "2022-02-23T03:41:43.241607",
          "status": "completed"
        },
        "tags": [],
        "outputId": "2961f34d-c6d5-43d8-d377-d7f8a49cc4e5",
        "colab": {
          "base_uri": "https://localhost:8080/",
          "height": 424
        }
      },
      "outputs": [
        {
          "output_type": "execute_result",
          "data": {
            "text/plain": [
              "                                 complaint_what_happened  Topic\n",
              "1      good morning my name is xxxx xxxx and i apprec...      4\n",
              "2      i upgraded my xxxx xxxx card in  and was told ...      1\n",
              "10     chase card was reported on  however fraudulent...      1\n",
              "11     on  while trying to book a xxxx  xxxx  ticket ...      1\n",
              "14     my grand son give me check for  i deposit it i...      0\n",
              "...                                                  ...    ...\n",
              "78303  after being a chase card customer for well ove...      1\n",
              "78309  on wednesday xxxxxxxx i called chas my xxxx xx...      3\n",
              "78310  i am not familiar with xxxx pay and did not un...      3\n",
              "78311  i have had flawless credit for  yrs ive had ch...      2\n",
              "78312  roughly  years ago i closed out my accounts wi...      2\n",
              "\n",
              "[21072 rows x 2 columns]"
            ],
            "text/html": [
              "\n",
              "  <div id=\"df-a0940255-66f0-44f4-a12b-13db7dc2345d\">\n",
              "    <div class=\"colab-df-container\">\n",
              "      <div>\n",
              "<style scoped>\n",
              "    .dataframe tbody tr th:only-of-type {\n",
              "        vertical-align: middle;\n",
              "    }\n",
              "\n",
              "    .dataframe tbody tr th {\n",
              "        vertical-align: top;\n",
              "    }\n",
              "\n",
              "    .dataframe thead th {\n",
              "        text-align: right;\n",
              "    }\n",
              "</style>\n",
              "<table border=\"1\" class=\"dataframe\">\n",
              "  <thead>\n",
              "    <tr style=\"text-align: right;\">\n",
              "      <th></th>\n",
              "      <th>complaint_what_happened</th>\n",
              "      <th>Topic</th>\n",
              "    </tr>\n",
              "  </thead>\n",
              "  <tbody>\n",
              "    <tr>\n",
              "      <th>1</th>\n",
              "      <td>good morning my name is xxxx xxxx and i apprec...</td>\n",
              "      <td>4</td>\n",
              "    </tr>\n",
              "    <tr>\n",
              "      <th>2</th>\n",
              "      <td>i upgraded my xxxx xxxx card in  and was told ...</td>\n",
              "      <td>1</td>\n",
              "    </tr>\n",
              "    <tr>\n",
              "      <th>10</th>\n",
              "      <td>chase card was reported on  however fraudulent...</td>\n",
              "      <td>1</td>\n",
              "    </tr>\n",
              "    <tr>\n",
              "      <th>11</th>\n",
              "      <td>on  while trying to book a xxxx  xxxx  ticket ...</td>\n",
              "      <td>1</td>\n",
              "    </tr>\n",
              "    <tr>\n",
              "      <th>14</th>\n",
              "      <td>my grand son give me check for  i deposit it i...</td>\n",
              "      <td>0</td>\n",
              "    </tr>\n",
              "    <tr>\n",
              "      <th>...</th>\n",
              "      <td>...</td>\n",
              "      <td>...</td>\n",
              "    </tr>\n",
              "    <tr>\n",
              "      <th>78303</th>\n",
              "      <td>after being a chase card customer for well ove...</td>\n",
              "      <td>1</td>\n",
              "    </tr>\n",
              "    <tr>\n",
              "      <th>78309</th>\n",
              "      <td>on wednesday xxxxxxxx i called chas my xxxx xx...</td>\n",
              "      <td>3</td>\n",
              "    </tr>\n",
              "    <tr>\n",
              "      <th>78310</th>\n",
              "      <td>i am not familiar with xxxx pay and did not un...</td>\n",
              "      <td>3</td>\n",
              "    </tr>\n",
              "    <tr>\n",
              "      <th>78311</th>\n",
              "      <td>i have had flawless credit for  yrs ive had ch...</td>\n",
              "      <td>2</td>\n",
              "    </tr>\n",
              "    <tr>\n",
              "      <th>78312</th>\n",
              "      <td>roughly  years ago i closed out my accounts wi...</td>\n",
              "      <td>2</td>\n",
              "    </tr>\n",
              "  </tbody>\n",
              "</table>\n",
              "<p>21072 rows × 2 columns</p>\n",
              "</div>\n",
              "      <button class=\"colab-df-convert\" onclick=\"convertToInteractive('df-a0940255-66f0-44f4-a12b-13db7dc2345d')\"\n",
              "              title=\"Convert this dataframe to an interactive table.\"\n",
              "              style=\"display:none;\">\n",
              "        \n",
              "  <svg xmlns=\"http://www.w3.org/2000/svg\" height=\"24px\"viewBox=\"0 0 24 24\"\n",
              "       width=\"24px\">\n",
              "    <path d=\"M0 0h24v24H0V0z\" fill=\"none\"/>\n",
              "    <path d=\"M18.56 5.44l.94 2.06.94-2.06 2.06-.94-2.06-.94-.94-2.06-.94 2.06-2.06.94zm-11 1L8.5 8.5l.94-2.06 2.06-.94-2.06-.94L8.5 2.5l-.94 2.06-2.06.94zm10 10l.94 2.06.94-2.06 2.06-.94-2.06-.94-.94-2.06-.94 2.06-2.06.94z\"/><path d=\"M17.41 7.96l-1.37-1.37c-.4-.4-.92-.59-1.43-.59-.52 0-1.04.2-1.43.59L10.3 9.45l-7.72 7.72c-.78.78-.78 2.05 0 2.83L4 21.41c.39.39.9.59 1.41.59.51 0 1.02-.2 1.41-.59l7.78-7.78 2.81-2.81c.8-.78.8-2.07 0-2.86zM5.41 20L4 18.59l7.72-7.72 1.47 1.35L5.41 20z\"/>\n",
              "  </svg>\n",
              "      </button>\n",
              "      \n",
              "  <style>\n",
              "    .colab-df-container {\n",
              "      display:flex;\n",
              "      flex-wrap:wrap;\n",
              "      gap: 12px;\n",
              "    }\n",
              "\n",
              "    .colab-df-convert {\n",
              "      background-color: #E8F0FE;\n",
              "      border: none;\n",
              "      border-radius: 50%;\n",
              "      cursor: pointer;\n",
              "      display: none;\n",
              "      fill: #1967D2;\n",
              "      height: 32px;\n",
              "      padding: 0 0 0 0;\n",
              "      width: 32px;\n",
              "    }\n",
              "\n",
              "    .colab-df-convert:hover {\n",
              "      background-color: #E2EBFA;\n",
              "      box-shadow: 0px 1px 2px rgba(60, 64, 67, 0.3), 0px 1px 3px 1px rgba(60, 64, 67, 0.15);\n",
              "      fill: #174EA6;\n",
              "    }\n",
              "\n",
              "    [theme=dark] .colab-df-convert {\n",
              "      background-color: #3B4455;\n",
              "      fill: #D2E3FC;\n",
              "    }\n",
              "\n",
              "    [theme=dark] .colab-df-convert:hover {\n",
              "      background-color: #434B5C;\n",
              "      box-shadow: 0px 1px 3px 1px rgba(0, 0, 0, 0.15);\n",
              "      filter: drop-shadow(0px 1px 2px rgba(0, 0, 0, 0.3));\n",
              "      fill: #FFFFFF;\n",
              "    }\n",
              "  </style>\n",
              "\n",
              "      <script>\n",
              "        const buttonEl =\n",
              "          document.querySelector('#df-a0940255-66f0-44f4-a12b-13db7dc2345d button.colab-df-convert');\n",
              "        buttonEl.style.display =\n",
              "          google.colab.kernel.accessAllowed ? 'block' : 'none';\n",
              "\n",
              "        async function convertToInteractive(key) {\n",
              "          const element = document.querySelector('#df-a0940255-66f0-44f4-a12b-13db7dc2345d');\n",
              "          const dataTable =\n",
              "            await google.colab.kernel.invokeFunction('convertToInteractive',\n",
              "                                                     [key], {});\n",
              "          if (!dataTable) return;\n",
              "\n",
              "          const docLinkHtml = 'Like what you see? Visit the ' +\n",
              "            '<a target=\"_blank\" href=https://colab.research.google.com/notebooks/data_table.ipynb>data table notebook</a>'\n",
              "            + ' to learn more about interactive tables.';\n",
              "          element.innerHTML = '';\n",
              "          dataTable['output_type'] = 'display_data';\n",
              "          await google.colab.output.renderOutput(dataTable, element);\n",
              "          const docLink = document.createElement('div');\n",
              "          docLink.innerHTML = docLinkHtml;\n",
              "          element.appendChild(docLink);\n",
              "        }\n",
              "      </script>\n",
              "    </div>\n",
              "  </div>\n",
              "  "
            ]
          },
          "metadata": {},
          "execution_count": 74
        }
      ],
      "source": [
        "training_data"
      ]
    },
    {
      "cell_type": "markdown",
      "id": "0bc41b3c",
      "metadata": {
        "id": "0bc41b3c",
        "papermill": {
          "duration": 0.173891,
          "end_time": "2022-02-23T03:41:43.775475",
          "exception": false,
          "start_time": "2022-02-23T03:41:43.601584",
          "status": "completed"
        },
        "tags": []
      },
      "source": [
        "## Apply the supervised models on the training data created. In this process, you have to do the following:\n",
        "* Create the vector counts using Count Vectoriser\n",
        "* Transform the word vector to tf-idf\n",
        "* Create the train & test data using the train_test_split on the tf-idf & topics"
      ]
    },
    {
      "cell_type": "code",
      "execution_count": 75,
      "id": "d43d768a",
      "metadata": {
        "ExecuteTime": {
          "end_time": "2022-02-09T05:17:04.723813Z",
          "start_time": "2022-02-09T05:17:00.880767Z"
        },
        "execution": {
          "iopub.execute_input": "2022-02-23T03:41:44.121695Z",
          "iopub.status.busy": "2022-02-23T03:41:44.121004Z",
          "iopub.status.idle": "2022-02-23T03:41:49.525677Z",
          "shell.execute_reply": "2022-02-23T03:41:49.525069Z"
        },
        "id": "d43d768a",
        "papermill": {
          "duration": 5.580576,
          "end_time": "2022-02-23T03:41:49.525851",
          "exception": false,
          "start_time": "2022-02-23T03:41:43.945275",
          "status": "completed"
        },
        "tags": []
      },
      "outputs": [],
      "source": [
        "#Write your code to get the Vector count\n",
        "vect = CountVectorizer()\n",
        "X_train_cnt = vect.fit_transform(training_data['complaint_what_happened'])\n",
        "\n",
        "# Save word vector\n",
        "pickle.dump(vect.vocabulary_, open(\"count_vector.pk1\", \"wb\"))"
      ]
    },
    {
      "cell_type": "code",
      "execution_count": 76,
      "id": "afee9cfa",
      "metadata": {
        "ExecuteTime": {
          "end_time": "2022-02-09T05:17:04.945484Z",
          "start_time": "2022-02-09T05:17:04.725782Z"
        },
        "execution": {
          "iopub.execute_input": "2022-02-23T03:41:49.861930Z",
          "iopub.status.busy": "2022-02-23T03:41:49.861132Z",
          "iopub.status.idle": "2022-02-23T03:41:50.086754Z",
          "shell.execute_reply": "2022-02-23T03:41:50.087447Z"
        },
        "papermill": {
          "duration": 0.394898,
          "end_time": "2022-02-23T03:41:50.087687",
          "exception": false,
          "start_time": "2022-02-23T03:41:49.692789",
          "status": "completed"
        },
        "tags": [],
        "id": "afee9cfa"
      },
      "outputs": [],
      "source": [
        "#Write your code here to transform the word vector to tf-idf\n",
        "tfidf_transformer = TfidfTransformer()\n",
        "X_train_tfidf = tfidf_transformer.fit_transform(X_train_cnt)\n",
        "\n",
        "# Save tfidf\n",
        "pickle.dump(tfidf_transformer, open('tfidf.pk1', \"wb\"))"
      ]
    },
    {
      "cell_type": "markdown",
      "id": "224677a1",
      "metadata": {
        "id": "224677a1",
        "papermill": {
          "duration": 0.165737,
          "end_time": "2022-02-23T03:41:50.433846",
          "exception": false,
          "start_time": "2022-02-23T03:41:50.268109",
          "status": "completed"
        },
        "tags": []
      },
      "source": [
        "You have to try atleast 3 models on the train & test data from these options:\n",
        "* Logistic regression\n",
        "* Decision Tree\n",
        "* Random Forest\n",
        "* Naive Bayes (optional)\n",
        "\n",
        "**Using the required evaluation metrics judge the tried models and select the ones performing the best**"
      ]
    },
    {
      "cell_type": "markdown",
      "id": "cf693c37",
      "metadata": {
        "id": "cf693c37",
        "papermill": {
          "duration": 0.167096,
          "end_time": "2022-02-23T03:41:50.768537",
          "exception": false,
          "start_time": "2022-02-23T03:41:50.601441",
          "status": "completed"
        },
        "tags": []
      },
      "source": [
        "### Logistic Regression"
      ]
    },
    {
      "cell_type": "code",
      "execution_count": 77,
      "id": "c09829d3",
      "metadata": {
        "ExecuteTime": {
          "end_time": "2022-02-09T05:17:04.961067Z",
          "start_time": "2022-02-09T05:17:04.946777Z"
        },
        "execution": {
          "iopub.execute_input": "2022-02-23T03:41:51.113929Z",
          "iopub.status.busy": "2022-02-23T03:41:51.113262Z",
          "iopub.status.idle": "2022-02-23T03:41:51.117230Z",
          "shell.execute_reply": "2022-02-23T03:41:51.117771Z"
        },
        "papermill": {
          "duration": 0.180656,
          "end_time": "2022-02-23T03:41:51.117975",
          "exception": false,
          "start_time": "2022-02-23T03:41:50.937319",
          "status": "completed"
        },
        "tags": [],
        "id": "c09829d3"
      },
      "outputs": [],
      "source": [
        "# Importing LogisticRegression from sklearn\n",
        "from sklearn.linear_model import LogisticRegression\n",
        "# Importing Train, Test Split\n",
        "from sklearn.model_selection import train_test_split"
      ]
    },
    {
      "cell_type": "code",
      "execution_count": 78,
      "id": "fa0b82ab",
      "metadata": {
        "ExecuteTime": {
          "end_time": "2022-02-09T05:17:04.991569Z",
          "start_time": "2022-02-09T05:17:04.962816Z"
        },
        "execution": {
          "iopub.execute_input": "2022-02-23T03:41:51.458061Z",
          "iopub.status.busy": "2022-02-23T03:41:51.457385Z",
          "iopub.status.idle": "2022-02-23T03:41:51.476363Z",
          "shell.execute_reply": "2022-02-23T03:41:51.476862Z"
        },
        "papermill": {
          "duration": 0.190371,
          "end_time": "2022-02-23T03:41:51.477070",
          "exception": false,
          "start_time": "2022-02-23T03:41:51.286699",
          "status": "completed"
        },
        "tags": [],
        "id": "fa0b82ab"
      },
      "outputs": [],
      "source": [
        "# Train, Test Split\n",
        "X_train, X_test, y_train, y_test = train_test_split(X_train_tfidf, training_data['Topic'], test_size=0.25, random_state=42)"
      ]
    },
    {
      "cell_type": "code",
      "execution_count": 79,
      "id": "c520aa14",
      "metadata": {
        "ExecuteTime": {
          "end_time": "2022-02-09T05:17:07.405343Z",
          "start_time": "2022-02-09T05:17:04.993593Z"
        },
        "execution": {
          "iopub.execute_input": "2022-02-23T03:41:51.823128Z",
          "iopub.status.busy": "2022-02-23T03:41:51.822422Z",
          "iopub.status.idle": "2022-02-23T03:41:56.410877Z",
          "shell.execute_reply": "2022-02-23T03:41:56.412842Z"
        },
        "papermill": {
          "duration": 4.767198,
          "end_time": "2022-02-23T03:41:56.413184",
          "exception": false,
          "start_time": "2022-02-23T03:41:51.645986",
          "status": "completed"
        },
        "tags": [],
        "id": "c520aa14"
      },
      "outputs": [],
      "source": [
        "logreg = LogisticRegression(random_state=42, solver='liblinear').fit(X_train, y_train)"
      ]
    },
    {
      "cell_type": "code",
      "execution_count": 80,
      "id": "2277ff81",
      "metadata": {
        "ExecuteTime": {
          "end_time": "2022-02-09T05:17:07.437354Z",
          "start_time": "2022-02-09T05:17:07.407268Z"
        },
        "execution": {
          "iopub.execute_input": "2022-02-23T03:41:56.786127Z",
          "iopub.status.busy": "2022-02-23T03:41:56.785131Z",
          "iopub.status.idle": "2022-02-23T03:41:56.797104Z",
          "shell.execute_reply": "2022-02-23T03:41:56.796501Z"
        },
        "papermill": {
          "duration": 0.180482,
          "end_time": "2022-02-23T03:41:56.797252",
          "exception": false,
          "start_time": "2022-02-23T03:41:56.616770",
          "status": "completed"
        },
        "tags": [],
        "id": "2277ff81",
        "outputId": "0c561b99-a7b9-41b0-a78e-b877da08e9ea",
        "colab": {
          "base_uri": "https://localhost:8080/"
        }
      },
      "outputs": [
        {
          "output_type": "execute_result",
          "data": {
            "text/plain": [
              "0.9191343963553531"
            ]
          },
          "metadata": {},
          "execution_count": 80
        }
      ],
      "source": [
        "# Getting the score of the base model\n",
        "logreg.score(X_test, y_test)"
      ]
    },
    {
      "cell_type": "markdown",
      "id": "51b30d45",
      "metadata": {
        "papermill": {
          "duration": 0.171086,
          "end_time": "2022-02-23T03:41:57.132222",
          "exception": false,
          "start_time": "2022-02-23T03:41:56.961136",
          "status": "completed"
        },
        "tags": [],
        "id": "51b30d45"
      },
      "source": [
        "With base Logistic Regression model, we get an accuracy of __92%__"
      ]
    },
    {
      "cell_type": "markdown",
      "id": "a074d0c4",
      "metadata": {
        "papermill": {
          "duration": 0.164791,
          "end_time": "2022-02-23T03:41:57.463952",
          "exception": false,
          "start_time": "2022-02-23T03:41:57.299161",
          "status": "completed"
        },
        "tags": [],
        "id": "a074d0c4"
      },
      "source": [
        "#### HyperParameter Tuning"
      ]
    },
    {
      "cell_type": "code",
      "execution_count": 81,
      "id": "2b09ef3c",
      "metadata": {
        "ExecuteTime": {
          "end_time": "2022-02-09T05:17:07.453392Z",
          "start_time": "2022-02-09T05:17:07.447237Z"
        },
        "execution": {
          "iopub.execute_input": "2022-02-23T03:41:57.811192Z",
          "iopub.status.busy": "2022-02-23T03:41:57.810441Z",
          "iopub.status.idle": "2022-02-23T03:41:57.813484Z",
          "shell.execute_reply": "2022-02-23T03:41:57.812788Z"
        },
        "papermill": {
          "duration": 0.176389,
          "end_time": "2022-02-23T03:41:57.813641",
          "exception": false,
          "start_time": "2022-02-23T03:41:57.637252",
          "status": "completed"
        },
        "tags": [],
        "id": "2b09ef3c"
      },
      "outputs": [],
      "source": [
        "logreg_grid = {\"C\": [100, 10, 5, 4, 3, 2, 1, 1.0, 0.1, 0.01],\n",
        "                \"solver\": [\"liblinear\"]}"
      ]
    },
    {
      "cell_type": "code",
      "execution_count": 82,
      "id": "a3a17aae",
      "metadata": {
        "ExecuteTime": {
          "end_time": "2022-02-09T05:17:54.846272Z",
          "start_time": "2022-02-09T05:17:07.457269Z"
        },
        "execution": {
          "iopub.execute_input": "2022-02-23T03:41:58.149234Z",
          "iopub.status.busy": "2022-02-23T03:41:58.148514Z",
          "iopub.status.idle": "2022-02-23T03:43:03.636874Z",
          "shell.execute_reply": "2022-02-23T03:43:03.638214Z"
        },
        "papermill": {
          "duration": 65.660527,
          "end_time": "2022-02-23T03:43:03.638545",
          "exception": false,
          "start_time": "2022-02-23T03:41:57.978018",
          "status": "completed"
        },
        "tags": [],
        "id": "a3a17aae",
        "outputId": "38ae4269-75b8-4403-b610-6a091b25b06c",
        "colab": {
          "base_uri": "https://localhost:8080/"
        }
      },
      "outputs": [
        {
          "output_type": "stream",
          "name": "stdout",
          "text": [
            "Fitting 5 folds for each of 10 candidates, totalling 50 fits\n"
          ]
        }
      ],
      "source": [
        "# Setup grid hyperparameter search for LogisticRegression\n",
        "logreg_hpt = GridSearchCV(LogisticRegression(random_state=42),\n",
        "                                param_grid=logreg_grid,\n",
        "                                cv=5,\n",
        "                                verbose=True,\n",
        "                                n_jobs=-1)\n",
        "\n",
        "# Fit random hyperparameter search model\n",
        "logreg_hpt.fit(X_train, y_train);"
      ]
    },
    {
      "cell_type": "code",
      "execution_count": 83,
      "id": "753d8721",
      "metadata": {
        "ExecuteTime": {
          "end_time": "2022-02-09T05:17:54.878299Z",
          "start_time": "2022-02-09T05:17:54.864231Z"
        },
        "execution": {
          "iopub.execute_input": "2022-02-23T03:43:04.029707Z",
          "iopub.status.busy": "2022-02-23T03:43:04.028770Z",
          "iopub.status.idle": "2022-02-23T03:43:04.032472Z",
          "shell.execute_reply": "2022-02-23T03:43:04.033160Z"
        },
        "papermill": {
          "duration": 0.180255,
          "end_time": "2022-02-23T03:43:04.033351",
          "exception": false,
          "start_time": "2022-02-23T03:43:03.853096",
          "status": "completed"
        },
        "tags": [],
        "id": "753d8721",
        "outputId": "a09472b9-e6ef-42e4-dc86-d964af6d4ca4",
        "colab": {
          "base_uri": "https://localhost:8080/"
        }
      },
      "outputs": [
        {
          "output_type": "execute_result",
          "data": {
            "text/plain": [
              "{'C': 4, 'solver': 'liblinear'}"
            ]
          },
          "metadata": {},
          "execution_count": 83
        }
      ],
      "source": [
        "# Check best parameters\n",
        "logreg_hpt.best_params_"
      ]
    },
    {
      "cell_type": "code",
      "execution_count": 84,
      "id": "2e47af48",
      "metadata": {
        "ExecuteTime": {
          "end_time": "2022-02-09T05:17:54.909384Z",
          "start_time": "2022-02-09T05:17:54.880229Z"
        },
        "execution": {
          "iopub.execute_input": "2022-02-23T03:43:04.377354Z",
          "iopub.status.busy": "2022-02-23T03:43:04.376328Z",
          "iopub.status.idle": "2022-02-23T03:43:04.390967Z",
          "shell.execute_reply": "2022-02-23T03:43:04.391516Z"
        },
        "papermill": {
          "duration": 0.181796,
          "end_time": "2022-02-23T03:43:04.391692",
          "exception": false,
          "start_time": "2022-02-23T03:43:04.209896",
          "status": "completed"
        },
        "tags": [],
        "id": "2e47af48",
        "outputId": "11bfa76c-7b4a-4b71-94af-055487e98607",
        "colab": {
          "base_uri": "https://localhost:8080/"
        }
      },
      "outputs": [
        {
          "output_type": "execute_result",
          "data": {
            "text/plain": [
              "0.9238800303720577"
            ]
          },
          "metadata": {},
          "execution_count": 84
        }
      ],
      "source": [
        "# Evaluating the tuned model\n",
        "logreg_hpt.score(X_test, y_test)"
      ]
    },
    {
      "cell_type": "markdown",
      "id": "2f2d5f9e",
      "metadata": {
        "papermill": {
          "duration": 0.173088,
          "end_time": "2022-02-23T03:43:04.731276",
          "exception": false,
          "start_time": "2022-02-23T03:43:04.558188",
          "status": "completed"
        },
        "tags": [],
        "id": "2f2d5f9e"
      },
      "source": [
        "With the tuned Logistic Regression model, we get an accuracy of **92.38%** which is an improvement over\n",
        "the base model's accuracy of **91.91%**"
      ]
    },
    {
      "cell_type": "code",
      "execution_count": 85,
      "id": "cb6223cd",
      "metadata": {
        "ExecuteTime": {
          "end_time": "2022-02-09T05:17:54.940441Z",
          "start_time": "2022-02-09T05:17:54.911229Z"
        },
        "execution": {
          "iopub.execute_input": "2022-02-23T03:43:05.082513Z",
          "iopub.status.busy": "2022-02-23T03:43:05.081847Z",
          "iopub.status.idle": "2022-02-23T03:43:05.088437Z",
          "shell.execute_reply": "2022-02-23T03:43:05.088995Z"
        },
        "papermill": {
          "duration": 0.184364,
          "end_time": "2022-02-23T03:43:05.089199",
          "exception": false,
          "start_time": "2022-02-23T03:43:04.904835",
          "status": "completed"
        },
        "tags": [],
        "id": "cb6223cd"
      },
      "outputs": [],
      "source": [
        "# Save Logistic Regression Model\n",
        "pickle.dump(logreg_hpt, open(\"logreg_model.pk1\", \"wb\"))"
      ]
    },
    {
      "cell_type": "markdown",
      "id": "aaa341a1",
      "metadata": {
        "papermill": {
          "duration": 0.168469,
          "end_time": "2022-02-23T03:43:05.429091",
          "exception": false,
          "start_time": "2022-02-23T03:43:05.260622",
          "status": "completed"
        },
        "tags": [],
        "id": "aaa341a1"
      },
      "source": [
        "#### Model Evaluation"
      ]
    },
    {
      "cell_type": "code",
      "execution_count": 86,
      "id": "41388f79",
      "metadata": {
        "ExecuteTime": {
          "end_time": "2022-02-09T05:17:54.971226Z",
          "start_time": "2022-02-09T05:17:54.942371Z"
        },
        "execution": {
          "iopub.execute_input": "2022-02-23T03:43:05.768039Z",
          "iopub.status.busy": "2022-02-23T03:43:05.766851Z",
          "iopub.status.idle": "2022-02-23T03:43:05.771305Z",
          "shell.execute_reply": "2022-02-23T03:43:05.771927Z"
        },
        "papermill": {
          "duration": 0.172682,
          "end_time": "2022-02-23T03:43:05.772128",
          "exception": false,
          "start_time": "2022-02-23T03:43:05.599446",
          "status": "completed"
        },
        "tags": [],
        "id": "41388f79"
      },
      "outputs": [],
      "source": [
        "# Load pickled model\n",
        "logreg_model = pickle.load(open(\"logreg_model.pk1\", \"rb\"))"
      ]
    },
    {
      "cell_type": "code",
      "execution_count": 87,
      "id": "ef629f93",
      "metadata": {
        "ExecuteTime": {
          "end_time": "2022-02-09T05:17:54.987337Z",
          "start_time": "2022-02-09T05:17:54.973228Z"
        },
        "execution": {
          "iopub.execute_input": "2022-02-23T03:43:06.123128Z",
          "iopub.status.busy": "2022-02-23T03:43:06.122080Z",
          "iopub.status.idle": "2022-02-23T03:43:06.132274Z",
          "shell.execute_reply": "2022-02-23T03:43:06.132861Z"
        },
        "papermill": {
          "duration": 0.183938,
          "end_time": "2022-02-23T03:43:06.133041",
          "exception": false,
          "start_time": "2022-02-23T03:43:05.949103",
          "status": "completed"
        },
        "tags": [],
        "id": "ef629f93"
      },
      "outputs": [],
      "source": [
        "# Make predictions on test data\n",
        "y_pred = logreg_model.predict(X_test)"
      ]
    },
    {
      "cell_type": "code",
      "execution_count": 88,
      "id": "2349be79",
      "metadata": {
        "ExecuteTime": {
          "end_time": "2022-02-09T05:17:55.003035Z",
          "start_time": "2022-02-09T05:17:54.989230Z"
        },
        "execution": {
          "iopub.execute_input": "2022-02-23T03:43:06.473410Z",
          "iopub.status.busy": "2022-02-23T03:43:06.472388Z",
          "iopub.status.idle": "2022-02-23T03:43:06.485341Z",
          "shell.execute_reply": "2022-02-23T03:43:06.485981Z"
        },
        "papermill": {
          "duration": 0.187861,
          "end_time": "2022-02-23T03:43:06.486159",
          "exception": false,
          "start_time": "2022-02-23T03:43:06.298298",
          "status": "completed"
        },
        "tags": [],
        "id": "2349be79",
        "outputId": "38c59d7c-167f-4f56-fbe7-5719d2b0ffc7",
        "colab": {
          "base_uri": "https://localhost:8080/"
        }
      },
      "outputs": [
        {
          "output_type": "stream",
          "name": "stdout",
          "text": [
            "[[1235   19    6   34   13]\n",
            " [  21 1215    5   39    8]\n",
            " [  10   13  499   13   20]\n",
            " [  58   47    6 1072   22]\n",
            " [  21   24    8   14  846]]\n"
          ]
        }
      ],
      "source": [
        "# Print Confusion Matrix\n",
        "print(confusion_matrix(y_test, y_pred))"
      ]
    },
    {
      "cell_type": "code",
      "execution_count": 89,
      "id": "cb9b155e",
      "metadata": {
        "ExecuteTime": {
          "end_time": "2022-02-09T05:17:55.294278Z",
          "start_time": "2022-02-09T05:17:55.005278Z"
        },
        "execution": {
          "iopub.execute_input": "2022-02-23T03:43:06.830201Z",
          "iopub.status.busy": "2022-02-23T03:43:06.829178Z",
          "iopub.status.idle": "2022-02-23T03:43:07.076500Z",
          "shell.execute_reply": "2022-02-23T03:43:07.077125Z"
        },
        "papermill": {
          "duration": 0.421753,
          "end_time": "2022-02-23T03:43:07.077319",
          "exception": false,
          "start_time": "2022-02-23T03:43:06.655566",
          "status": "completed"
        },
        "tags": [],
        "id": "cb9b155e",
        "outputId": "a1bb0104-d088-47e0-d07f-a99cce41c926",
        "colab": {
          "base_uri": "https://localhost:8080/",
          "height": 388
        }
      },
      "outputs": [
        {
          "output_type": "display_data",
          "data": {
            "text/plain": [
              "<Figure size 432x432 with 1 Axes>"
            ],
            "image/png": "[encoded data removed]"
          },
          "metadata": {
            "needs_background": "light"
          }
        }
      ],
      "source": [
        "# Visualize Confusion Matrix with heatmap\n",
        "fig, ax = plt.subplots(figsize=(6, 6))\n",
        "ax = sns.heatmap(confusion_matrix(y_test, y_pred),\n",
        "                 annot=True,\n",
        "                 cbar=False,\n",
        "                 cmap=\"RdYlGn\", fmt = '0.1f')\n",
        "plt.xlabel(\"Actual label\")\n",
        "plt.ylabel(\"Predicted label\")\n",
        "plt.show()"
      ]
    },
    {
      "cell_type": "code",
      "execution_count": 90,
      "id": "a8bb88fa",
      "metadata": {
        "ExecuteTime": {
          "end_time": "2022-02-09T05:17:55.309580Z",
          "start_time": "2022-02-09T05:17:55.296280Z"
        },
        "execution": {
          "iopub.execute_input": "2022-02-23T03:43:07.433182Z",
          "iopub.status.busy": "2022-02-23T03:43:07.432419Z",
          "iopub.status.idle": "2022-02-23T03:43:07.435250Z",
          "shell.execute_reply": "2022-02-23T03:43:07.435729Z"
        },
        "papermill": {
          "duration": 0.183809,
          "end_time": "2022-02-23T03:43:07.435933",
          "exception": false,
          "start_time": "2022-02-23T03:43:07.252124",
          "status": "completed"
        },
        "tags": [],
        "id": "a8bb88fa"
      },
      "outputs": [],
      "source": [
        "Topicnames_target = [\"Bank account services\", \"Credit card / Prepaid card\", \"Others\", \"Theft/Dispute reporting\", \"Mortgages/loans\"]"
      ]
    },
    {
      "cell_type": "code",
      "execution_count": 91,
      "id": "b99a0b55",
      "metadata": {
        "ExecuteTime": {
          "end_time": "2022-02-09T05:17:55.339467Z",
          "start_time": "2022-02-09T05:17:55.312584Z"
        },
        "execution": {
          "iopub.execute_input": "2022-02-23T03:43:07.832060Z",
          "iopub.status.busy": "2022-02-23T03:43:07.831056Z",
          "iopub.status.idle": "2022-02-23T03:43:07.845046Z",
          "shell.execute_reply": "2022-02-23T03:43:07.846584Z"
        },
        "papermill": {
          "duration": 0.219699,
          "end_time": "2022-02-23T03:43:07.846872",
          "exception": false,
          "start_time": "2022-02-23T03:43:07.627173",
          "status": "completed"
        },
        "tags": [],
        "id": "b99a0b55",
        "outputId": "8f225e5c-2894-415d-95a7-3b7071ef6b66",
        "colab": {
          "base_uri": "https://localhost:8080/"
        }
      },
      "outputs": [
        {
          "output_type": "stream",
          "name": "stdout",
          "text": [
            "                            precision    recall  f1-score   support\n",
            "\n",
            "     Bank account services       0.92      0.94      0.93      1307\n",
            "Credit card / Prepaid card       0.92      0.94      0.93      1288\n",
            "                    Others       0.95      0.90      0.92       555\n",
            "   Theft/Dispute reporting       0.91      0.89      0.90      1205\n",
            "           Mortgages/loans       0.93      0.93      0.93       913\n",
            "\n",
            "                  accuracy                           0.92      5268\n",
            "                 macro avg       0.93      0.92      0.92      5268\n",
            "              weighted avg       0.92      0.92      0.92      5268\n",
            "\n"
          ]
        }
      ],
      "source": [
        "# Print Classification Report\n",
        "print(classification_report(y_test, y_pred, target_names = Topicnames_target))"
      ]
    },
    {
      "cell_type": "markdown",
      "id": "0cac2254",
      "metadata": {
        "papermill": {
          "duration": 0.176095,
          "end_time": "2022-02-23T03:43:08.226678",
          "exception": false,
          "start_time": "2022-02-23T03:43:08.050583",
          "status": "completed"
        },
        "tags": [],
        "id": "0cac2254"
      },
      "source": [
        "- The overall accuracy of the Logistic Regression model is **92%**.\n",
        "- Precision and Recall are __93%__ and __92%__ respectively which makes this is a very good model."
      ]
    },
    {
      "cell_type": "markdown",
      "id": "0463e476",
      "metadata": {
        "papermill": {
          "duration": 0.180526,
          "end_time": "2022-02-23T03:43:08.582967",
          "exception": false,
          "start_time": "2022-02-23T03:43:08.402441",
          "status": "completed"
        },
        "tags": [],
        "id": "0463e476"
      },
      "source": [
        "### Decision Tree Classifier"
      ]
    },
    {
      "cell_type": "code",
      "execution_count": 92,
      "id": "d0f850de",
      "metadata": {
        "ExecuteTime": {
          "end_time": "2022-02-09T05:17:55.432330Z",
          "start_time": "2022-02-09T05:17:55.341469Z"
        },
        "execution": {
          "iopub.execute_input": "2022-02-23T03:43:08.937410Z",
          "iopub.status.busy": "2022-02-23T03:43:08.936679Z",
          "iopub.status.idle": "2022-02-23T03:43:09.051673Z",
          "shell.execute_reply": "2022-02-23T03:43:09.052271Z"
        },
        "papermill": {
          "duration": 0.293705,
          "end_time": "2022-02-23T03:43:09.052474",
          "exception": false,
          "start_time": "2022-02-23T03:43:08.758769",
          "status": "completed"
        },
        "tags": [],
        "id": "d0f850de"
      },
      "outputs": [],
      "source": [
        "# Importing DecisionTreeClassifier from sklearn\n",
        "from sklearn.tree import DecisionTreeClassifier"
      ]
    },
    {
      "cell_type": "code",
      "execution_count": 93,
      "id": "00317dd0",
      "metadata": {
        "ExecuteTime": {
          "end_time": "2022-02-09T05:17:55.462846Z",
          "start_time": "2022-02-09T05:17:55.434218Z"
        },
        "execution": {
          "iopub.execute_input": "2022-02-23T03:43:09.403931Z",
          "iopub.status.busy": "2022-02-23T03:43:09.403259Z",
          "iopub.status.idle": "2022-02-23T03:43:09.421498Z",
          "shell.execute_reply": "2022-02-23T03:43:09.422080Z"
        },
        "papermill": {
          "duration": 0.195965,
          "end_time": "2022-02-23T03:43:09.422263",
          "exception": false,
          "start_time": "2022-02-23T03:43:09.226298",
          "status": "completed"
        },
        "tags": [],
        "id": "00317dd0"
      },
      "outputs": [],
      "source": [
        "# Train, Test Split\n",
        "X_train, X_test, y_train, y_test = train_test_split(X_train_tfidf, training_data['Topic'], test_size=0.25, random_state=42)"
      ]
    },
    {
      "cell_type": "code",
      "execution_count": 94,
      "id": "30900cb2",
      "metadata": {
        "ExecuteTime": {
          "end_time": "2022-02-09T05:18:07.504760Z",
          "start_time": "2022-02-09T05:17:55.464877Z"
        },
        "execution": {
          "iopub.execute_input": "2022-02-23T03:43:09.807795Z",
          "iopub.status.busy": "2022-02-23T03:43:09.807039Z",
          "iopub.status.idle": "2022-02-23T03:43:25.368405Z",
          "shell.execute_reply": "2022-02-23T03:43:25.369065Z"
        },
        "papermill": {
          "duration": 15.773287,
          "end_time": "2022-02-23T03:43:25.369277",
          "exception": false,
          "start_time": "2022-02-23T03:43:09.595990",
          "status": "completed"
        },
        "tags": [],
        "id": "30900cb2"
      },
      "outputs": [],
      "source": [
        "dt = DecisionTreeClassifier(random_state=42).fit(X_train, y_train)"
      ]
    },
    {
      "cell_type": "code",
      "execution_count": 95,
      "id": "6d71920a",
      "metadata": {
        "ExecuteTime": {
          "end_time": "2022-02-09T05:18:07.535281Z",
          "start_time": "2022-02-09T05:18:07.506454Z"
        },
        "execution": {
          "iopub.execute_input": "2022-02-23T03:43:25.726607Z",
          "iopub.status.busy": "2022-02-23T03:43:25.725862Z",
          "iopub.status.idle": "2022-02-23T03:43:25.749865Z",
          "shell.execute_reply": "2022-02-23T03:43:25.749178Z"
        },
        "papermill": {
          "duration": 0.204553,
          "end_time": "2022-02-23T03:43:25.750028",
          "exception": false,
          "start_time": "2022-02-23T03:43:25.545475",
          "status": "completed"
        },
        "tags": [],
        "id": "6d71920a",
        "outputId": "0ba51be0-0d8e-475d-b29d-aed73ed2b6a9",
        "colab": {
          "base_uri": "https://localhost:8080/"
        }
      },
      "outputs": [
        {
          "output_type": "execute_result",
          "data": {
            "text/plain": [
              "0.7839787395596052"
            ]
          },
          "metadata": {},
          "execution_count": 95
        }
      ],
      "source": [
        "# Getting the score of the base model\n",
        "dt.score(X_test, y_test)"
      ]
    },
    {
      "cell_type": "markdown",
      "id": "a23fdb82",
      "metadata": {
        "papermill": {
          "duration": 0.181689,
          "end_time": "2022-02-23T03:43:26.107008",
          "exception": false,
          "start_time": "2022-02-23T03:43:25.925319",
          "status": "completed"
        },
        "tags": [],
        "id": "a23fdb82"
      },
      "source": [
        "With base Decision Tree model, we get an accuracy of __78.39%__"
      ]
    },
    {
      "cell_type": "markdown",
      "id": "5df7261b",
      "metadata": {
        "papermill": {
          "duration": 0.178993,
          "end_time": "2022-02-23T03:43:26.462058",
          "exception": false,
          "start_time": "2022-02-23T03:43:26.283065",
          "status": "completed"
        },
        "tags": [],
        "id": "5df7261b"
      },
      "source": [
        "#### HyperParameter Tuning"
      ]
    },
    {
      "cell_type": "code",
      "execution_count": 96,
      "id": "60b0dbe1",
      "metadata": {
        "ExecuteTime": {
          "end_time": "2022-02-09T05:18:07.550937Z",
          "start_time": "2022-02-09T05:18:07.537122Z"
        },
        "execution": {
          "iopub.execute_input": "2022-02-23T03:43:26.815668Z",
          "iopub.status.busy": "2022-02-23T03:43:26.814982Z",
          "iopub.status.idle": "2022-02-23T03:43:26.820409Z",
          "shell.execute_reply": "2022-02-23T03:43:26.819612Z"
        },
        "papermill": {
          "duration": 0.187974,
          "end_time": "2022-02-23T03:43:26.820584",
          "exception": false,
          "start_time": "2022-02-23T03:43:26.632610",
          "status": "completed"
        },
        "tags": [],
        "id": "60b0dbe1"
      },
      "outputs": [],
      "source": [
        "dt_grid = {\"max_depth\": [3, 5, 10],\n",
        "           \"min_samples_split\": np.arange(2, 20, 2),\n",
        "           \"min_samples_leaf\": np.arange(1, 20, 2)}"
      ]
    },
    {
      "cell_type": "code",
      "execution_count": 97,
      "id": "9ff23351",
      "metadata": {
        "ExecuteTime": {
          "end_time": "2022-02-09T05:30:49.868358Z",
          "start_time": "2022-02-09T05:18:07.552850Z"
        },
        "execution": {
          "iopub.execute_input": "2022-02-23T03:43:27.182472Z",
          "iopub.status.busy": "2022-02-23T03:43:27.181635Z",
          "iopub.status.idle": "2022-02-23T03:59:42.487920Z",
          "shell.execute_reply": "2022-02-23T03:59:42.487077Z"
        },
        "papermill": {
          "duration": 975.490517,
          "end_time": "2022-02-23T03:59:42.488137",
          "exception": false,
          "start_time": "2022-02-23T03:43:26.997620",
          "status": "completed"
        },
        "tags": [],
        "id": "9ff23351"
      },
      "outputs": [],
      "source": [
        "# Setup grid hyperparameter search for LogisticRegression\n",
        "dt_hpt = GridSearchCV(DecisionTreeClassifier(random_state=42),\n",
        "                                param_grid=dt_grid,\n",
        "                                cv=5,\n",
        "                                verbose=True,\n",
        "                                n_jobs=-1)\n",
        "\n",
        "# Fit random hyperparameter search model\n",
        "dt_hpt.fit(X_train, y_train);"
      ]
    },
    {
      "cell_type": "code",
      "execution_count": 98,
      "id": "4b33fe05",
      "metadata": {
        "ExecuteTime": {
          "end_time": "2022-02-09T05:30:49.883916Z",
          "start_time": "2022-02-09T05:30:49.870038Z"
        },
        "execution": {
          "iopub.execute_input": "2022-02-23T03:59:42.863477Z",
          "iopub.status.busy": "2022-02-23T03:59:42.862716Z",
          "iopub.status.idle": "2022-02-23T03:59:42.865422Z",
          "shell.execute_reply": "2022-02-23T03:59:42.865941Z"
        },
        "papermill": {
          "duration": 0.188977,
          "end_time": "2022-02-23T03:59:42.866125",
          "exception": false,
          "start_time": "2022-02-23T03:59:42.677148",
          "status": "completed"
        },
        "tags": [],
        "id": "4b33fe05",
        "outputId": "c7e88745-9b29-4000-96f6-b6bc2e8420c1",
        "colab": {
          "base_uri": "https://localhost:8080/"
        }
      },
      "outputs": [
        {
          "output_type": "execute_result",
          "data": {
            "text/plain": [
              "{'max_depth': 10, 'min_samples_leaf': 15, 'min_samples_split': 2}"
            ]
          },
          "metadata": {},
          "execution_count": 98
        }
      ],
      "source": [
        "# Check best parameters\n",
        "dt_hpt.best_params_"
      ]
    },
    {
      "cell_type": "code",
      "execution_count": 99,
      "id": "136c97a5",
      "metadata": {
        "ExecuteTime": {
          "end_time": "2022-02-09T05:30:49.900061Z",
          "start_time": "2022-02-09T05:30:49.885927Z"
        },
        "execution": {
          "iopub.execute_input": "2022-02-23T03:59:43.232636Z",
          "iopub.status.busy": "2022-02-23T03:59:43.231903Z",
          "iopub.status.idle": "2022-02-23T03:59:43.243150Z",
          "shell.execute_reply": "2022-02-23T03:59:43.244209Z"
        },
        "papermill": {
          "duration": 0.200965,
          "end_time": "2022-02-23T03:59:43.244502",
          "exception": false,
          "start_time": "2022-02-23T03:59:43.043537",
          "status": "completed"
        },
        "tags": [],
        "id": "136c97a5",
        "outputId": "7e2f2fcd-8f27-4b07-8fd6-b3d6db7b9d13",
        "colab": {
          "base_uri": "https://localhost:8080/"
        }
      },
      "outputs": [
        {
          "output_type": "execute_result",
          "data": {
            "text/plain": [
              "0.7742976461655278"
            ]
          },
          "metadata": {},
          "execution_count": 99
        }
      ],
      "source": [
        "# Evaluating the tuned model\n",
        "dt_hpt.score(X_test, y_test)"
      ]
    },
    {
      "cell_type": "markdown",
      "id": "56c3ec97",
      "metadata": {
        "papermill": {
          "duration": 0.193616,
          "end_time": "2022-02-23T03:59:43.622314",
          "exception": false,
          "start_time": "2022-02-23T03:59:43.428698",
          "status": "completed"
        },
        "tags": [],
        "id": "56c3ec97"
      },
      "source": [
        "With the tuned Decision Tree model, we get an accuracy of __77.42%__ which is less than the base model's accuracy of __78.39%__"
      ]
    },
    {
      "cell_type": "code",
      "execution_count": 100,
      "id": "7225357b",
      "metadata": {
        "ExecuteTime": {
          "end_time": "2022-02-09T05:30:49.929995Z",
          "start_time": "2022-02-09T05:30:49.901929Z"
        },
        "execution": {
          "iopub.execute_input": "2022-02-23T03:59:43.997328Z",
          "iopub.status.busy": "2022-02-23T03:59:43.996576Z",
          "iopub.status.idle": "2022-02-23T03:59:44.002338Z",
          "shell.execute_reply": "2022-02-23T03:59:44.002924Z"
        },
        "papermill": {
          "duration": 0.188893,
          "end_time": "2022-02-23T03:59:44.003116",
          "exception": false,
          "start_time": "2022-02-23T03:59:43.814223",
          "status": "completed"
        },
        "tags": [],
        "id": "7225357b"
      },
      "outputs": [],
      "source": [
        "# Save Logistic Regression Model\n",
        "pickle.dump(dt_hpt, open(\"dt_model.pk1\", \"wb\"))"
      ]
    },
    {
      "cell_type": "markdown",
      "id": "dd2616eb",
      "metadata": {
        "papermill": {
          "duration": 0.191551,
          "end_time": "2022-02-23T03:59:44.392190",
          "exception": false,
          "start_time": "2022-02-23T03:59:44.200639",
          "status": "completed"
        },
        "tags": [],
        "id": "dd2616eb"
      },
      "source": [
        "#### Model Evaluation"
      ]
    },
    {
      "cell_type": "code",
      "execution_count": 101,
      "id": "16f04d3f",
      "metadata": {
        "ExecuteTime": {
          "end_time": "2022-02-09T05:30:49.960327Z",
          "start_time": "2022-02-09T05:30:49.932928Z"
        },
        "execution": {
          "iopub.execute_input": "2022-02-23T03:59:44.776611Z",
          "iopub.status.busy": "2022-02-23T03:59:44.775915Z",
          "iopub.status.idle": "2022-02-23T03:59:44.781562Z",
          "shell.execute_reply": "2022-02-23T03:59:44.782176Z"
        },
        "papermill": {
          "duration": 0.19329,
          "end_time": "2022-02-23T03:59:44.782384",
          "exception": false,
          "start_time": "2022-02-23T03:59:44.589094",
          "status": "completed"
        },
        "tags": [],
        "id": "16f04d3f"
      },
      "outputs": [],
      "source": [
        "# Load pickled model\n",
        "dt_model = pickle.load(open(\"dt_model.pk1\", \"rb\"))"
      ]
    },
    {
      "cell_type": "code",
      "execution_count": 102,
      "id": "dca7afda",
      "metadata": {
        "ExecuteTime": {
          "end_time": "2022-02-09T05:30:49.975926Z",
          "start_time": "2022-02-09T05:30:49.962927Z"
        },
        "execution": {
          "iopub.execute_input": "2022-02-23T03:59:45.170600Z",
          "iopub.status.busy": "2022-02-23T03:59:45.169684Z",
          "iopub.status.idle": "2022-02-23T03:59:45.179330Z",
          "shell.execute_reply": "2022-02-23T03:59:45.178735Z"
        },
        "papermill": {
          "duration": 0.203356,
          "end_time": "2022-02-23T03:59:45.179492",
          "exception": false,
          "start_time": "2022-02-23T03:59:44.976136",
          "status": "completed"
        },
        "tags": [],
        "id": "dca7afda"
      },
      "outputs": [],
      "source": [
        "# Make predictions on test data\n",
        "y_pred = dt_model.predict(X_test)"
      ]
    },
    {
      "cell_type": "code",
      "execution_count": 103,
      "id": "3a13adeb",
      "metadata": {
        "ExecuteTime": {
          "end_time": "2022-02-09T05:30:49.991089Z",
          "start_time": "2022-02-09T05:30:49.977927Z"
        },
        "execution": {
          "iopub.execute_input": "2022-02-23T03:59:45.576839Z",
          "iopub.status.busy": "2022-02-23T03:59:45.575280Z",
          "iopub.status.idle": "2022-02-23T03:59:45.586985Z",
          "shell.execute_reply": "2022-02-23T03:59:45.587736Z"
        },
        "papermill": {
          "duration": 0.214871,
          "end_time": "2022-02-23T03:59:45.587972",
          "exception": false,
          "start_time": "2022-02-23T03:59:45.373101",
          "status": "completed"
        },
        "tags": [],
        "id": "3a13adeb",
        "outputId": "98b32b2b-2bb7-4025-b596-b3946cc37a2d",
        "colab": {
          "base_uri": "https://localhost:8080/"
        }
      },
      "outputs": [
        {
          "output_type": "stream",
          "name": "stdout",
          "text": [
            "[[1055   55   24   64  109]\n",
            " [  40 1064   27   78   79]\n",
            " [  43   32  427   13   40]\n",
            " [ 155  137   20  740  153]\n",
            " [  47   22   33   18  793]]\n"
          ]
        }
      ],
      "source": [
        "# Print Confusion Matrix\n",
        "print(confusion_matrix(y_test, y_pred))"
      ]
    },
    {
      "cell_type": "code",
      "execution_count": 104,
      "id": "a946069f",
      "metadata": {
        "ExecuteTime": {
          "end_time": "2022-02-09T05:30:50.269287Z",
          "start_time": "2022-02-09T05:30:49.994087Z"
        },
        "execution": {
          "iopub.execute_input": "2022-02-23T03:59:45.980420Z",
          "iopub.status.busy": "2022-02-23T03:59:45.979015Z",
          "iopub.status.idle": "2022-02-23T03:59:46.215021Z",
          "shell.execute_reply": "2022-02-23T03:59:46.215571Z"
        },
        "papermill": {
          "duration": 0.440355,
          "end_time": "2022-02-23T03:59:46.215766",
          "exception": false,
          "start_time": "2022-02-23T03:59:45.775411",
          "status": "completed"
        },
        "tags": [],
        "id": "a946069f",
        "outputId": "92ede616-2299-4878-bcc5-c0f8aff8797b",
        "colab": {
          "base_uri": "https://localhost:8080/",
          "height": 388
        }
      },
      "outputs": [
        {
          "output_type": "display_data",
          "data": {
            "text/plain": [
              "<Figure size 432x432 with 1 Axes>"
            ],
            "image/png": "[encoded data removed]"
          },
          "metadata": {
            "needs_background": "light"
          }
        }
      ],
      "source": [
        "# Visualize Confusion Matrix with heatmap\n",
        "fig, ax = plt.subplots(figsize=(6, 6))\n",
        "ax = sns.heatmap(confusion_matrix(y_test, y_pred),\n",
        "                 annot=True,\n",
        "                 cbar=False,\n",
        "                 cmap=\"RdYlGn\", fmt = '0.1f')\n",
        "plt.xlabel(\"Actual label\")\n",
        "plt.ylabel(\"Predicted label\")\n",
        "plt.show()"
      ]
    },
    {
      "cell_type": "code",
      "execution_count": 105,
      "id": "fdc92680",
      "metadata": {
        "ExecuteTime": {
          "end_time": "2022-02-09T05:30:50.284903Z",
          "start_time": "2022-02-09T05:30:50.271150Z"
        },
        "execution": {
          "iopub.execute_input": "2022-02-23T03:59:46.584432Z",
          "iopub.status.busy": "2022-02-23T03:59:46.582610Z",
          "iopub.status.idle": "2022-02-23T03:59:46.587643Z",
          "shell.execute_reply": "2022-02-23T03:59:46.587026Z"
        },
        "papermill": {
          "duration": 0.190052,
          "end_time": "2022-02-23T03:59:46.587803",
          "exception": false,
          "start_time": "2022-02-23T03:59:46.397751",
          "status": "completed"
        },
        "tags": [],
        "id": "fdc92680"
      },
      "outputs": [],
      "source": [
        "Topicnames_target = [\"Bank account services\", \"Credit card / Prepaid card\", \"Others\", \"Theft/Dispute reporting\", \"Mortgages/loans\"]"
      ]
    },
    {
      "cell_type": "code",
      "execution_count": 106,
      "id": "250166f1",
      "metadata": {
        "ExecuteTime": {
          "end_time": "2022-02-09T05:30:50.316857Z",
          "start_time": "2022-02-09T05:30:50.286889Z"
        },
        "execution": {
          "iopub.execute_input": "2022-02-23T03:59:46.956555Z",
          "iopub.status.busy": "2022-02-23T03:59:46.955836Z",
          "iopub.status.idle": "2022-02-23T03:59:46.972076Z",
          "shell.execute_reply": "2022-02-23T03:59:46.972628Z"
        },
        "papermill": {
          "duration": 0.2031,
          "end_time": "2022-02-23T03:59:46.972843",
          "exception": false,
          "start_time": "2022-02-23T03:59:46.769743",
          "status": "completed"
        },
        "tags": [],
        "id": "250166f1",
        "outputId": "609792c1-cfa4-46e6-db62-c06b09488477",
        "colab": {
          "base_uri": "https://localhost:8080/"
        }
      },
      "outputs": [
        {
          "output_type": "stream",
          "name": "stdout",
          "text": [
            "                            precision    recall  f1-score   support\n",
            "\n",
            "     Bank account services       0.79      0.81      0.80      1307\n",
            "Credit card / Prepaid card       0.81      0.83      0.82      1288\n",
            "                    Others       0.80      0.77      0.79       555\n",
            "   Theft/Dispute reporting       0.81      0.61      0.70      1205\n",
            "           Mortgages/loans       0.68      0.87      0.76       913\n",
            "\n",
            "                  accuracy                           0.77      5268\n",
            "                 macro avg       0.78      0.78      0.77      5268\n",
            "              weighted avg       0.78      0.77      0.77      5268\n",
            "\n"
          ]
        }
      ],
      "source": [
        "# Print Classification Report\n",
        "print(classification_report(y_test, y_pred, target_names = Topicnames_target))"
      ]
    },
    {
      "cell_type": "markdown",
      "id": "110c9daf",
      "metadata": {
        "papermill": {
          "duration": 0.189675,
          "end_time": "2022-02-23T03:59:47.345910",
          "exception": false,
          "start_time": "2022-02-23T03:59:47.156235",
          "status": "completed"
        },
        "tags": [],
        "id": "110c9daf"
      },
      "source": [
        "- The overall accuracy of the Decision Tree model is **78%**\n",
        "- Precision and Recall are 78% and 78% respectively\n",
        "- This is an okay model but much poor compared to Logistic Regression where the accuracy was 92%"
      ]
    },
    {
      "cell_type": "markdown",
      "id": "a3e06ab7",
      "metadata": {
        "papermill": {
          "duration": 0.189609,
          "end_time": "2022-02-23T03:59:47.717952",
          "exception": false,
          "start_time": "2022-02-23T03:59:47.528343",
          "status": "completed"
        },
        "tags": [],
        "id": "a3e06ab7"
      },
      "source": [
        "### Random Forest Classifier"
      ]
    },
    {
      "cell_type": "code",
      "execution_count": 107,
      "id": "e75f10ca",
      "metadata": {
        "ExecuteTime": {
          "end_time": "2022-02-09T05:30:50.362970Z",
          "start_time": "2022-02-09T05:30:50.318861Z"
        },
        "execution": {
          "iopub.execute_input": "2022-02-23T03:59:48.113031Z",
          "iopub.status.busy": "2022-02-23T03:59:48.110974Z",
          "iopub.status.idle": "2022-02-23T03:59:48.150169Z",
          "shell.execute_reply": "2022-02-23T03:59:48.150681Z"
        },
        "papermill": {
          "duration": 0.237929,
          "end_time": "2022-02-23T03:59:48.150915",
          "exception": false,
          "start_time": "2022-02-23T03:59:47.912986",
          "status": "completed"
        },
        "tags": [],
        "id": "e75f10ca"
      },
      "outputs": [],
      "source": [
        "# Importing Random Forest Classifier from sklearn\n",
        "from sklearn.ensemble import RandomForestClassifier\n",
        "# Importing Train, Test Split\n",
        "from sklearn.model_selection import train_test_split"
      ]
    },
    {
      "cell_type": "code",
      "execution_count": 108,
      "id": "a4db8236",
      "metadata": {
        "ExecuteTime": {
          "end_time": "2022-02-09T05:30:50.394044Z",
          "start_time": "2022-02-09T05:30:50.364858Z"
        },
        "execution": {
          "iopub.execute_input": "2022-02-23T03:59:48.527549Z",
          "iopub.status.busy": "2022-02-23T03:59:48.526854Z",
          "iopub.status.idle": "2022-02-23T03:59:48.544963Z",
          "shell.execute_reply": "2022-02-23T03:59:48.546240Z"
        },
        "papermill": {
          "duration": 0.205296,
          "end_time": "2022-02-23T03:59:48.546580",
          "exception": false,
          "start_time": "2022-02-23T03:59:48.341284",
          "status": "completed"
        },
        "tags": [],
        "id": "a4db8236"
      },
      "outputs": [],
      "source": [
        "# Train, Test Split\n",
        "X_train, X_test, y_train, y_test = train_test_split(X_train_tfidf, training_data['Topic'], test_size=0.25, random_state=42)"
      ]
    },
    {
      "cell_type": "code",
      "execution_count": 109,
      "id": "4346c6a4",
      "metadata": {
        "ExecuteTime": {
          "end_time": "2022-02-09T05:31:36.728342Z",
          "start_time": "2022-02-09T05:30:50.395860Z"
        },
        "execution": {
          "iopub.execute_input": "2022-02-23T03:59:48.924785Z",
          "iopub.status.busy": "2022-02-23T03:59:48.924093Z",
          "iopub.status.idle": "2022-02-23T04:00:39.107957Z",
          "shell.execute_reply": "2022-02-23T04:00:39.107097Z"
        },
        "papermill": {
          "duration": 50.372686,
          "end_time": "2022-02-23T04:00:39.108119",
          "exception": false,
          "start_time": "2022-02-23T03:59:48.735433",
          "status": "completed"
        },
        "tags": [],
        "id": "4346c6a4"
      },
      "outputs": [],
      "source": [
        "rf = RandomForestClassifier(random_state=42).fit(X_train, y_train)"
      ]
    },
    {
      "cell_type": "code",
      "execution_count": 110,
      "id": "03452034",
      "metadata": {
        "ExecuteTime": {
          "end_time": "2022-02-09T05:31:37.130011Z",
          "start_time": "2022-02-09T05:31:36.730183Z"
        },
        "execution": {
          "iopub.execute_input": "2022-02-23T04:00:39.494901Z",
          "iopub.status.busy": "2022-02-23T04:00:39.494181Z",
          "iopub.status.idle": "2022-02-23T04:00:39.977739Z",
          "shell.execute_reply": "2022-02-23T04:00:39.978681Z"
        },
        "papermill": {
          "duration": 0.67757,
          "end_time": "2022-02-23T04:00:39.979201",
          "exception": false,
          "start_time": "2022-02-23T04:00:39.301631",
          "status": "completed"
        },
        "tags": [],
        "id": "03452034",
        "outputId": "1dd60b1a-6f9e-44ba-b437-af40e0704c87",
        "colab": {
          "base_uri": "https://localhost:8080/"
        }
      },
      "outputs": [
        {
          "output_type": "execute_result",
          "data": {
            "text/plain": [
              "0.8122627182991647"
            ]
          },
          "metadata": {},
          "execution_count": 110
        }
      ],
      "source": [
        "# Getting the score of the base model\n",
        "rf.score(X_test, y_test)"
      ]
    },
    {
      "cell_type": "markdown",
      "id": "c58f0826",
      "metadata": {
        "papermill": {
          "duration": 0.197803,
          "end_time": "2022-02-23T04:00:40.386472",
          "exception": false,
          "start_time": "2022-02-23T04:00:40.188669",
          "status": "completed"
        },
        "tags": [],
        "id": "c58f0826"
      },
      "source": [
        "With base Random Forest model, we get an accuracy of 81.22%"
      ]
    },
    {
      "cell_type": "markdown",
      "id": "dccd8ab3",
      "metadata": {
        "papermill": {
          "duration": 0.18925,
          "end_time": "2022-02-23T04:00:40.770726",
          "exception": false,
          "start_time": "2022-02-23T04:00:40.581476",
          "status": "completed"
        },
        "tags": [],
        "id": "dccd8ab3"
      },
      "source": [
        "#### HyperParameter Tuning"
      ]
    },
    {
      "cell_type": "code",
      "execution_count": 111,
      "id": "4c953881",
      "metadata": {
        "ExecuteTime": {
          "end_time": "2022-02-09T05:31:37.145994Z",
          "start_time": "2022-02-09T05:31:37.130897Z"
        },
        "execution": {
          "iopub.execute_input": "2022-02-23T04:00:41.149974Z",
          "iopub.status.busy": "2022-02-23T04:00:41.149253Z",
          "iopub.status.idle": "2022-02-23T04:00:41.153953Z",
          "shell.execute_reply": "2022-02-23T04:00:41.154518Z"
        },
        "papermill": {
          "duration": 0.197183,
          "end_time": "2022-02-23T04:00:41.154710",
          "exception": false,
          "start_time": "2022-02-23T04:00:40.957527",
          "status": "completed"
        },
        "tags": [],
        "id": "4c953881"
      },
      "outputs": [],
      "source": [
        "rf_grid = {\"n_estimators\": np.arange(10, 1000, 50),\n",
        "           \"max_depth\": [3, 5, 10],\n",
        "           \"min_samples_split\": np.arange(2, 20, 2),\n",
        "           \"min_samples_leaf\": np.arange(1, 20, 2)}"
      ]
    },
    {
      "cell_type": "code",
      "execution_count": 112,
      "id": "4f966aa2",
      "metadata": {
        "ExecuteTime": {
          "end_time": "2022-02-09T05:34:15.072481Z",
          "start_time": "2022-02-09T05:31:37.147993Z"
        },
        "execution": {
          "iopub.execute_input": "2022-02-23T04:00:41.545300Z",
          "iopub.status.busy": "2022-02-23T04:00:41.544553Z",
          "iopub.status.idle": "2022-02-23T04:03:12.897197Z",
          "shell.execute_reply": "2022-02-23T04:03:12.896590Z"
        },
        "papermill": {
          "duration": 151.547216,
          "end_time": "2022-02-23T04:03:12.897385",
          "exception": false,
          "start_time": "2022-02-23T04:00:41.350169",
          "status": "completed"
        },
        "tags": [],
        "id": "4f966aa2",
        "outputId": "1dd54554-35bd-473c-8d9e-9a20b90c717d",
        "colab": {
          "base_uri": "https://localhost:8080/"
        }
      },
      "outputs": [
        {
          "output_type": "stream",
          "name": "stdout",
          "text": [
            "Fitting 5 folds for each of 10 candidates, totalling 50 fits\n"
          ]
        }
      ],
      "source": [
        "# Setup random hyperparameter search for LogisticRegression\n",
        "rf_hpt = RandomizedSearchCV(RandomForestClassifier(random_state=42),\n",
        "                                param_distributions=rf_grid,\n",
        "                                cv=5,\n",
        "                                verbose=True,\n",
        "                                n_jobs=-1)\n",
        "\n",
        "# Fit random hyperparameter search model\n",
        "rf_hpt.fit(X_train, y_train);"
      ]
    },
    {
      "cell_type": "code",
      "execution_count": 113,
      "id": "5d7a3ab7",
      "metadata": {
        "ExecuteTime": {
          "end_time": "2022-02-09T05:34:15.088380Z",
          "start_time": "2022-02-09T05:34:15.074175Z"
        },
        "execution": {
          "iopub.execute_input": "2022-02-23T04:03:13.278624Z",
          "iopub.status.busy": "2022-02-23T04:03:13.277918Z",
          "iopub.status.idle": "2022-02-23T04:03:13.284305Z",
          "shell.execute_reply": "2022-02-23T04:03:13.283706Z"
        },
        "papermill": {
          "duration": 0.20288,
          "end_time": "2022-02-23T04:03:13.284463",
          "exception": false,
          "start_time": "2022-02-23T04:03:13.081583",
          "status": "completed"
        },
        "tags": [],
        "id": "5d7a3ab7",
        "outputId": "2c22540d-8c81-4711-f075-91aa484c3656",
        "colab": {
          "base_uri": "https://localhost:8080/"
        }
      },
      "outputs": [
        {
          "output_type": "execute_result",
          "data": {
            "text/plain": [
              "{'max_depth': 10,\n",
              " 'min_samples_leaf': 1,\n",
              " 'min_samples_split': 18,\n",
              " 'n_estimators': 760}"
            ]
          },
          "metadata": {},
          "execution_count": 113
        }
      ],
      "source": [
        "# Check best parameters\n",
        "rf_hpt.best_params_"
      ]
    },
    {
      "cell_type": "code",
      "execution_count": 114,
      "id": "09c851d0",
      "metadata": {
        "ExecuteTime": {
          "end_time": "2022-02-09T05:34:16.478433Z",
          "start_time": "2022-02-09T05:34:15.090324Z"
        },
        "execution": {
          "iopub.execute_input": "2022-02-23T04:03:13.674704Z",
          "iopub.status.busy": "2022-02-23T04:03:13.674016Z",
          "iopub.status.idle": "2022-02-23T04:03:15.236317Z",
          "shell.execute_reply": "2022-02-23T04:03:15.235692Z"
        },
        "papermill": {
          "duration": 1.762166,
          "end_time": "2022-02-23T04:03:15.236476",
          "exception": false,
          "start_time": "2022-02-23T04:03:13.474310",
          "status": "completed"
        },
        "tags": [],
        "id": "09c851d0",
        "outputId": "008e123b-146c-431d-8444-cc5f5db8b487",
        "colab": {
          "base_uri": "https://localhost:8080/"
        }
      },
      "outputs": [
        {
          "output_type": "execute_result",
          "data": {
            "text/plain": [
              "0.7306378132118451"
            ]
          },
          "metadata": {},
          "execution_count": 114
        }
      ],
      "source": [
        "# Evaluating the tuned model\n",
        "rf_hpt.score(X_test, y_test)"
      ]
    },
    {
      "cell_type": "markdown",
      "id": "070c6899",
      "metadata": {
        "papermill": {
          "duration": 0.190354,
          "end_time": "2022-02-23T04:03:15.612010",
          "exception": false,
          "start_time": "2022-02-23T04:03:15.421656",
          "status": "completed"
        },
        "tags": [],
        "id": "070c6899"
      },
      "source": [
        "After Randomized Search, Random Forecast model accuracy is only 73%. We will fine tune the results further based on Grid Search"
      ]
    },
    {
      "cell_type": "code",
      "execution_count": 115,
      "id": "95c92063",
      "metadata": {
        "ExecuteTime": {
          "end_time": "2022-02-09T05:34:16.494179Z",
          "start_time": "2022-02-09T05:34:16.480399Z"
        },
        "execution": {
          "iopub.execute_input": "2022-02-23T04:03:15.994670Z",
          "iopub.status.busy": "2022-02-23T04:03:15.993959Z",
          "iopub.status.idle": "2022-02-23T04:03:15.998482Z",
          "shell.execute_reply": "2022-02-23T04:03:15.999087Z"
        },
        "papermill": {
          "duration": 0.200136,
          "end_time": "2022-02-23T04:03:15.999265",
          "exception": false,
          "start_time": "2022-02-23T04:03:15.799129",
          "status": "completed"
        },
        "tags": [],
        "id": "95c92063"
      },
      "outputs": [],
      "source": [
        "rf_grid = {\"n_estimators\": [200, 260, 300],\n",
        "           \"max_depth\": [7, 10, 15],\n",
        "           \"min_samples_split\": [10, 12, 14],\n",
        "           \"min_samples_leaf\": [6, 8, 10]}"
      ]
    },
    {
      "cell_type": "code",
      "execution_count": 116,
      "id": "a530ed8a",
      "metadata": {
        "ExecuteTime": {
          "end_time": "2022-02-09T05:57:18.701549Z",
          "start_time": "2022-02-09T05:34:16.495972Z"
        },
        "execution": {
          "iopub.execute_input": "2022-02-23T04:03:16.383134Z",
          "iopub.status.busy": "2022-02-23T04:03:16.382415Z",
          "iopub.status.idle": "2022-02-23T04:24:57.736845Z",
          "shell.execute_reply": "2022-02-23T04:24:57.737538Z"
        },
        "papermill": {
          "duration": 1301.551399,
          "end_time": "2022-02-23T04:24:57.738180",
          "exception": false,
          "start_time": "2022-02-23T04:03:16.186781",
          "status": "completed"
        },
        "tags": [],
        "id": "a530ed8a",
        "outputId": "ba1d981c-6e5b-4dab-bd9b-6acaa80b1143",
        "colab": {
          "base_uri": "https://localhost:8080/"
        }
      },
      "outputs": [
        {
          "output_type": "stream",
          "name": "stdout",
          "text": [
            "Fitting 5 folds for each of 81 candidates, totalling 405 fits\n"
          ]
        }
      ],
      "source": [
        "# Setup grid hyperparameter search for LogisticRegression\n",
        "rf_hpt = GridSearchCV(RandomForestClassifier(random_state=42),\n",
        "                                param_grid=rf_grid,\n",
        "                                cv=5,\n",
        "                                verbose=True,\n",
        "                                n_jobs=-1)\n",
        "\n",
        "# Fit random hyperparameter search model\n",
        "rf_hpt.fit(X_train, y_train);"
      ]
    },
    {
      "cell_type": "code",
      "execution_count": 117,
      "id": "408d4005",
      "metadata": {
        "ExecuteTime": {
          "end_time": "2022-02-09T05:57:18.716552Z",
          "start_time": "2022-02-09T05:57:18.705549Z"
        },
        "execution": {
          "iopub.execute_input": "2022-02-23T04:24:58.149836Z",
          "iopub.status.busy": "2022-02-23T04:24:58.148771Z",
          "iopub.status.idle": "2022-02-23T04:24:58.154449Z",
          "shell.execute_reply": "2022-02-23T04:24:58.155062Z"
        },
        "papermill": {
          "duration": 0.200842,
          "end_time": "2022-02-23T04:24:58.155240",
          "exception": false,
          "start_time": "2022-02-23T04:24:57.954398",
          "status": "completed"
        },
        "tags": [],
        "id": "408d4005",
        "outputId": "7f947cf8-e7ce-42e6-89f3-d3113db3fe2c",
        "colab": {
          "base_uri": "https://localhost:8080/"
        }
      },
      "outputs": [
        {
          "output_type": "execute_result",
          "data": {
            "text/plain": [
              "{'max_depth': 15,\n",
              " 'min_samples_leaf': 6,\n",
              " 'min_samples_split': 14,\n",
              " 'n_estimators': 300}"
            ]
          },
          "metadata": {},
          "execution_count": 117
        }
      ],
      "source": [
        "# Check best parameters\n",
        "rf_hpt.best_params_"
      ]
    },
    {
      "cell_type": "code",
      "execution_count": 118,
      "id": "8c67111e",
      "metadata": {
        "ExecuteTime": {
          "end_time": "2022-02-09T05:57:20.492684Z",
          "start_time": "2022-02-09T05:57:18.720903Z"
        },
        "execution": {
          "iopub.execute_input": "2022-02-23T04:24:58.538550Z",
          "iopub.status.busy": "2022-02-23T04:24:58.537875Z",
          "iopub.status.idle": "2022-02-23T04:24:59.326758Z",
          "shell.execute_reply": "2022-02-23T04:24:59.326161Z"
        },
        "papermill": {
          "duration": 0.98702,
          "end_time": "2022-02-23T04:24:59.326925",
          "exception": false,
          "start_time": "2022-02-23T04:24:58.339905",
          "status": "completed"
        },
        "tags": [],
        "id": "8c67111e",
        "outputId": "b2c86613-4378-43d5-8aa4-c7dee9975a0f",
        "colab": {
          "base_uri": "https://localhost:8080/"
        }
      },
      "outputs": [
        {
          "output_type": "execute_result",
          "data": {
            "text/plain": [
              "0.7560744115413819"
            ]
          },
          "metadata": {},
          "execution_count": 118
        }
      ],
      "source": [
        "# Evaluating the tuned model\n",
        "rf_hpt.score(X_test, y_test)"
      ]
    },
    {
      "cell_type": "markdown",
      "id": "0f36f3ac",
      "metadata": {
        "papermill": {
          "duration": 0.193631,
          "end_time": "2022-02-23T04:24:59.711035",
          "exception": false,
          "start_time": "2022-02-23T04:24:59.517404",
          "status": "completed"
        },
        "tags": [],
        "id": "0f36f3ac"
      },
      "source": [
        "After Grid Search, the Random Forest model has an accuracy of 75.6%."
      ]
    },
    {
      "cell_type": "code",
      "execution_count": 119,
      "id": "8690322f",
      "metadata": {
        "ExecuteTime": {
          "end_time": "2022-02-09T05:57:20.630728Z",
          "start_time": "2022-02-09T05:57:20.495685Z"
        },
        "execution": {
          "iopub.execute_input": "2022-02-23T04:25:00.099348Z",
          "iopub.status.busy": "2022-02-23T04:25:00.098645Z",
          "iopub.status.idle": "2022-02-23T04:25:00.134676Z",
          "shell.execute_reply": "2022-02-23T04:25:00.135466Z"
        },
        "papermill": {
          "duration": 0.234249,
          "end_time": "2022-02-23T04:25:00.135671",
          "exception": false,
          "start_time": "2022-02-23T04:24:59.901422",
          "status": "completed"
        },
        "tags": [],
        "id": "8690322f"
      },
      "outputs": [],
      "source": [
        "# Save Random Forest Model\n",
        "pickle.dump(rf_hpt, open(\"rf_model.pk1\", \"wb\"))"
      ]
    },
    {
      "cell_type": "markdown",
      "id": "5fd981f2",
      "metadata": {
        "papermill": {
          "duration": 0.18906,
          "end_time": "2022-02-23T04:25:00.515289",
          "exception": false,
          "start_time": "2022-02-23T04:25:00.326229",
          "status": "completed"
        },
        "tags": [],
        "id": "5fd981f2"
      },
      "source": [
        "#### Model Evaluation"
      ]
    },
    {
      "cell_type": "code",
      "execution_count": 120,
      "id": "65a74059",
      "metadata": {
        "ExecuteTime": {
          "end_time": "2022-02-09T05:57:20.785956Z",
          "start_time": "2022-02-09T05:57:20.633728Z"
        },
        "execution": {
          "iopub.execute_input": "2022-02-23T04:25:00.913462Z",
          "iopub.status.busy": "2022-02-23T04:25:00.911889Z",
          "iopub.status.idle": "2022-02-23T04:25:00.948317Z",
          "shell.execute_reply": "2022-02-23T04:25:00.948901Z"
        },
        "papermill": {
          "duration": 0.236359,
          "end_time": "2022-02-23T04:25:00.949086",
          "exception": false,
          "start_time": "2022-02-23T04:25:00.712727",
          "status": "completed"
        },
        "tags": [],
        "id": "65a74059"
      },
      "outputs": [],
      "source": [
        "# Load pickled model\n",
        "rf_model = pickle.load(open(\"rf_model.pk1\", \"rb\"))"
      ]
    },
    {
      "cell_type": "code",
      "execution_count": 121,
      "id": "074fc928",
      "metadata": {
        "ExecuteTime": {
          "end_time": "2022-02-09T05:57:22.384344Z",
          "start_time": "2022-02-09T05:57:20.788806Z"
        },
        "execution": {
          "iopub.execute_input": "2022-02-23T04:25:01.347656Z",
          "iopub.status.busy": "2022-02-23T04:25:01.346496Z",
          "iopub.status.idle": "2022-02-23T04:25:02.246942Z",
          "shell.execute_reply": "2022-02-23T04:25:02.246279Z"
        },
        "papermill": {
          "duration": 1.102996,
          "end_time": "2022-02-23T04:25:02.247108",
          "exception": false,
          "start_time": "2022-02-23T04:25:01.144112",
          "status": "completed"
        },
        "tags": [],
        "id": "074fc928"
      },
      "outputs": [],
      "source": [
        "# Make predictions on test data\n",
        "y_pred = rf_model.predict(X_test)"
      ]
    },
    {
      "cell_type": "code",
      "execution_count": 122,
      "id": "311e79d5",
      "metadata": {
        "ExecuteTime": {
          "end_time": "2022-02-09T05:57:22.415350Z",
          "start_time": "2022-02-09T05:57:22.387348Z"
        },
        "execution": {
          "iopub.execute_input": "2022-02-23T04:25:02.639372Z",
          "iopub.status.busy": "2022-02-23T04:25:02.638357Z",
          "iopub.status.idle": "2022-02-23T04:25:02.649731Z",
          "shell.execute_reply": "2022-02-23T04:25:02.650837Z"
        },
        "papermill": {
          "duration": 0.215847,
          "end_time": "2022-02-23T04:25:02.651163",
          "exception": false,
          "start_time": "2022-02-23T04:25:02.435316",
          "status": "completed"
        },
        "tags": [],
        "id": "311e79d5",
        "outputId": "f68424e3-5324-4cbe-bb80-8e3a38c7ea4a",
        "colab": {
          "base_uri": "https://localhost:8080/"
        }
      },
      "outputs": [
        {
          "output_type": "stream",
          "name": "stdout",
          "text": [
            "[[1193   79    0   28    7]\n",
            " [  50 1145    0   86    7]\n",
            " [ 137  185   38   84  111]\n",
            " [ 164  140    1  893    7]\n",
            " [  64  114    0   21  714]]\n"
          ]
        }
      ],
      "source": [
        "# Print Confusion Matrix\n",
        "print(confusion_matrix(y_test, y_pred))"
      ]
    },
    {
      "cell_type": "code",
      "execution_count": 123,
      "id": "80d1174c",
      "metadata": {
        "ExecuteTime": {
          "end_time": "2022-02-09T05:57:22.865527Z",
          "start_time": "2022-02-09T05:57:22.419533Z"
        },
        "execution": {
          "iopub.execute_input": "2022-02-23T04:25:03.048862Z",
          "iopub.status.busy": "2022-02-23T04:25:03.048141Z",
          "iopub.status.idle": "2022-02-23T04:25:03.301866Z",
          "shell.execute_reply": "2022-02-23T04:25:03.301174Z"
        },
        "papermill": {
          "duration": 0.449823,
          "end_time": "2022-02-23T04:25:03.302029",
          "exception": false,
          "start_time": "2022-02-23T04:25:02.852206",
          "status": "completed"
        },
        "tags": [],
        "id": "80d1174c",
        "outputId": "6693f7fb-0425-4c22-e49f-28ec6e516caf",
        "colab": {
          "base_uri": "https://localhost:8080/",
          "height": 388
        }
      },
      "outputs": [
        {
          "output_type": "display_data",
          "data": {
            "text/plain": [
              "<Figure size 432x432 with 1 Axes>"
            ],
            "image/png": "[encoded data removed]"
          },
          "metadata": {
            "needs_background": "light"
          }
        }
      ],
      "source": [
        "# Visualize Confusion Matrix with heatmap\n",
        "fig, ax = plt.subplots(figsize=(6, 6))\n",
        "ax = sns.heatmap(confusion_matrix(y_test, y_pred),\n",
        "                 annot=True,\n",
        "                 cbar=False,\n",
        "                 cmap=\"RdYlGn\", fmt = '0.1f')\n",
        "plt.xlabel(\"Actual label\")\n",
        "plt.ylabel(\"Predicted label\")\n",
        "plt.show()"
      ]
    },
    {
      "cell_type": "code",
      "execution_count": 124,
      "id": "414754ca",
      "metadata": {
        "ExecuteTime": {
          "end_time": "2022-02-09T05:57:22.881424Z",
          "start_time": "2022-02-09T05:57:22.868393Z"
        },
        "execution": {
          "iopub.execute_input": "2022-02-23T04:25:03.696582Z",
          "iopub.status.busy": "2022-02-23T04:25:03.695619Z",
          "iopub.status.idle": "2022-02-23T04:25:03.698487Z",
          "shell.execute_reply": "2022-02-23T04:25:03.697888Z"
        },
        "papermill": {
          "duration": 0.203213,
          "end_time": "2022-02-23T04:25:03.698649",
          "exception": false,
          "start_time": "2022-02-23T04:25:03.495436",
          "status": "completed"
        },
        "tags": [],
        "id": "414754ca"
      },
      "outputs": [],
      "source": [
        "Topicnames_target = [\"Bank account services\", \"Credit card / Prepaid card\", \"Others\", \"Theft/Dispute reporting\", \"Mortgages/loans\"]"
      ]
    },
    {
      "cell_type": "code",
      "execution_count": 125,
      "id": "dcd1ad94",
      "metadata": {
        "ExecuteTime": {
          "end_time": "2022-02-09T05:57:22.911394Z",
          "start_time": "2022-02-09T05:57:22.885401Z"
        },
        "execution": {
          "iopub.execute_input": "2022-02-23T04:25:04.108594Z",
          "iopub.status.busy": "2022-02-23T04:25:04.107779Z",
          "iopub.status.idle": "2022-02-23T04:25:04.127985Z",
          "shell.execute_reply": "2022-02-23T04:25:04.127262Z"
        },
        "papermill": {
          "duration": 0.227042,
          "end_time": "2022-02-23T04:25:04.128144",
          "exception": false,
          "start_time": "2022-02-23T04:25:03.901102",
          "status": "completed"
        },
        "tags": [],
        "id": "dcd1ad94",
        "outputId": "011cb9b0-0f09-4b6d-fe36-e577022d08b0",
        "colab": {
          "base_uri": "https://localhost:8080/"
        }
      },
      "outputs": [
        {
          "output_type": "stream",
          "name": "stdout",
          "text": [
            "                            precision    recall  f1-score   support\n",
            "\n",
            "     Bank account services       0.74      0.91      0.82      1307\n",
            "Credit card / Prepaid card       0.69      0.89      0.78      1288\n",
            "                    Others       0.97      0.07      0.13       555\n",
            "   Theft/Dispute reporting       0.80      0.74      0.77      1205\n",
            "           Mortgages/loans       0.84      0.78      0.81       913\n",
            "\n",
            "                  accuracy                           0.76      5268\n",
            "                 macro avg       0.81      0.68      0.66      5268\n",
            "              weighted avg       0.79      0.76      0.72      5268\n",
            "\n"
          ]
        }
      ],
      "source": [
        "# Print Classification Report\n",
        "print(classification_report(y_test, y_pred, target_names = Topicnames_target))"
      ]
    },
    {
      "cell_type": "markdown",
      "id": "c2a38019",
      "metadata": {
        "papermill": {
          "duration": 0.198416,
          "end_time": "2022-02-23T04:25:04.522691",
          "exception": false,
          "start_time": "2022-02-23T04:25:04.324275",
          "status": "completed"
        },
        "tags": [],
        "id": "c2a38019"
      },
      "source": [
        "- The overall accuracy of the Random Forest model is **76%**\n",
        "- Precision and Accuracy are 81% and 68% respectively and we can see that the model overfits for \"Others\" category for Precision\n",
        "- This is a very poor model as compared to Logistic Regression where the accuracy was 92%"
      ]
    },
    {
      "cell_type": "markdown",
      "id": "94bb9c67",
      "metadata": {
        "papermill": {
          "duration": 0.196699,
          "end_time": "2022-02-23T04:25:04.924567",
          "exception": false,
          "start_time": "2022-02-23T04:25:04.727868",
          "status": "completed"
        },
        "tags": [],
        "id": "94bb9c67"
      },
      "source": [
        "## Overall Results"
      ]
    },
    {
      "cell_type": "markdown",
      "id": "6dc3d4a5",
      "metadata": {
        "papermill": {
          "duration": 0.200749,
          "end_time": "2022-02-23T04:25:05.317960",
          "exception": false,
          "start_time": "2022-02-23T04:25:05.117211",
          "status": "completed"
        },
        "tags": [],
        "id": "6dc3d4a5"
      },
      "source": [
        "We created three supervised models (Logistic Regression, Decision Tree Classifier and Random Forest Classifier) to predict any new complaints to the relevant Topics.\n",
        "\n",
        "**Results**\n",
        "\n",
        "*Logistic Regression*\n",
        "- The overall accuracy of the Logistic Regression model is **92%**.\n",
        "- Precision and Recall are 93% and 92% respectively which makes this is a very good model.\n",
        "\n",
        "*Decision Tree*\n",
        "- The overall accuracy of the Decision Tree model is **78%**\n",
        "- Precision and Recall are 78% and 78% respectively\n",
        "\n",
        "*Random Forest*\n",
        "- The overall accuracy of the Random Forest model is **76%**\n",
        "- Precision and Recall are 81% and 68% respectively and we can see that the model overfits for \"Others\" category for Precision"
      ]
    },
    {
      "cell_type": "markdown",
      "id": "776dd421",
      "metadata": {
        "papermill": {
          "duration": 0.198362,
          "end_time": "2022-02-23T04:25:05.711748",
          "exception": false,
          "start_time": "2022-02-23T04:25:05.513386",
          "status": "completed"
        },
        "tags": [],
        "id": "776dd421"
      },
      "source": [
        "## Conclusion"
      ]
    },
    {
      "cell_type": "markdown",
      "id": "d5b464f4",
      "metadata": {
        "ExecuteTime": {
          "end_time": "2022-02-07T23:50:24.206903Z",
          "start_time": "2022-02-07T23:50:24.185821Z"
        },
        "papermill": {
          "duration": 0.206153,
          "end_time": "2022-02-23T04:25:06.119698",
          "exception": false,
          "start_time": "2022-02-23T04:25:05.913545",
          "status": "completed"
        },
        "tags": [],
        "id": "d5b464f4"
      },
      "source": [
        "Based on the above results, Logistic Regression is the best model with an accuracy of **92%** with Precision and Recall as **93%** and **92%** respectively"
      ]
    }
  ],
  "metadata": {
    "kernelspec": {
      "display_name": "Python 3",
      "language": "python",
      "name": "python3"
    },
    "language_info": {
      "codemirror_mode": {
        "name": "ipython",
        "version": 3
      },
      "file_extension": ".py",
      "mimetype": "text/x-python",
      "name": "python",
      "nbconvert_exporter": "python",
      "pygments_lexer": "ipython3",
      "version": "3.7.12"
    },
    "papermill": {
      "default_parameters": {},
      "duration": 4124.695598,
      "end_time": "2022-02-23T04:25:08.934158",
      "environment_variables": {},
      "exception": null,
      "input_path": "__notebook__.ipynb",
      "output_path": "__notebook__.ipynb",
      "parameters": {},
      "start_time": "2022-02-23T03:16:24.238560",
      "version": "2.3.3"
    },
    "colab": {
      "name": "Suman_Sourav_Sahoo_NLP_Case_Study",
      "provenance": [],
      "include_colab_link": true
    }
  },
  "nbformat": 4,
  "nbformat_minor": 5
}